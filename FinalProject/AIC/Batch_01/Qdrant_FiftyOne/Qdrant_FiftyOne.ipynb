{
 "cells": [
  {
   "cell_type": "markdown",
   "id": "7edbb75d",
   "metadata": {},
   "source": [
    "Cài docker desktop\n",
    "\n",
    "Mở docker desktop\n",
    "\n",
    "chạy trong thư mục đang làm việc 2 lệnh sau:\n",
    "- docker pull qdrant/qdrant\n",
    "- docker run -p 6333:6333 qdrant/qdrant\n",
    "\n",
    "mở localhost:6333 để set api key\n",
    "\n",
    "chèn api key vào script bên dưới (chỗ compute similarity)\n",
    "\n",
    "chạy script bên dưới"
   ]
  },
  {
   "cell_type": "code",
   "execution_count": 1,
   "id": "f5a576d0",
   "metadata": {
    "colab": {
     "base_uri": "https://localhost:8080/"
    },
    "executionInfo": {
     "elapsed": 38205,
     "status": "ok",
     "timestamp": 1693550070344,
     "user": {
      "displayName": "Duyen Nguyen",
      "userId": "05537559569783534217"
     },
     "user_tz": -420
    },
    "id": "f5a576d0",
    "outputId": "9ab47f23-c28c-4a96-8f06-3fc50e3abdb1",
    "scrolled": true
   },
   "outputs": [
    {
     "name": "stdout",
     "output_type": "stream",
     "text": [
      "Requirement already satisfied: fiftyone==0.21.4 in /Users/duyennguyen/anaconda3/lib/python3.10/site-packages (0.21.4)\n",
      "Requirement already satisfied: strawberry-graphql==0.138.1 in /Users/duyennguyen/anaconda3/lib/python3.10/site-packages (from fiftyone==0.21.4) (0.138.1)\n",
      "Requirement already satisfied: pandas in /Users/duyennguyen/anaconda3/lib/python3.10/site-packages (from fiftyone==0.21.4) (2.1.0)\n",
      "Requirement already satisfied: scikit-learn in /Users/duyennguyen/anaconda3/lib/python3.10/site-packages (from fiftyone==0.21.4) (1.3.0)\n",
      "Requirement already satisfied: plotly>=4.14 in /Users/duyennguyen/anaconda3/lib/python3.10/site-packages (from fiftyone==0.21.4) (5.17.0)\n",
      "Requirement already satisfied: fiftyone-brain<0.14,>=0.13 in /Users/duyennguyen/anaconda3/lib/python3.10/site-packages (from fiftyone==0.21.4) (0.13.1)\n",
      "Requirement already satisfied: scikit-image in /Users/duyennguyen/anaconda3/lib/python3.10/site-packages (from fiftyone==0.21.4) (0.21.0)\n",
      "Requirement already satisfied: voxel51-eta<0.11,>=0.10 in /Users/duyennguyen/anaconda3/lib/python3.10/site-packages (from fiftyone==0.21.4) (0.10.0)\n",
      "Requirement already satisfied: psutil in /Users/duyennguyen/anaconda3/lib/python3.10/site-packages (from fiftyone==0.21.4) (5.9.0)\n",
      "Requirement already satisfied: sse-starlette<1,>=0.10.3 in /Users/duyennguyen/anaconda3/lib/python3.10/site-packages (from fiftyone==0.21.4) (0.10.3)\n",
      "Requirement already satisfied: starlette<0.27,>=0.24.0 in /Users/duyennguyen/anaconda3/lib/python3.10/site-packages (from fiftyone==0.21.4) (0.26.1)\n",
      "Requirement already satisfied: tabulate in /Users/duyennguyen/anaconda3/lib/python3.10/site-packages (from fiftyone==0.21.4) (0.9.0)\n",
      "Requirement already satisfied: future in /Users/duyennguyen/anaconda3/lib/python3.10/site-packages (from fiftyone==0.21.4) (0.18.3)\n",
      "Requirement already satisfied: ftfy in /Users/duyennguyen/anaconda3/lib/python3.10/site-packages (from fiftyone==0.21.4) (6.1.1)\n",
      "Requirement already satisfied: opencv-python-headless in /Users/duyennguyen/anaconda3/lib/python3.10/site-packages (from fiftyone==0.21.4) (4.8.0.76)\n",
      "Requirement already satisfied: fiftyone-db<0.5,>=0.4 in /Users/duyennguyen/anaconda3/lib/python3.10/site-packages (from fiftyone==0.21.4) (0.4.0)\n",
      "Requirement already satisfied: motor>=2.5 in /Users/duyennguyen/anaconda3/lib/python3.10/site-packages (from fiftyone==0.21.4) (3.3.1)\n",
      "Requirement already satisfied: eventlet in /Users/duyennguyen/anaconda3/lib/python3.10/site-packages (from fiftyone==0.21.4) (0.33.3)\n",
      "Requirement already satisfied: setuptools in /Users/duyennguyen/anaconda3/lib/python3.10/site-packages (from fiftyone==0.21.4) (65.6.3)\n",
      "Requirement already satisfied: packaging in /Users/duyennguyen/anaconda3/lib/python3.10/site-packages (from fiftyone==0.21.4) (23.1)\n",
      "Requirement already satisfied: cachetools in /Users/duyennguyen/anaconda3/lib/python3.10/site-packages (from fiftyone==0.21.4) (5.3.1)\n",
      "Requirement already satisfied: sseclient-py<2,>=1.7.2 in /Users/duyennguyen/anaconda3/lib/python3.10/site-packages (from fiftyone==0.21.4) (1.8.0)\n",
      "Requirement already satisfied: dacite<1.8.0,>=1.6.0 in /Users/duyennguyen/anaconda3/lib/python3.10/site-packages (from fiftyone==0.21.4) (1.7.0)\n",
      "Requirement already satisfied: boto3 in /Users/duyennguyen/anaconda3/lib/python3.10/site-packages (from fiftyone==0.21.4) (1.28.46)\n",
      "Requirement already satisfied: retrying in /Users/duyennguyen/anaconda3/lib/python3.10/site-packages (from fiftyone==0.21.4) (1.3.4)\n",
      "Requirement already satisfied: argcomplete in /Users/duyennguyen/anaconda3/lib/python3.10/site-packages (from fiftyone==0.21.4) (3.1.1)\n",
      "Requirement already satisfied: pytz in /Users/duyennguyen/anaconda3/lib/python3.10/site-packages (from fiftyone==0.21.4) (2022.7)\n",
      "Requirement already satisfied: kaleido in /Users/duyennguyen/anaconda3/lib/python3.10/site-packages (from fiftyone==0.21.4) (0.2.1)\n",
      "Requirement already satisfied: matplotlib in /Users/duyennguyen/anaconda3/lib/python3.10/site-packages (from fiftyone==0.21.4) (3.8.0)\n",
      "Requirement already satisfied: regex in /Users/duyennguyen/anaconda3/lib/python3.10/site-packages (from fiftyone==0.21.4) (2023.8.8)\n",
      "Requirement already satisfied: Jinja2>=3 in /Users/duyennguyen/anaconda3/lib/python3.10/site-packages (from fiftyone==0.21.4) (3.1.2)\n",
      "Requirement already satisfied: mongoengine==0.24.2 in /Users/duyennguyen/anaconda3/lib/python3.10/site-packages (from fiftyone==0.21.4) (0.24.2)\n",
      "Requirement already satisfied: numpy in /Users/duyennguyen/anaconda3/lib/python3.10/site-packages (from fiftyone==0.21.4) (1.24.0)\n",
      "Requirement already satisfied: aiofiles in /Users/duyennguyen/anaconda3/lib/python3.10/site-packages (from fiftyone==0.21.4) (23.2.1)\n",
      "Requirement already satisfied: Pillow>=6.2 in /Users/duyennguyen/anaconda3/lib/python3.10/site-packages (from fiftyone==0.21.4) (9.4.0)\n",
      "Requirement already satisfied: pprintpp in /Users/duyennguyen/anaconda3/lib/python3.10/site-packages (from fiftyone==0.21.4) (0.4.0)\n",
      "Requirement already satisfied: universal-analytics-python3<2,>=1.0.1 in /Users/duyennguyen/anaconda3/lib/python3.10/site-packages (from fiftyone==0.21.4) (1.1.1)\n",
      "Requirement already satisfied: Deprecated in /Users/duyennguyen/anaconda3/lib/python3.10/site-packages (from fiftyone==0.21.4) (1.2.14)\n",
      "Requirement already satisfied: PyYAML in /Users/duyennguyen/anaconda3/lib/python3.10/site-packages (from fiftyone==0.21.4) (6.0)\n",
      "Requirement already satisfied: hypercorn>=0.13.2 in /Users/duyennguyen/anaconda3/lib/python3.10/site-packages (from fiftyone==0.21.4) (0.14.4)\n",
      "Requirement already satisfied: pymongo>=3.12 in /Users/duyennguyen/anaconda3/lib/python3.10/site-packages (from fiftyone==0.21.4) (4.5.0)\n",
      "Requirement already satisfied: xmltodict in /Users/duyennguyen/anaconda3/lib/python3.10/site-packages (from fiftyone==0.21.4) (0.13.0)\n",
      "Requirement already satisfied: python-dateutil<3.0.0,>=2.7.0 in /Users/duyennguyen/anaconda3/lib/python3.10/site-packages (from strawberry-graphql==0.138.1->fiftyone==0.21.4) (2.8.2)\n",
      "Requirement already satisfied: typing_extensions<5.0.0,>=3.7.4 in /Users/duyennguyen/anaconda3/lib/python3.10/site-packages (from strawberry-graphql==0.138.1->fiftyone==0.21.4) (4.7.1)\n",
      "Requirement already satisfied: graphql-core<3.3.0,>=3.2.0 in /Users/duyennguyen/anaconda3/lib/python3.10/site-packages (from strawberry-graphql==0.138.1->fiftyone==0.21.4) (3.2.3)\n",
      "Requirement already satisfied: scipy>=1.2.0 in /Users/duyennguyen/anaconda3/lib/python3.10/site-packages (from fiftyone-brain<0.14,>=0.13->fiftyone==0.21.4) (1.11.2)\n",
      "Requirement already satisfied: priority in /Users/duyennguyen/anaconda3/lib/python3.10/site-packages (from hypercorn>=0.13.2->fiftyone==0.21.4) (2.0.0)\n",
      "Requirement already satisfied: tomli in /Users/duyennguyen/anaconda3/lib/python3.10/site-packages (from hypercorn>=0.13.2->fiftyone==0.21.4) (2.0.1)\n",
      "Requirement already satisfied: wsproto>=0.14.0 in /Users/duyennguyen/anaconda3/lib/python3.10/site-packages (from hypercorn>=0.13.2->fiftyone==0.21.4) (1.2.0)\n",
      "Requirement already satisfied: h2>=3.1.0 in /Users/duyennguyen/anaconda3/lib/python3.10/site-packages (from hypercorn>=0.13.2->fiftyone==0.21.4) (3.2.0)\n",
      "Requirement already satisfied: h11 in /Users/duyennguyen/anaconda3/lib/python3.10/site-packages (from hypercorn>=0.13.2->fiftyone==0.21.4) (0.14.0)\n",
      "Requirement already satisfied: MarkupSafe>=2.0 in /Users/duyennguyen/anaconda3/lib/python3.10/site-packages (from Jinja2>=3->fiftyone==0.21.4) (2.1.1)\n",
      "Requirement already satisfied: tenacity>=6.2.0 in /Users/duyennguyen/anaconda3/lib/python3.10/site-packages (from plotly>=4.14->fiftyone==0.21.4) (8.2.3)\n",
      "Requirement already satisfied: dnspython<3.0.0,>=1.16.0 in /Users/duyennguyen/anaconda3/lib/python3.10/site-packages (from pymongo>=3.12->fiftyone==0.21.4) (2.4.2)\n",
      "Requirement already satisfied: anyio<5,>=3.4.0 in /Users/duyennguyen/anaconda3/lib/python3.10/site-packages (from starlette<0.27,>=0.24.0->fiftyone==0.21.4) (3.7.1)\n",
      "Requirement already satisfied: httpx>=0.10.0 in /Users/duyennguyen/anaconda3/lib/python3.10/site-packages (from universal-analytics-python3<2,>=1.0.1->fiftyone==0.21.4) (0.24.1)\n",
      "Requirement already satisfied: sortedcontainers in /Users/duyennguyen/anaconda3/lib/python3.10/site-packages (from voxel51-eta<0.11,>=0.10->fiftyone==0.21.4) (2.4.0)\n",
      "Requirement already satisfied: urllib3 in /Users/duyennguyen/anaconda3/lib/python3.10/site-packages (from voxel51-eta<0.11,>=0.10->fiftyone==0.21.4) (1.26.16)\n",
      "Requirement already satisfied: dill in /Users/duyennguyen/anaconda3/lib/python3.10/site-packages (from voxel51-eta<0.11,>=0.10->fiftyone==0.21.4) (0.3.7)\n",
      "Requirement already satisfied: py7zr in /Users/duyennguyen/anaconda3/lib/python3.10/site-packages (from voxel51-eta<0.11,>=0.10->fiftyone==0.21.4) (0.20.6)\n",
      "Requirement already satisfied: requests in /Users/duyennguyen/anaconda3/lib/python3.10/site-packages (from voxel51-eta<0.11,>=0.10->fiftyone==0.21.4) (2.31.0)\n",
      "Requirement already satisfied: glob2 in /Users/duyennguyen/anaconda3/lib/python3.10/site-packages (from voxel51-eta<0.11,>=0.10->fiftyone==0.21.4) (0.7)\n",
      "Requirement already satisfied: six in /Users/duyennguyen/anaconda3/lib/python3.10/site-packages (from voxel51-eta<0.11,>=0.10->fiftyone==0.21.4) (1.16.0)\n",
      "Requirement already satisfied: rarfile in /Users/duyennguyen/anaconda3/lib/python3.10/site-packages (from voxel51-eta<0.11,>=0.10->fiftyone==0.21.4) (4.0)\n",
      "Requirement already satisfied: jsonlines in /Users/duyennguyen/anaconda3/lib/python3.10/site-packages (from voxel51-eta<0.11,>=0.10->fiftyone==0.21.4) (4.0.0)\n",
      "Requirement already satisfied: tzlocal in /Users/duyennguyen/anaconda3/lib/python3.10/site-packages (from voxel51-eta<0.11,>=0.10->fiftyone==0.21.4) (4.3.1)\n",
      "Requirement already satisfied: s3transfer<0.7.0,>=0.6.0 in /Users/duyennguyen/anaconda3/lib/python3.10/site-packages (from boto3->fiftyone==0.21.4) (0.6.2)\n",
      "Requirement already satisfied: botocore<1.32.0,>=1.31.46 in /Users/duyennguyen/anaconda3/lib/python3.10/site-packages (from boto3->fiftyone==0.21.4) (1.31.46)\n",
      "Requirement already satisfied: jmespath<2.0.0,>=0.7.1 in /Users/duyennguyen/anaconda3/lib/python3.10/site-packages (from boto3->fiftyone==0.21.4) (1.0.1)\n",
      "Requirement already satisfied: wrapt<2,>=1.10 in /Users/duyennguyen/anaconda3/lib/python3.10/site-packages (from Deprecated->fiftyone==0.21.4) (1.15.0)\n",
      "Requirement already satisfied: greenlet>=0.3 in /Users/duyennguyen/anaconda3/lib/python3.10/site-packages (from eventlet->fiftyone==0.21.4) (2.0.2)\n",
      "Requirement already satisfied: wcwidth>=0.2.5 in /Users/duyennguyen/anaconda3/lib/python3.10/site-packages (from ftfy->fiftyone==0.21.4) (0.2.5)\n",
      "Requirement already satisfied: pyparsing>=2.3.1 in /Users/duyennguyen/anaconda3/lib/python3.10/site-packages (from matplotlib->fiftyone==0.21.4) (3.1.1)\n",
      "Requirement already satisfied: kiwisolver>=1.0.1 in /Users/duyennguyen/anaconda3/lib/python3.10/site-packages (from matplotlib->fiftyone==0.21.4) (1.4.5)\n",
      "Requirement already satisfied: fonttools>=4.22.0 in /Users/duyennguyen/anaconda3/lib/python3.10/site-packages (from matplotlib->fiftyone==0.21.4) (4.42.1)\n",
      "Requirement already satisfied: contourpy>=1.0.1 in /Users/duyennguyen/anaconda3/lib/python3.10/site-packages (from matplotlib->fiftyone==0.21.4) (1.1.0)\n",
      "Requirement already satisfied: cycler>=0.10 in /Users/duyennguyen/anaconda3/lib/python3.10/site-packages (from matplotlib->fiftyone==0.21.4) (0.11.0)\n",
      "Requirement already satisfied: tzdata>=2022.1 in /Users/duyennguyen/anaconda3/lib/python3.10/site-packages (from pandas->fiftyone==0.21.4) (2023.3)\n",
      "Requirement already satisfied: lazy_loader>=0.2 in /Users/duyennguyen/anaconda3/lib/python3.10/site-packages (from scikit-image->fiftyone==0.21.4) (0.3)\n",
      "Requirement already satisfied: PyWavelets>=1.1.1 in /Users/duyennguyen/anaconda3/lib/python3.10/site-packages (from scikit-image->fiftyone==0.21.4) (1.4.1)\n",
      "Requirement already satisfied: networkx>=2.8 in /Users/duyennguyen/anaconda3/lib/python3.10/site-packages (from scikit-image->fiftyone==0.21.4) (3.1)\n",
      "Requirement already satisfied: tifffile>=2022.8.12 in /Users/duyennguyen/anaconda3/lib/python3.10/site-packages (from scikit-image->fiftyone==0.21.4) (2023.8.30)\n",
      "Requirement already satisfied: imageio>=2.27 in /Users/duyennguyen/anaconda3/lib/python3.10/site-packages (from scikit-image->fiftyone==0.21.4) (2.31.3)\n",
      "Requirement already satisfied: joblib>=1.1.1 in /Users/duyennguyen/anaconda3/lib/python3.10/site-packages (from scikit-learn->fiftyone==0.21.4) (1.3.2)\n",
      "Requirement already satisfied: threadpoolctl>=2.0.0 in /Users/duyennguyen/anaconda3/lib/python3.10/site-packages (from scikit-learn->fiftyone==0.21.4) (3.2.0)\n",
      "Requirement already satisfied: sniffio>=1.1 in /Users/duyennguyen/anaconda3/lib/python3.10/site-packages (from anyio<5,>=3.4.0->starlette<0.27,>=0.24.0->fiftyone==0.21.4) (1.3.0)\n",
      "Requirement already satisfied: exceptiongroup in /Users/duyennguyen/anaconda3/lib/python3.10/site-packages (from anyio<5,>=3.4.0->starlette<0.27,>=0.24.0->fiftyone==0.21.4) (1.0.4)\n",
      "Requirement already satisfied: idna>=2.8 in /Users/duyennguyen/anaconda3/lib/python3.10/site-packages (from anyio<5,>=3.4.0->starlette<0.27,>=0.24.0->fiftyone==0.21.4) (2.10)\n",
      "Requirement already satisfied: hpack<4,>=3.0 in /Users/duyennguyen/anaconda3/lib/python3.10/site-packages (from h2>=3.1.0->hypercorn>=0.13.2->fiftyone==0.21.4) (3.0.0)\n",
      "Requirement already satisfied: hyperframe<6,>=5.2.0 in /Users/duyennguyen/anaconda3/lib/python3.10/site-packages (from h2>=3.1.0->hypercorn>=0.13.2->fiftyone==0.21.4) (5.2.0)\n",
      "Requirement already satisfied: certifi in /Users/duyennguyen/anaconda3/lib/python3.10/site-packages (from httpx>=0.10.0->universal-analytics-python3<2,>=1.0.1->fiftyone==0.21.4) (2023.7.22)\n",
      "Requirement already satisfied: httpcore<0.18.0,>=0.15.0 in /Users/duyennguyen/anaconda3/lib/python3.10/site-packages (from httpx>=0.10.0->universal-analytics-python3<2,>=1.0.1->fiftyone==0.21.4) (0.17.3)\n",
      "Requirement already satisfied: attrs>=19.2.0 in /Users/duyennguyen/anaconda3/lib/python3.10/site-packages (from jsonlines->voxel51-eta<0.11,>=0.10->fiftyone==0.21.4) (22.1.0)\n",
      "Requirement already satisfied: pyppmd<1.1.0,>=0.18.1 in /Users/duyennguyen/anaconda3/lib/python3.10/site-packages (from py7zr->voxel51-eta<0.11,>=0.10->fiftyone==0.21.4) (1.0.0)\n",
      "Requirement already satisfied: brotli>=1.0.9 in /Users/duyennguyen/anaconda3/lib/python3.10/site-packages (from py7zr->voxel51-eta<0.11,>=0.10->fiftyone==0.21.4) (1.1.0)\n",
      "Requirement already satisfied: inflate64>=0.3.1 in /Users/duyennguyen/anaconda3/lib/python3.10/site-packages (from py7zr->voxel51-eta<0.11,>=0.10->fiftyone==0.21.4) (0.3.1)\n",
      "Requirement already satisfied: texttable in /Users/duyennguyen/anaconda3/lib/python3.10/site-packages (from py7zr->voxel51-eta<0.11,>=0.10->fiftyone==0.21.4) (1.6.7)\n",
      "Requirement already satisfied: pycryptodomex>=3.6.6 in /Users/duyennguyen/anaconda3/lib/python3.10/site-packages (from py7zr->voxel51-eta<0.11,>=0.10->fiftyone==0.21.4) (3.18.0)\n",
      "Requirement already satisfied: pybcj>=0.6.0 in /Users/duyennguyen/anaconda3/lib/python3.10/site-packages (from py7zr->voxel51-eta<0.11,>=0.10->fiftyone==0.21.4) (1.0.1)\n",
      "Requirement already satisfied: multivolumefile>=0.2.3 in /Users/duyennguyen/anaconda3/lib/python3.10/site-packages (from py7zr->voxel51-eta<0.11,>=0.10->fiftyone==0.21.4) (0.2.3)\n",
      "Requirement already satisfied: pyzstd>=0.14.4 in /Users/duyennguyen/anaconda3/lib/python3.10/site-packages (from py7zr->voxel51-eta<0.11,>=0.10->fiftyone==0.21.4) (0.15.9)\n",
      "Requirement already satisfied: charset-normalizer<4,>=2 in /Users/duyennguyen/anaconda3/lib/python3.10/site-packages (from requests->voxel51-eta<0.11,>=0.10->fiftyone==0.21.4) (2.0.4)\n",
      "Requirement already satisfied: pytz-deprecation-shim in /Users/duyennguyen/anaconda3/lib/python3.10/site-packages (from tzlocal->voxel51-eta<0.11,>=0.10->fiftyone==0.21.4) (0.1.0.post0)\n",
      "Requirement already satisfied: torch in /Users/duyennguyen/anaconda3/lib/python3.10/site-packages (2.0.1)\n",
      "Requirement already satisfied: torchvision in /Users/duyennguyen/anaconda3/lib/python3.10/site-packages (0.15.2)\n",
      "Requirement already satisfied: torchaudio in /Users/duyennguyen/anaconda3/lib/python3.10/site-packages (2.0.2)\n",
      "Requirement already satisfied: filelock in /Users/duyennguyen/anaconda3/lib/python3.10/site-packages (from torch) (3.9.0)\n",
      "Requirement already satisfied: typing-extensions in /Users/duyennguyen/anaconda3/lib/python3.10/site-packages (from torch) (4.7.1)\n",
      "Requirement already satisfied: networkx in /Users/duyennguyen/anaconda3/lib/python3.10/site-packages (from torch) (3.1)\n",
      "Requirement already satisfied: jinja2 in /Users/duyennguyen/anaconda3/lib/python3.10/site-packages (from torch) (3.1.2)\n",
      "Requirement already satisfied: sympy in /Users/duyennguyen/anaconda3/lib/python3.10/site-packages (from torch) (1.11.1)\n",
      "Requirement already satisfied: requests in /Users/duyennguyen/anaconda3/lib/python3.10/site-packages (from torchvision) (2.31.0)\n",
      "Requirement already satisfied: numpy in /Users/duyennguyen/anaconda3/lib/python3.10/site-packages (from torchvision) (1.24.0)\n",
      "Requirement already satisfied: pillow!=8.3.*,>=5.3.0 in /Users/duyennguyen/anaconda3/lib/python3.10/site-packages (from torchvision) (9.4.0)\n",
      "Requirement already satisfied: MarkupSafe>=2.0 in /Users/duyennguyen/anaconda3/lib/python3.10/site-packages (from jinja2->torch) (2.1.1)\n",
      "Requirement already satisfied: idna<4,>=2.5 in /Users/duyennguyen/anaconda3/lib/python3.10/site-packages (from requests->torchvision) (2.10)\n",
      "Requirement already satisfied: certifi>=2017.4.17 in /Users/duyennguyen/anaconda3/lib/python3.10/site-packages (from requests->torchvision) (2023.7.22)\n",
      "Requirement already satisfied: urllib3<3,>=1.21.1 in /Users/duyennguyen/anaconda3/lib/python3.10/site-packages (from requests->torchvision) (1.26.16)\n",
      "Requirement already satisfied: charset-normalizer<4,>=2 in /Users/duyennguyen/anaconda3/lib/python3.10/site-packages (from requests->torchvision) (2.0.4)\n",
      "Requirement already satisfied: mpmath>=0.19 in /Users/duyennguyen/anaconda3/lib/python3.10/site-packages (from sympy->torch) (1.3.0)\n",
      "Requirement already satisfied: ipywidgets in /Users/duyennguyen/anaconda3/lib/python3.10/site-packages (8.0.4)\n",
      "Requirement already satisfied: traitlets>=4.3.1 in /Users/duyennguyen/anaconda3/lib/python3.10/site-packages (from ipywidgets) (5.7.1)\n",
      "Requirement already satisfied: ipykernel>=4.5.1 in /Users/duyennguyen/anaconda3/lib/python3.10/site-packages (from ipywidgets) (6.25.0)\n",
      "Requirement already satisfied: ipython>=6.1.0 in /Users/duyennguyen/anaconda3/lib/python3.10/site-packages (from ipywidgets) (8.15.0)\n",
      "Requirement already satisfied: widgetsnbextension~=4.0 in /Users/duyennguyen/anaconda3/lib/python3.10/site-packages (from ipywidgets) (4.0.5)\n",
      "Requirement already satisfied: jupyterlab-widgets~=3.0 in /Users/duyennguyen/anaconda3/lib/python3.10/site-packages (from ipywidgets) (3.0.5)\n",
      "Requirement already satisfied: pyzmq>=20 in /Users/duyennguyen/anaconda3/lib/python3.10/site-packages (from ipykernel>=4.5.1->ipywidgets) (23.2.0)\n",
      "Requirement already satisfied: psutil in /Users/duyennguyen/anaconda3/lib/python3.10/site-packages (from ipykernel>=4.5.1->ipywidgets) (5.9.0)\n",
      "Requirement already satisfied: matplotlib-inline>=0.1 in /Users/duyennguyen/anaconda3/lib/python3.10/site-packages (from ipykernel>=4.5.1->ipywidgets) (0.1.6)\n",
      "Requirement already satisfied: comm>=0.1.1 in /Users/duyennguyen/anaconda3/lib/python3.10/site-packages (from ipykernel>=4.5.1->ipywidgets) (0.1.2)\n",
      "Requirement already satisfied: debugpy>=1.6.5 in /Users/duyennguyen/anaconda3/lib/python3.10/site-packages (from ipykernel>=4.5.1->ipywidgets) (1.6.7)\n",
      "Requirement already satisfied: jupyter-core!=5.0.*,>=4.12 in /Users/duyennguyen/anaconda3/lib/python3.10/site-packages (from ipykernel>=4.5.1->ipywidgets) (5.3.0)\n",
      "Requirement already satisfied: nest-asyncio in /Users/duyennguyen/anaconda3/lib/python3.10/site-packages (from ipykernel>=4.5.1->ipywidgets) (1.5.6)\n",
      "Requirement already satisfied: packaging in /Users/duyennguyen/anaconda3/lib/python3.10/site-packages (from ipykernel>=4.5.1->ipywidgets) (23.1)\n",
      "Requirement already satisfied: tornado>=6.1 in /Users/duyennguyen/anaconda3/lib/python3.10/site-packages (from ipykernel>=4.5.1->ipywidgets) (6.3.2)\n",
      "Requirement already satisfied: appnope in /Users/duyennguyen/anaconda3/lib/python3.10/site-packages (from ipykernel>=4.5.1->ipywidgets) (0.1.2)\n",
      "Requirement already satisfied: jupyter-client>=6.1.12 in /Users/duyennguyen/anaconda3/lib/python3.10/site-packages (from ipykernel>=4.5.1->ipywidgets) (7.4.9)\n",
      "Requirement already satisfied: pexpect>4.3 in /Users/duyennguyen/anaconda3/lib/python3.10/site-packages (from ipython>=6.1.0->ipywidgets) (4.8.0)\n",
      "Requirement already satisfied: backcall in /Users/duyennguyen/anaconda3/lib/python3.10/site-packages (from ipython>=6.1.0->ipywidgets) (0.2.0)\n",
      "Requirement already satisfied: decorator in /Users/duyennguyen/anaconda3/lib/python3.10/site-packages (from ipython>=6.1.0->ipywidgets) (5.1.1)\n",
      "Requirement already satisfied: stack-data in /Users/duyennguyen/anaconda3/lib/python3.10/site-packages (from ipython>=6.1.0->ipywidgets) (0.2.0)\n",
      "Requirement already satisfied: exceptiongroup in /Users/duyennguyen/anaconda3/lib/python3.10/site-packages (from ipython>=6.1.0->ipywidgets) (1.0.4)\n",
      "Requirement already satisfied: pickleshare in /Users/duyennguyen/anaconda3/lib/python3.10/site-packages (from ipython>=6.1.0->ipywidgets) (0.7.5)\n",
      "Requirement already satisfied: jedi>=0.16 in /Users/duyennguyen/anaconda3/lib/python3.10/site-packages (from ipython>=6.1.0->ipywidgets) (0.18.1)\n",
      "Requirement already satisfied: pygments>=2.4.0 in /Users/duyennguyen/anaconda3/lib/python3.10/site-packages (from ipython>=6.1.0->ipywidgets) (2.15.1)\n",
      "Requirement already satisfied: prompt-toolkit!=3.0.37,<3.1.0,>=3.0.30 in /Users/duyennguyen/anaconda3/lib/python3.10/site-packages (from ipython>=6.1.0->ipywidgets) (3.0.36)\n",
      "Requirement already satisfied: parso<0.9.0,>=0.8.0 in /Users/duyennguyen/anaconda3/lib/python3.10/site-packages (from jedi>=0.16->ipython>=6.1.0->ipywidgets) (0.8.3)\n",
      "Requirement already satisfied: python-dateutil>=2.8.2 in /Users/duyennguyen/anaconda3/lib/python3.10/site-packages (from jupyter-client>=6.1.12->ipykernel>=4.5.1->ipywidgets) (2.8.2)\n",
      "Requirement already satisfied: entrypoints in /Users/duyennguyen/anaconda3/lib/python3.10/site-packages (from jupyter-client>=6.1.12->ipykernel>=4.5.1->ipywidgets) (0.4)\n",
      "Requirement already satisfied: platformdirs>=2.5 in /Users/duyennguyen/anaconda3/lib/python3.10/site-packages (from jupyter-core!=5.0.*,>=4.12->ipykernel>=4.5.1->ipywidgets) (3.10.0)\n",
      "Requirement already satisfied: ptyprocess>=0.5 in /Users/duyennguyen/anaconda3/lib/python3.10/site-packages (from pexpect>4.3->ipython>=6.1.0->ipywidgets) (0.7.0)\n",
      "Requirement already satisfied: wcwidth in /Users/duyennguyen/anaconda3/lib/python3.10/site-packages (from prompt-toolkit!=3.0.37,<3.1.0,>=3.0.30->ipython>=6.1.0->ipywidgets) (0.2.5)\n",
      "Requirement already satisfied: pure-eval in /Users/duyennguyen/anaconda3/lib/python3.10/site-packages (from stack-data->ipython>=6.1.0->ipywidgets) (0.2.2)\n",
      "Requirement already satisfied: asttokens in /Users/duyennguyen/anaconda3/lib/python3.10/site-packages (from stack-data->ipython>=6.1.0->ipywidgets) (2.0.5)\n",
      "Requirement already satisfied: executing in /Users/duyennguyen/anaconda3/lib/python3.10/site-packages (from stack-data->ipython>=6.1.0->ipywidgets) (0.8.3)\n",
      "Requirement already satisfied: six>=1.5 in /Users/duyennguyen/anaconda3/lib/python3.10/site-packages (from python-dateutil>=2.8.2->jupyter-client>=6.1.12->ipykernel>=4.5.1->ipywidgets) (1.16.0)\n",
      "Requirement already satisfied: qdrant-client in /Users/duyennguyen/anaconda3/lib/python3.10/site-packages (1.5.4)\n",
      "Requirement already satisfied: portalocker<3.0.0,>=2.7.0 in /Users/duyennguyen/anaconda3/lib/python3.10/site-packages (from qdrant-client) (2.8.2)\n",
      "Requirement already satisfied: httpx[http2]>=0.14.0 in /Users/duyennguyen/anaconda3/lib/python3.10/site-packages (from qdrant-client) (0.24.1)\n",
      "Requirement already satisfied: urllib3<2.0.0,>=1.26.14 in /Users/duyennguyen/anaconda3/lib/python3.10/site-packages (from qdrant-client) (1.26.16)\n",
      "Requirement already satisfied: pydantic>=1.10.8 in /Users/duyennguyen/anaconda3/lib/python3.10/site-packages (from qdrant-client) (1.10.9)\n",
      "Requirement already satisfied: grpcio>=1.41.0 in /Users/duyennguyen/anaconda3/lib/python3.10/site-packages (from qdrant-client) (1.59.0)\n",
      "Requirement already satisfied: grpcio-tools>=1.41.0 in /Users/duyennguyen/anaconda3/lib/python3.10/site-packages (from qdrant-client) (1.58.0)\n",
      "Requirement already satisfied: numpy>=1.21 in /Users/duyennguyen/anaconda3/lib/python3.10/site-packages (from qdrant-client) (1.24.0)\n",
      "Requirement already satisfied: setuptools in /Users/duyennguyen/anaconda3/lib/python3.10/site-packages (from grpcio-tools>=1.41.0->qdrant-client) (65.6.3)\n",
      "Requirement already satisfied: protobuf<5.0dev,>=4.21.6 in /Users/duyennguyen/anaconda3/lib/python3.10/site-packages (from grpcio-tools>=1.41.0->qdrant-client) (4.23.3)\n",
      "Requirement already satisfied: sniffio in /Users/duyennguyen/anaconda3/lib/python3.10/site-packages (from httpx[http2]>=0.14.0->qdrant-client) (1.3.0)\n",
      "Requirement already satisfied: httpcore<0.18.0,>=0.15.0 in /Users/duyennguyen/anaconda3/lib/python3.10/site-packages (from httpx[http2]>=0.14.0->qdrant-client) (0.17.3)\n",
      "Requirement already satisfied: certifi in /Users/duyennguyen/anaconda3/lib/python3.10/site-packages (from httpx[http2]>=0.14.0->qdrant-client) (2023.7.22)\n",
      "Requirement already satisfied: idna in /Users/duyennguyen/anaconda3/lib/python3.10/site-packages (from httpx[http2]>=0.14.0->qdrant-client) (2.10)\n",
      "Requirement already satisfied: h2<5,>=3 in /Users/duyennguyen/anaconda3/lib/python3.10/site-packages (from httpx[http2]>=0.14.0->qdrant-client) (3.2.0)\n",
      "Requirement already satisfied: typing-extensions>=4.2.0 in /Users/duyennguyen/anaconda3/lib/python3.10/site-packages (from pydantic>=1.10.8->qdrant-client) (4.7.1)\n",
      "Requirement already satisfied: hyperframe<6,>=5.2.0 in /Users/duyennguyen/anaconda3/lib/python3.10/site-packages (from h2<5,>=3->httpx[http2]>=0.14.0->qdrant-client) (5.2.0)\n",
      "Requirement already satisfied: hpack<4,>=3.0 in /Users/duyennguyen/anaconda3/lib/python3.10/site-packages (from h2<5,>=3->httpx[http2]>=0.14.0->qdrant-client) (3.0.0)\n",
      "Requirement already satisfied: anyio<5.0,>=3.0 in /Users/duyennguyen/anaconda3/lib/python3.10/site-packages (from httpcore<0.18.0,>=0.15.0->httpx[http2]>=0.14.0->qdrant-client) (3.7.1)\n",
      "Requirement already satisfied: h11<0.15,>=0.13 in /Users/duyennguyen/anaconda3/lib/python3.10/site-packages (from httpcore<0.18.0,>=0.15.0->httpx[http2]>=0.14.0->qdrant-client) (0.14.0)\n",
      "Requirement already satisfied: exceptiongroup in /Users/duyennguyen/anaconda3/lib/python3.10/site-packages (from anyio<5.0,>=3.0->httpcore<0.18.0,>=0.15.0->httpx[http2]>=0.14.0->qdrant-client) (1.0.4)\n",
      "Requirement already satisfied: httpcore==0.17.3 in /Users/duyennguyen/anaconda3/lib/python3.10/site-packages (0.17.3)\n",
      "Requirement already satisfied: anyio<5.0,>=3.0 in /Users/duyennguyen/anaconda3/lib/python3.10/site-packages (from httpcore==0.17.3) (3.7.1)\n",
      "Requirement already satisfied: sniffio==1.* in /Users/duyennguyen/anaconda3/lib/python3.10/site-packages (from httpcore==0.17.3) (1.3.0)\n",
      "Requirement already satisfied: h11<0.15,>=0.13 in /Users/duyennguyen/anaconda3/lib/python3.10/site-packages (from httpcore==0.17.3) (0.14.0)\n",
      "Requirement already satisfied: certifi in /Users/duyennguyen/anaconda3/lib/python3.10/site-packages (from httpcore==0.17.3) (2023.7.22)\n",
      "Requirement already satisfied: idna>=2.8 in /Users/duyennguyen/anaconda3/lib/python3.10/site-packages (from anyio<5.0,>=3.0->httpcore==0.17.3) (2.10)\n",
      "Requirement already satisfied: exceptiongroup in /Users/duyennguyen/anaconda3/lib/python3.10/site-packages (from anyio<5.0,>=3.0->httpcore==0.17.3) (1.0.4)\n",
      "Requirement already satisfied: httpx==0.24.1 in /Users/duyennguyen/anaconda3/lib/python3.10/site-packages (0.24.1)\n",
      "Requirement already satisfied: sniffio in /Users/duyennguyen/anaconda3/lib/python3.10/site-packages (from httpx==0.24.1) (1.3.0)\n",
      "Requirement already satisfied: certifi in /Users/duyennguyen/anaconda3/lib/python3.10/site-packages (from httpx==0.24.1) (2023.7.22)\n",
      "Requirement already satisfied: httpcore<0.18.0,>=0.15.0 in /Users/duyennguyen/anaconda3/lib/python3.10/site-packages (from httpx==0.24.1) (0.17.3)\n",
      "Requirement already satisfied: idna in /Users/duyennguyen/anaconda3/lib/python3.10/site-packages (from httpx==0.24.1) (2.10)\n",
      "Requirement already satisfied: anyio<5.0,>=3.0 in /Users/duyennguyen/anaconda3/lib/python3.10/site-packages (from httpcore<0.18.0,>=0.15.0->httpx==0.24.1) (3.7.1)\n",
      "Requirement already satisfied: h11<0.15,>=0.13 in /Users/duyennguyen/anaconda3/lib/python3.10/site-packages (from httpcore<0.18.0,>=0.15.0->httpx==0.24.1) (0.14.0)\n",
      "Requirement already satisfied: exceptiongroup in /Users/duyennguyen/anaconda3/lib/python3.10/site-packages (from anyio<5.0,>=3.0->httpcore<0.18.0,>=0.15.0->httpx==0.24.1) (1.0.4)\n",
      "Requirement already satisfied: h11==0.14.0 in /Users/duyennguyen/anaconda3/lib/python3.10/site-packages (0.14.0)\n"
     ]
    }
   ],
   "source": [
    "! pip install fiftyone==0.21.4\n",
    "! pip install torch torchvision torchaudio\n",
    "! pip install ipywidgets\n",
    "! pip install qdrant-client\n",
    "! pip install httpcore==0.17.3\n",
    "! pip install httpx==0.24.1\n",
    "! pip install h11==0.14.0\n"
   ]
  },
  {
   "cell_type": "code",
   "execution_count": 2,
   "id": "357d4489",
   "metadata": {
    "colab": {
     "base_uri": "https://localhost:8080/",
     "height": 385
    },
    "executionInfo": {
     "elapsed": 67062,
     "status": "error",
     "timestamp": 1693550145886,
     "user": {
      "displayName": "Duyen Nguyen",
      "userId": "05537559569783534217"
     },
     "user_tz": -420
    },
    "id": "357d4489",
    "outputId": "6ae1ea87-95f0-4d8d-92b3-c319c10310c0"
   },
   "outputs": [],
   "source": [
    "import fiftyone as fo\n",
    "import fiftyone.brain as fob\n",
    "import numpy as np\n",
    "from glob import glob\n",
    "import json\n",
    "import os"
   ]
  },
  {
   "cell_type": "code",
   "execution_count": 3,
   "id": "9e072688",
   "metadata": {
    "id": "9e072688"
   },
   "outputs": [
    {
     "name": "stdout",
     "output_type": "stream",
     "text": [
      " 100% |█████████████| 87306/87306 [5.9s elapsed, 0s remaining, 14.8K samples/s]      \n"
     ]
    }
   ],
   "source": [
    "# load dataset\n",
    "dataset = fo.Dataset.from_images_dir('/Users/duyennguyen/Downloads/AIC/Batch_01/Keyframes', name=None, tags=None, recursive=True)"
   ]
  },
  {
   "cell_type": "markdown",
   "id": "28298924",
   "metadata": {
    "id": "28298924"
   },
   "source": [
    "### Trích xuất thêm thông tin tên của video và frameid\n",
    "Thông tin `video` và `frameid` sẽ được lấy từ tên của tập tin keyframe."
   ]
  },
  {
   "cell_type": "code",
   "execution_count": 4,
   "id": "a8ee02ad",
   "metadata": {
    "id": "a8ee02ad"
   },
   "outputs": [],
   "source": [
    "for sample in dataset:\n",
    "    _, sample['video'], sample['frameid'] = sample['filepath'][:-4].rsplit('/', 2)\n",
    "    sample.save()"
   ]
  },
  {
   "cell_type": "markdown",
   "id": "4309a34f",
   "metadata": {
    "id": "4309a34f"
   },
   "source": [
    "### Thêm thông tin kết quả của object detection.\n",
    "\n",
    "Bước này có thể tốn của bạn nhiều thời gian để đọc hết tất cả các dữ liệu về object detection. Bạn có thể bỏ qua cell này và chạy cell này sau nếu muốn thử thêm các thông tin về vector CLIP embedding trước."
   ]
  },
  {
   "cell_type": "code",
   "execution_count": 5,
   "id": "ad1c4395",
   "metadata": {
    "id": "ad1c4395"
   },
   "outputs": [],
   "source": [
    "for sample in dataset:\n",
    "    object_path = f\"/Users/duyennguyen/Downloads/AIC/Batch_01/objects/{sample['video']}/{sample['frameid']}.json\"\n",
    "    with open(object_path) as jsonfile:\n",
    "        det_data = json.load(jsonfile)\n",
    "    detections = []\n",
    "    for cls, box, score in zip(det_data['detection_class_entities'], det_data['detection_boxes'], det_data['detection_scores']):\n",
    "        # Convert to [top-left-x, top-left-y, width, height]\n",
    "        boxf = [float(box[1]), float(box[0]), float(box[3]) - float(box[1]), float(box[2]) - float(box[0])]\n",
    "        scoref = float(score)\n",
    "\n",
    "        # Only add objects with confidence > 0.4\n",
    "        if scoref > 0.4:\n",
    "            detections.append(\n",
    "                fo.Detection(\n",
    "                    label=cls,\n",
    "                    bounding_box= boxf,\n",
    "                    confidence=float(score)\n",
    "                )\n",
    "            )\n",
    "        \n",
    "    sample[\"object_faster_rcnn\"] = fo.Detections(detections=detections)\n",
    "    sample.save()"
   ]
  },
  {
   "cell_type": "markdown",
   "id": "e287dbb4",
   "metadata": {
    "id": "e287dbb4"
   },
   "source": [
    "### Thêm thông tin CLIP embedding."
   ]
  },
  {
   "cell_type": "code",
   "execution_count": 6,
   "id": "58d5d9ca",
   "metadata": {
    "id": "58d5d9ca"
   },
   "outputs": [],
   "source": [
    "all_keyframe = glob('/Users/duyennguyen/Downloads/AIC/Batch_01/Keyframes/*/keyframes-*/*/*.jpg')\n",
    "video_keyframe_dict = {}\n",
    "all_video = glob('/Users/duyennguyen/Downloads/AIC/Batch_01/Keyframes/*/keyframes-*/*')\n",
    "all_video = [v.rsplit('/',1)[-1] for v in all_video]"
   ]
  },
  {
   "cell_type": "markdown",
   "id": "53460b70",
   "metadata": {
    "id": "53460b70"
   },
   "source": [
    "Đọc thông tin clip embedding được cung cấp.\n",
    "\n",
    "Lưu ý: Các bạn cần tải đúng bản CLIP embedding từ model **CLIP ViT-B/32**"
   ]
  },
  {
   "cell_type": "markdown",
   "id": "cb927629",
   "metadata": {
    "id": "cb927629"
   },
   "source": [
    "Tạo dictionary `video_keyframe_dict` với `video_keyframe_dict[video]` thông tin danh sách `keyframe` của `video`"
   ]
  },
  {
   "cell_type": "code",
   "execution_count": 7,
   "id": "f33da133",
   "metadata": {
    "id": "f33da133"
   },
   "outputs": [],
   "source": [
    "for kf in all_keyframe:\n",
    "    _, vid, kf = kf[:-4].rsplit('/',2)\n",
    "    if vid not in video_keyframe_dict.keys():\n",
    "        video_keyframe_dict[vid] = [kf]\n",
    "    else:\n",
    "        video_keyframe_dict[vid].append(kf)"
   ]
  },
  {
   "cell_type": "markdown",
   "id": "faefe0bf",
   "metadata": {
    "id": "faefe0bf"
   },
   "source": [
    "Do thông tin vector CLIP embedding được cung cấp được lưu theo từng video nhầm mục đích tối ưu thời gian đọc dữ liệu. Cần sort lại danh sách `keyframe` của từng `video` để đảm bảo thứ tự đọc đúng với vector embedding được cung cấp."
   ]
  },
  {
   "cell_type": "code",
   "execution_count": 8,
   "id": "4b0fad7a",
   "metadata": {
    "id": "4b0fad7a"
   },
   "outputs": [],
   "source": [
    "for k,v in video_keyframe_dict.items():\n",
    "    video_keyframe_dict[k] = sorted(v)"
   ]
  },
  {
   "cell_type": "markdown",
   "id": "9d99d121",
   "metadata": {
    "id": "9d99d121"
   },
   "source": [
    "Tạo dictionary `embedding_dict` với `embedding_dict[video][keyframe]` lưu thông tin vector CLIP embedding của `keyframe` trong `video` tương ứng"
   ]
  },
  {
   "cell_type": "code",
   "execution_count": 9,
   "id": "a5d94d7b",
   "metadata": {
    "id": "a5d94d7b"
   },
   "outputs": [],
   "source": [
    "embedding_dict = {}\n",
    "for v in all_video:\n",
    "    clip_path = f'/Users/duyennguyen/Downloads/AIC/Batch_01/clip-features-vit-b32/{v}.npy'\n",
    "    a = np.load(clip_path)\n",
    "    embedding_dict[v] = {}\n",
    "    for i,k in enumerate(video_keyframe_dict[v]):\n",
    "        embedding_dict[v][k] = a[i]"
   ]
  },
  {
   "cell_type": "markdown",
   "id": "5ea0432e",
   "metadata": {
    "id": "5ea0432e"
   },
   "source": [
    "Tạo danh sách `clip_embedding` ứng với danh sách `sample` trong `dataset`."
   ]
  },
  {
   "cell_type": "code",
   "execution_count": 10,
   "id": "1ad16b5c",
   "metadata": {
    "id": "1ad16b5c"
   },
   "outputs": [],
   "source": [
    "clip_embeddings = []\n",
    "for sample in dataset:\n",
    "    clip_embedding = embedding_dict[sample['video']][sample['frameid']]\n",
    "    clip_embeddings.append(clip_embedding)\n"
   ]
  },
  {
   "cell_type": "code",
   "execution_count": 11,
   "id": "9634a825",
   "metadata": {},
   "outputs": [],
   "source": [
    "# # Clean up    \n",
    "# # Delete run record from FiftyOne\n",
    "# # Only run this if you get the error \"brainkey 'qdrant_index' already exists\"\n",
    "# dataset.delete_brain_run(\"qdrant_index\") # milvus_index, img_sim, tmp"
   ]
  },
  {
   "cell_type": "code",
   "execution_count": 12,
   "id": "655d2feb",
   "metadata": {
    "id": "655d2feb"
   },
   "outputs": [
    {
     "name": "stderr",
     "output_type": "stream",
     "text": [
      "/Users/duyennguyen/anaconda3/lib/python3.10/site-packages/qdrant_client/qdrant_remote.py:115: UserWarning: Api key is used with unsecure connection.\n",
      "  warnings.warn(\"Api key is used with unsecure connection.\")\n"
     ]
    }
   ],
   "source": [
    "qdrant_index = fob.compute_similarity(\n",
    "    # qdrant\n",
    "    dataset,\n",
    "    model=\"clip-vit-base32-torch\",      # store model's name for future use\n",
    "    embeddings=clip_embeddings,         # precomputed image embeddings\n",
    "    backend=\"qdrant\",                  # sklearn, qdrant, pinecone, milvus, lancedb\n",
    "    brain_key=\"qdrant_index\",                # img_sim, tmp, milvus_index, lancedb_index\n",
    "    metric=\"cosine\",\n",
    "    replication_factor=1,\n",
    "    shard_number=1,\n",
    "    url=\"http://localhost:6333\",\n",
    "    api_key=\"f0874247-fbc6-4d22-8752-2b9014564484\",\n",
    "    grpc_port=6334,\n",
    "    prefer_grpc=False\n",
    ")"
   ]
  },
  {
   "cell_type": "code",
   "execution_count": 13,
   "id": "df80d761",
   "metadata": {},
   "outputs": [],
   "source": [
    "# dataset.export(\n",
    "#     './qdrant_index_121023',\n",
    "#     dataset_type=fo.types.FiftyOneDataset\n",
    "#     )"
   ]
  },
  {
   "cell_type": "code",
   "execution_count": 14,
   "id": "67714ed2",
   "metadata": {},
   "outputs": [
    {
     "name": "stdout",
     "output_type": "stream",
     "text": [
      "{\n",
      "    \"key\": \"qdrant_index\",\n",
      "    \"version\": \"0.21.4\",\n",
      "    \"timestamp\": \"2023-10-14T06:51:50.542753\",\n",
      "    \"config\": {\n",
      "        \"method\": \"qdrant\",\n",
      "        \"cls\": \"fiftyone.brain.internal.core.qdrant.QdrantSimilarityConfig\",\n",
      "        \"embeddings_field\": null,\n",
      "        \"model\": \"clip-vit-base32-torch\",\n",
      "        \"patches_field\": null,\n",
      "        \"supports_prompts\": true,\n",
      "        \"collection_name\": \"fiftyone-2023-10-14-13-48-45\",\n",
      "        \"metric\": \"cosine\",\n",
      "        \"replication_factor\": 1,\n",
      "        \"shard_number\": 1,\n",
      "        \"write_consistency_factor\": null,\n",
      "        \"hnsw_config\": null,\n",
      "        \"optimizers_config\": null,\n",
      "        \"wal_config\": null\n",
      "    }\n",
      "}\n"
     ]
    }
   ],
   "source": [
    "print(dataset.get_brain_info('qdrant_index'))\n",
    "qdrant_index = dataset.load_brain_results('qdrant_index')"
   ]
  },
  {
   "cell_type": "code",
   "execution_count": 15,
   "id": "ca117d76",
   "metadata": {},
   "outputs": [
    {
     "name": "stdout",
     "output_type": "stream",
     "text": [
      "{\n",
      "    \"default_similarity_backend\": \"sklearn\",\n",
      "    \"similarity_backends\": {\n",
      "        \"lancedb\": {\n",
      "            \"config_cls\": \"fiftyone.brain.internal.core.lancedb.LanceDBSimilarityConfig\"\n",
      "        },\n",
      "        \"milvus\": {\n",
      "            \"config_cls\": \"fiftyone.brain.internal.core.milvus.MilvusSimilarityConfig\"\n",
      "        },\n",
      "        \"pinecone\": {\n",
      "            \"config_cls\": \"fiftyone.brain.internal.core.pinecone.PineconeSimilarityConfig\"\n",
      "        },\n",
      "        \"qdrant\": {\n",
      "            \"config_cls\": \"fiftyone.brain.internal.core.qdrant.QdrantSimilarityConfig\"\n",
      "        },\n",
      "        \"sklearn\": {\n",
      "            \"config_cls\": \"fiftyone.brain.internal.core.sklearn.SklearnSimilarityConfig\"\n",
      "        }\n",
      "    }\n",
      "}\n"
     ]
    }
   ],
   "source": [
    "print(fob.brain_config)"
   ]
  },
  {
   "cell_type": "code",
   "execution_count": 16,
   "id": "d8a9f398",
   "metadata": {},
   "outputs": [
    {
     "name": "stdout",
     "output_type": "stream",
     "text": [
      "<class 'str'>\n"
     ]
    }
   ],
   "source": [
    "_id = dataset.first().id\n",
    "print(type(_id))\n"
   ]
  },
  {
   "cell_type": "code",
   "execution_count": 17,
   "id": "6fa01d6e",
   "metadata": {},
   "outputs": [],
   "source": [
    "# Step 4: Query your data\n",
    "query = dataset.first().id  # query by sample ID\n",
    "view = dataset.sort_by_similarity(\n",
    "    query,\n",
    "    brain_key=\"qdrant_index\",\n",
    "    k=10,  # limit to 10 most similar samples\n",
    ")\n",
    "\n",
    "# Step 5 (optional): Cleanup\n",
    "\n",
    "# # Delete the qdrant table\n",
    "# lancedb_index.cleanup()\n",
    "\n",
    "# # Delete run record from FiftyOne\n",
    "# dataset.delete_brain_run(\"lancedb_index\")"
   ]
  },
  {
   "cell_type": "code",
   "execution_count": 18,
   "id": "5f04a3a4",
   "metadata": {},
   "outputs": [
    {
     "data": {
      "text/html": [
       "\n",
       "        <iframe\n",
       "            width=\"100%\"\n",
       "            height=\"800\"\n",
       "            src=\"http://localhost:5152/?notebook=True&subscription=bb578fbd-a9bd-499c-9636-c016c6476fc0\"\n",
       "            frameborder=\"0\"\n",
       "            allowfullscreen\n",
       "            \n",
       "        ></iframe>\n",
       "        "
      ],
      "text/plain": [
       "<IPython.lib.display.IFrame at 0x294571d20>"
      ]
     },
     "metadata": {},
     "output_type": "display_data"
    },
    {
     "data": {
      "text/html": [
       "\n",
       "        <iframe\n",
       "            width=\"100%\"\n",
       "            height=\"800\"\n",
       "            src=\"http://localhost:5152/?notebook=True&subscription=4d06c45a-ef4f-4f29-b06a-44fd3024d31e\"\n",
       "            frameborder=\"0\"\n",
       "            allowfullscreen\n",
       "            \n",
       "        ></iframe>\n",
       "        "
      ],
      "text/plain": [
       "<IPython.lib.display.IFrame at 0x2a145f640>"
      ]
     },
     "metadata": {},
     "output_type": "display_data"
    }
   ],
   "source": [
    "session = fo.launch_app(dataset, port =5152)\n",
    "session.view = view"
   ]
  },
  {
   "cell_type": "code",
   "execution_count": 19,
   "id": "714e81e1",
   "metadata": {},
   "outputs": [
    {
     "data": {
      "text/html": [
       "\n",
       "        <iframe\n",
       "            width=\"100%\"\n",
       "            height=\"800\"\n",
       "            src=\"http://localhost:5152/?notebook=True&subscription=ef8a553e-f4e4-46fd-9459-172e66ebe741\"\n",
       "            frameborder=\"0\"\n",
       "            allowfullscreen\n",
       "            \n",
       "        ></iframe>\n",
       "        "
      ],
      "text/plain": [
       "<IPython.lib.display.IFrame at 0x29ca684c0>"
      ]
     },
     "metadata": {},
     "output_type": "display_data"
    }
   ],
   "source": [
    "# Query text\n",
    "query = \"man driving car\"\n",
    "\n",
    "# Perform a text query\n",
    "view = dataset.sort_by_similarity(\n",
    "    query, \n",
    "    k=15, \n",
    "    brain_key=\"qdrant_index\"\n",
    ")\n",
    "\n",
    "session.view = view"
   ]
  },
  {
   "cell_type": "code",
   "execution_count": null,
   "id": "5c68fd89",
   "metadata": {},
   "outputs": [],
   "source": []
  }
 ],
 "metadata": {
  "colab": {
   "provenance": [
    {
     "file_id": "1dQB8kURHKeAc6CZORx2lg5psZfKpgUIT",
     "timestamp": 1693549975977
    }
   ]
  },
  "kernelspec": {
   "display_name": "Python 3 (ipykernel)",
   "language": "python",
   "name": "python3"
  },
  "language_info": {
   "codemirror_mode": {
    "name": "ipython",
    "version": 3
   },
   "file_extension": ".py",
   "mimetype": "text/x-python",
   "name": "python",
   "nbconvert_exporter": "python",
   "pygments_lexer": "ipython3",
   "version": "3.10.9"
  }
 },
 "nbformat": 4,
 "nbformat_minor": 5
}
