{
 "cells": [
  {
   "cell_type": "markdown",
   "id": "5fcc581b",
   "metadata": {
    "id": "5fcc581b"
   },
   "source": [
    "# Hướng dẫn truy vấn dữ liệu thị giác dùng fiftyone\n",
    "\n",
    "Đây là hướng dẫn dùng cho các đội tham dự AI Challenge 2023. Hướng dẫn này nhằm mục đích giới thiệu cho các đội một phương pháp cơ bản để truy vấn dữ liệu dựa trên thông tin BTC cung cấp và giới thiệu công cụ fiftyone để hỗ trợ đội thi đánh giá kết quả.\n",
    "\n",
    "## Cài đặt ban đầu\n",
    "\n",
    "Bạn cần cài đặt môi trường để chạy được notebook này trên máy tính cá nhân của bạn. Hướng dẫn này không bao gồm phần cài đặt môi trường. Khuyến nghị: các bạn có thể cài đặt [Anaconda](https://docs.anaconda.com/free/anaconda/install/windows/).\n",
    "\n",
    "## Cài đặt các thư viện FiftyOne và PyTorch\n",
    "Hướng dẫn này dùng fiftyone là công cụ để trực quan dữ liệu và pytorch là backend chính cho các thuật toán máy học.\n",
    "\n",
    "### Lưu ý: Đối với các bạn dùng Windows nên dùng bản fiftyone **v0.21.4**, không nên dùng bản mới nhất!"
   ]
  },
  {
   "cell_type": "code",
   "execution_count": 1,
   "id": "f5a576d0",
   "metadata": {
    "colab": {
     "base_uri": "https://localhost:8080/"
    },
    "executionInfo": {
     "elapsed": 38205,
     "status": "ok",
     "timestamp": 1693550070344,
     "user": {
      "displayName": "Duyen Nguyen",
      "userId": "05537559569783534217"
     },
     "user_tz": -420
    },
    "id": "f5a576d0",
    "outputId": "9ab47f23-c28c-4a96-8f06-3fc50e3abdb1",
    "scrolled": true
   },
   "outputs": [
    {
     "name": "stdout",
     "output_type": "stream",
     "text": [
      "Requirement already satisfied: fiftyone==0.21.4 in /Users/duyennguyen/anaconda3/lib/python3.10/site-packages (0.21.4)\n",
      "Requirement already satisfied: plotly>=4.14 in /Users/duyennguyen/anaconda3/lib/python3.10/site-packages (from fiftyone==0.21.4) (5.17.0)\n",
      "Requirement already satisfied: sseclient-py<2,>=1.7.2 in /Users/duyennguyen/anaconda3/lib/python3.10/site-packages (from fiftyone==0.21.4) (1.8.0)\n",
      "Requirement already satisfied: setuptools in /Users/duyennguyen/anaconda3/lib/python3.10/site-packages (from fiftyone==0.21.4) (65.6.3)\n",
      "Requirement already satisfied: regex in /Users/duyennguyen/anaconda3/lib/python3.10/site-packages (from fiftyone==0.21.4) (2023.8.8)\n",
      "Requirement already satisfied: fiftyone-brain<0.14,>=0.13 in /Users/duyennguyen/anaconda3/lib/python3.10/site-packages (from fiftyone==0.21.4) (0.13.1)\n",
      "Requirement already satisfied: scikit-learn in /Users/duyennguyen/anaconda3/lib/python3.10/site-packages (from fiftyone==0.21.4) (1.3.0)\n",
      "Requirement already satisfied: starlette<0.27,>=0.24.0 in /Users/duyennguyen/anaconda3/lib/python3.10/site-packages (from fiftyone==0.21.4) (0.26.1)\n",
      "Requirement already satisfied: matplotlib in /Users/duyennguyen/anaconda3/lib/python3.10/site-packages (from fiftyone==0.21.4) (3.8.0)\n",
      "Requirement already satisfied: hypercorn>=0.13.2 in /Users/duyennguyen/anaconda3/lib/python3.10/site-packages (from fiftyone==0.21.4) (0.14.4)\n",
      "Requirement already satisfied: dacite<1.8.0,>=1.6.0 in /Users/duyennguyen/anaconda3/lib/python3.10/site-packages (from fiftyone==0.21.4) (1.7.0)\n",
      "Requirement already satisfied: ftfy in /Users/duyennguyen/anaconda3/lib/python3.10/site-packages (from fiftyone==0.21.4) (6.1.1)\n",
      "Requirement already satisfied: eventlet in /Users/duyennguyen/anaconda3/lib/python3.10/site-packages (from fiftyone==0.21.4) (0.33.3)\n",
      "Requirement already satisfied: boto3 in /Users/duyennguyen/anaconda3/lib/python3.10/site-packages (from fiftyone==0.21.4) (1.28.46)\n",
      "Requirement already satisfied: psutil in /Users/duyennguyen/anaconda3/lib/python3.10/site-packages (from fiftyone==0.21.4) (5.9.0)\n",
      "Requirement already satisfied: universal-analytics-python3<2,>=1.0.1 in /Users/duyennguyen/anaconda3/lib/python3.10/site-packages (from fiftyone==0.21.4) (1.1.1)\n",
      "Requirement already satisfied: argcomplete in /Users/duyennguyen/anaconda3/lib/python3.10/site-packages (from fiftyone==0.21.4) (3.1.1)\n",
      "Requirement already satisfied: pandas in /Users/duyennguyen/anaconda3/lib/python3.10/site-packages (from fiftyone==0.21.4) (2.1.0)\n",
      "Requirement already satisfied: Deprecated in /Users/duyennguyen/anaconda3/lib/python3.10/site-packages (from fiftyone==0.21.4) (1.2.14)\n",
      "Requirement already satisfied: strawberry-graphql==0.138.1 in /Users/duyennguyen/anaconda3/lib/python3.10/site-packages (from fiftyone==0.21.4) (0.138.1)\n",
      "Requirement already satisfied: Pillow>=6.2 in /Users/duyennguyen/anaconda3/lib/python3.10/site-packages (from fiftyone==0.21.4) (9.4.0)\n",
      "Requirement already satisfied: pytz in /Users/duyennguyen/anaconda3/lib/python3.10/site-packages (from fiftyone==0.21.4) (2022.7)\n",
      "Requirement already satisfied: tabulate in /Users/duyennguyen/anaconda3/lib/python3.10/site-packages (from fiftyone==0.21.4) (0.9.0)\n",
      "Requirement already satisfied: future in /Users/duyennguyen/anaconda3/lib/python3.10/site-packages (from fiftyone==0.21.4) (0.18.3)\n",
      "Requirement already satisfied: Jinja2>=3 in /Users/duyennguyen/anaconda3/lib/python3.10/site-packages (from fiftyone==0.21.4) (3.1.2)\n",
      "Requirement already satisfied: motor>=2.5 in /Users/duyennguyen/anaconda3/lib/python3.10/site-packages (from fiftyone==0.21.4) (3.3.1)\n",
      "Requirement already satisfied: opencv-python-headless in /Users/duyennguyen/anaconda3/lib/python3.10/site-packages (from fiftyone==0.21.4) (4.8.0.76)\n",
      "Requirement already satisfied: aiofiles in /Users/duyennguyen/anaconda3/lib/python3.10/site-packages (from fiftyone==0.21.4) (23.2.1)\n",
      "Requirement already satisfied: pprintpp in /Users/duyennguyen/anaconda3/lib/python3.10/site-packages (from fiftyone==0.21.4) (0.4.0)\n",
      "Requirement already satisfied: xmltodict in /Users/duyennguyen/anaconda3/lib/python3.10/site-packages (from fiftyone==0.21.4) (0.13.0)\n",
      "Requirement already satisfied: mongoengine==0.24.2 in /Users/duyennguyen/anaconda3/lib/python3.10/site-packages (from fiftyone==0.21.4) (0.24.2)\n",
      "Requirement already satisfied: cachetools in /Users/duyennguyen/anaconda3/lib/python3.10/site-packages (from fiftyone==0.21.4) (5.3.1)\n",
      "Requirement already satisfied: pymongo>=3.12 in /Users/duyennguyen/anaconda3/lib/python3.10/site-packages (from fiftyone==0.21.4) (4.5.0)\n",
      "Requirement already satisfied: numpy in /Users/duyennguyen/anaconda3/lib/python3.10/site-packages (from fiftyone==0.21.4) (1.24.0)\n",
      "Requirement already satisfied: PyYAML in /Users/duyennguyen/anaconda3/lib/python3.10/site-packages (from fiftyone==0.21.4) (6.0)\n",
      "Requirement already satisfied: retrying in /Users/duyennguyen/anaconda3/lib/python3.10/site-packages (from fiftyone==0.21.4) (1.3.4)\n",
      "Requirement already satisfied: fiftyone-db<0.5,>=0.4 in /Users/duyennguyen/anaconda3/lib/python3.10/site-packages (from fiftyone==0.21.4) (0.4.0)\n",
      "Requirement already satisfied: scikit-image in /Users/duyennguyen/anaconda3/lib/python3.10/site-packages (from fiftyone==0.21.4) (0.21.0)\n",
      "Requirement already satisfied: packaging in /Users/duyennguyen/anaconda3/lib/python3.10/site-packages (from fiftyone==0.21.4) (23.1)\n",
      "Requirement already satisfied: sse-starlette<1,>=0.10.3 in /Users/duyennguyen/anaconda3/lib/python3.10/site-packages (from fiftyone==0.21.4) (0.10.3)\n",
      "Requirement already satisfied: voxel51-eta<0.11,>=0.10 in /Users/duyennguyen/anaconda3/lib/python3.10/site-packages (from fiftyone==0.21.4) (0.10.0)\n",
      "Requirement already satisfied: kaleido in /Users/duyennguyen/anaconda3/lib/python3.10/site-packages (from fiftyone==0.21.4) (0.2.1)\n",
      "Requirement already satisfied: graphql-core<3.3.0,>=3.2.0 in /Users/duyennguyen/anaconda3/lib/python3.10/site-packages (from strawberry-graphql==0.138.1->fiftyone==0.21.4) (3.2.3)\n",
      "Requirement already satisfied: python-dateutil<3.0.0,>=2.7.0 in /Users/duyennguyen/anaconda3/lib/python3.10/site-packages (from strawberry-graphql==0.138.1->fiftyone==0.21.4) (2.8.2)\n",
      "Requirement already satisfied: typing_extensions<5.0.0,>=3.7.4 in /Users/duyennguyen/anaconda3/lib/python3.10/site-packages (from strawberry-graphql==0.138.1->fiftyone==0.21.4) (4.7.1)\n",
      "Requirement already satisfied: scipy>=1.2.0 in /Users/duyennguyen/anaconda3/lib/python3.10/site-packages (from fiftyone-brain<0.14,>=0.13->fiftyone==0.21.4) (1.11.2)\n",
      "Requirement already satisfied: priority in /Users/duyennguyen/anaconda3/lib/python3.10/site-packages (from hypercorn>=0.13.2->fiftyone==0.21.4) (2.0.0)\n",
      "Requirement already satisfied: h2>=3.1.0 in /Users/duyennguyen/anaconda3/lib/python3.10/site-packages (from hypercorn>=0.13.2->fiftyone==0.21.4) (3.2.0)\n",
      "Requirement already satisfied: wsproto>=0.14.0 in /Users/duyennguyen/anaconda3/lib/python3.10/site-packages (from hypercorn>=0.13.2->fiftyone==0.21.4) (1.2.0)\n",
      "Requirement already satisfied: tomli in /Users/duyennguyen/anaconda3/lib/python3.10/site-packages (from hypercorn>=0.13.2->fiftyone==0.21.4) (2.0.1)\n",
      "Requirement already satisfied: h11 in /Users/duyennguyen/anaconda3/lib/python3.10/site-packages (from hypercorn>=0.13.2->fiftyone==0.21.4) (0.14.0)\n",
      "Requirement already satisfied: MarkupSafe>=2.0 in /Users/duyennguyen/anaconda3/lib/python3.10/site-packages (from Jinja2>=3->fiftyone==0.21.4) (2.1.1)\n",
      "Requirement already satisfied: tenacity>=6.2.0 in /Users/duyennguyen/anaconda3/lib/python3.10/site-packages (from plotly>=4.14->fiftyone==0.21.4) (8.2.3)\n",
      "Requirement already satisfied: dnspython<3.0.0,>=1.16.0 in /Users/duyennguyen/anaconda3/lib/python3.10/site-packages (from pymongo>=3.12->fiftyone==0.21.4) (2.4.2)\n",
      "Requirement already satisfied: anyio<5,>=3.4.0 in /Users/duyennguyen/anaconda3/lib/python3.10/site-packages (from starlette<0.27,>=0.24.0->fiftyone==0.21.4) (3.7.1)\n",
      "Requirement already satisfied: httpx>=0.10.0 in /Users/duyennguyen/anaconda3/lib/python3.10/site-packages (from universal-analytics-python3<2,>=1.0.1->fiftyone==0.21.4) (0.24.1)\n",
      "Requirement already satisfied: rarfile in /Users/duyennguyen/anaconda3/lib/python3.10/site-packages (from voxel51-eta<0.11,>=0.10->fiftyone==0.21.4) (4.0)\n",
      "Requirement already satisfied: py7zr in /Users/duyennguyen/anaconda3/lib/python3.10/site-packages (from voxel51-eta<0.11,>=0.10->fiftyone==0.21.4) (0.20.6)\n",
      "Requirement already satisfied: jsonlines in /Users/duyennguyen/anaconda3/lib/python3.10/site-packages (from voxel51-eta<0.11,>=0.10->fiftyone==0.21.4) (4.0.0)\n",
      "Requirement already satisfied: urllib3 in /Users/duyennguyen/anaconda3/lib/python3.10/site-packages (from voxel51-eta<0.11,>=0.10->fiftyone==0.21.4) (1.26.16)\n",
      "Requirement already satisfied: six in /Users/duyennguyen/anaconda3/lib/python3.10/site-packages (from voxel51-eta<0.11,>=0.10->fiftyone==0.21.4) (1.16.0)\n",
      "Requirement already satisfied: requests in /Users/duyennguyen/anaconda3/lib/python3.10/site-packages (from voxel51-eta<0.11,>=0.10->fiftyone==0.21.4) (2.31.0)\n",
      "Requirement already satisfied: dill in /Users/duyennguyen/anaconda3/lib/python3.10/site-packages (from voxel51-eta<0.11,>=0.10->fiftyone==0.21.4) (0.3.7)\n",
      "Requirement already satisfied: tzlocal in /Users/duyennguyen/anaconda3/lib/python3.10/site-packages (from voxel51-eta<0.11,>=0.10->fiftyone==0.21.4) (4.3.1)\n",
      "Requirement already satisfied: glob2 in /Users/duyennguyen/anaconda3/lib/python3.10/site-packages (from voxel51-eta<0.11,>=0.10->fiftyone==0.21.4) (0.7)\n",
      "Requirement already satisfied: sortedcontainers in /Users/duyennguyen/anaconda3/lib/python3.10/site-packages (from voxel51-eta<0.11,>=0.10->fiftyone==0.21.4) (2.4.0)\n",
      "Requirement already satisfied: s3transfer<0.7.0,>=0.6.0 in /Users/duyennguyen/anaconda3/lib/python3.10/site-packages (from boto3->fiftyone==0.21.4) (0.6.2)\n",
      "Requirement already satisfied: botocore<1.32.0,>=1.31.46 in /Users/duyennguyen/anaconda3/lib/python3.10/site-packages (from boto3->fiftyone==0.21.4) (1.31.46)\n",
      "Requirement already satisfied: jmespath<2.0.0,>=0.7.1 in /Users/duyennguyen/anaconda3/lib/python3.10/site-packages (from boto3->fiftyone==0.21.4) (1.0.1)\n",
      "Requirement already satisfied: wrapt<2,>=1.10 in /Users/duyennguyen/anaconda3/lib/python3.10/site-packages (from Deprecated->fiftyone==0.21.4) (1.15.0)\n",
      "Requirement already satisfied: greenlet>=0.3 in /Users/duyennguyen/anaconda3/lib/python3.10/site-packages (from eventlet->fiftyone==0.21.4) (2.0.2)\n",
      "Requirement already satisfied: wcwidth>=0.2.5 in /Users/duyennguyen/anaconda3/lib/python3.10/site-packages (from ftfy->fiftyone==0.21.4) (0.2.5)\n",
      "Requirement already satisfied: cycler>=0.10 in /Users/duyennguyen/anaconda3/lib/python3.10/site-packages (from matplotlib->fiftyone==0.21.4) (0.11.0)\n",
      "Requirement already satisfied: fonttools>=4.22.0 in /Users/duyennguyen/anaconda3/lib/python3.10/site-packages (from matplotlib->fiftyone==0.21.4) (4.42.1)\n",
      "Requirement already satisfied: pyparsing>=2.3.1 in /Users/duyennguyen/anaconda3/lib/python3.10/site-packages (from matplotlib->fiftyone==0.21.4) (3.1.1)\n",
      "Requirement already satisfied: contourpy>=1.0.1 in /Users/duyennguyen/anaconda3/lib/python3.10/site-packages (from matplotlib->fiftyone==0.21.4) (1.1.0)\n",
      "Requirement already satisfied: kiwisolver>=1.0.1 in /Users/duyennguyen/anaconda3/lib/python3.10/site-packages (from matplotlib->fiftyone==0.21.4) (1.4.5)\n",
      "Requirement already satisfied: tzdata>=2022.1 in /Users/duyennguyen/anaconda3/lib/python3.10/site-packages (from pandas->fiftyone==0.21.4) (2023.3)\n",
      "Requirement already satisfied: tifffile>=2022.8.12 in /Users/duyennguyen/anaconda3/lib/python3.10/site-packages (from scikit-image->fiftyone==0.21.4) (2023.8.30)\n",
      "Requirement already satisfied: networkx>=2.8 in /Users/duyennguyen/anaconda3/lib/python3.10/site-packages (from scikit-image->fiftyone==0.21.4) (3.1)\n",
      "Requirement already satisfied: imageio>=2.27 in /Users/duyennguyen/anaconda3/lib/python3.10/site-packages (from scikit-image->fiftyone==0.21.4) (2.31.3)\n",
      "Requirement already satisfied: PyWavelets>=1.1.1 in /Users/duyennguyen/anaconda3/lib/python3.10/site-packages (from scikit-image->fiftyone==0.21.4) (1.4.1)\n",
      "Requirement already satisfied: lazy_loader>=0.2 in /Users/duyennguyen/anaconda3/lib/python3.10/site-packages (from scikit-image->fiftyone==0.21.4) (0.3)\n",
      "Requirement already satisfied: joblib>=1.1.1 in /Users/duyennguyen/anaconda3/lib/python3.10/site-packages (from scikit-learn->fiftyone==0.21.4) (1.3.2)\n",
      "Requirement already satisfied: threadpoolctl>=2.0.0 in /Users/duyennguyen/anaconda3/lib/python3.10/site-packages (from scikit-learn->fiftyone==0.21.4) (3.2.0)\n",
      "Requirement already satisfied: exceptiongroup in /Users/duyennguyen/anaconda3/lib/python3.10/site-packages (from anyio<5,>=3.4.0->starlette<0.27,>=0.24.0->fiftyone==0.21.4) (1.0.4)\n",
      "Requirement already satisfied: idna>=2.8 in /Users/duyennguyen/anaconda3/lib/python3.10/site-packages (from anyio<5,>=3.4.0->starlette<0.27,>=0.24.0->fiftyone==0.21.4) (2.10)\n",
      "Requirement already satisfied: sniffio>=1.1 in /Users/duyennguyen/anaconda3/lib/python3.10/site-packages (from anyio<5,>=3.4.0->starlette<0.27,>=0.24.0->fiftyone==0.21.4) (1.3.0)\n",
      "Requirement already satisfied: hyperframe<6,>=5.2.0 in /Users/duyennguyen/anaconda3/lib/python3.10/site-packages (from h2>=3.1.0->hypercorn>=0.13.2->fiftyone==0.21.4) (5.2.0)\n",
      "Requirement already satisfied: hpack<4,>=3.0 in /Users/duyennguyen/anaconda3/lib/python3.10/site-packages (from h2>=3.1.0->hypercorn>=0.13.2->fiftyone==0.21.4) (3.0.0)\n",
      "Requirement already satisfied: certifi in /Users/duyennguyen/anaconda3/lib/python3.10/site-packages (from httpx>=0.10.0->universal-analytics-python3<2,>=1.0.1->fiftyone==0.21.4) (2023.7.22)\n",
      "Requirement already satisfied: httpcore<0.18.0,>=0.15.0 in /Users/duyennguyen/anaconda3/lib/python3.10/site-packages (from httpx>=0.10.0->universal-analytics-python3<2,>=1.0.1->fiftyone==0.21.4) (0.17.3)\n",
      "Requirement already satisfied: attrs>=19.2.0 in /Users/duyennguyen/anaconda3/lib/python3.10/site-packages (from jsonlines->voxel51-eta<0.11,>=0.10->fiftyone==0.21.4) (22.1.0)\n",
      "Requirement already satisfied: pybcj>=0.6.0 in /Users/duyennguyen/anaconda3/lib/python3.10/site-packages (from py7zr->voxel51-eta<0.11,>=0.10->fiftyone==0.21.4) (1.0.1)\n",
      "Requirement already satisfied: multivolumefile>=0.2.3 in /Users/duyennguyen/anaconda3/lib/python3.10/site-packages (from py7zr->voxel51-eta<0.11,>=0.10->fiftyone==0.21.4) (0.2.3)\n",
      "Requirement already satisfied: pyppmd<1.1.0,>=0.18.1 in /Users/duyennguyen/anaconda3/lib/python3.10/site-packages (from py7zr->voxel51-eta<0.11,>=0.10->fiftyone==0.21.4) (1.0.0)\n",
      "Requirement already satisfied: brotli>=1.0.9 in /Users/duyennguyen/anaconda3/lib/python3.10/site-packages (from py7zr->voxel51-eta<0.11,>=0.10->fiftyone==0.21.4) (1.1.0)\n",
      "Requirement already satisfied: texttable in /Users/duyennguyen/anaconda3/lib/python3.10/site-packages (from py7zr->voxel51-eta<0.11,>=0.10->fiftyone==0.21.4) (1.6.7)\n",
      "Requirement already satisfied: inflate64>=0.3.1 in /Users/duyennguyen/anaconda3/lib/python3.10/site-packages (from py7zr->voxel51-eta<0.11,>=0.10->fiftyone==0.21.4) (0.3.1)\n",
      "Requirement already satisfied: pyzstd>=0.14.4 in /Users/duyennguyen/anaconda3/lib/python3.10/site-packages (from py7zr->voxel51-eta<0.11,>=0.10->fiftyone==0.21.4) (0.15.9)\n",
      "Requirement already satisfied: pycryptodomex>=3.6.6 in /Users/duyennguyen/anaconda3/lib/python3.10/site-packages (from py7zr->voxel51-eta<0.11,>=0.10->fiftyone==0.21.4) (3.18.0)\n",
      "Requirement already satisfied: charset-normalizer<4,>=2 in /Users/duyennguyen/anaconda3/lib/python3.10/site-packages (from requests->voxel51-eta<0.11,>=0.10->fiftyone==0.21.4) (2.0.4)\n",
      "Requirement already satisfied: pytz-deprecation-shim in /Users/duyennguyen/anaconda3/lib/python3.10/site-packages (from tzlocal->voxel51-eta<0.11,>=0.10->fiftyone==0.21.4) (0.1.0.post0)\n",
      "Requirement already satisfied: torch in /Users/duyennguyen/anaconda3/lib/python3.10/site-packages (2.0.1)\n",
      "Requirement already satisfied: torchvision in /Users/duyennguyen/anaconda3/lib/python3.10/site-packages (0.15.2)\n",
      "Requirement already satisfied: torchaudio in /Users/duyennguyen/anaconda3/lib/python3.10/site-packages (2.0.2)\n",
      "Requirement already satisfied: jinja2 in /Users/duyennguyen/anaconda3/lib/python3.10/site-packages (from torch) (3.1.2)\n",
      "Requirement already satisfied: filelock in /Users/duyennguyen/anaconda3/lib/python3.10/site-packages (from torch) (3.9.0)\n",
      "Requirement already satisfied: sympy in /Users/duyennguyen/anaconda3/lib/python3.10/site-packages (from torch) (1.11.1)\n",
      "Requirement already satisfied: networkx in /Users/duyennguyen/anaconda3/lib/python3.10/site-packages (from torch) (3.1)\n",
      "Requirement already satisfied: typing-extensions in /Users/duyennguyen/anaconda3/lib/python3.10/site-packages (from torch) (4.7.1)\n",
      "Requirement already satisfied: pillow!=8.3.*,>=5.3.0 in /Users/duyennguyen/anaconda3/lib/python3.10/site-packages (from torchvision) (9.4.0)\n",
      "Requirement already satisfied: requests in /Users/duyennguyen/anaconda3/lib/python3.10/site-packages (from torchvision) (2.31.0)\n",
      "Requirement already satisfied: numpy in /Users/duyennguyen/anaconda3/lib/python3.10/site-packages (from torchvision) (1.24.0)\n",
      "Requirement already satisfied: MarkupSafe>=2.0 in /Users/duyennguyen/anaconda3/lib/python3.10/site-packages (from jinja2->torch) (2.1.1)\n",
      "Requirement already satisfied: urllib3<3,>=1.21.1 in /Users/duyennguyen/anaconda3/lib/python3.10/site-packages (from requests->torchvision) (1.26.16)\n",
      "Requirement already satisfied: certifi>=2017.4.17 in /Users/duyennguyen/anaconda3/lib/python3.10/site-packages (from requests->torchvision) (2023.7.22)\n",
      "Requirement already satisfied: idna<4,>=2.5 in /Users/duyennguyen/anaconda3/lib/python3.10/site-packages (from requests->torchvision) (2.10)\n",
      "Requirement already satisfied: charset-normalizer<4,>=2 in /Users/duyennguyen/anaconda3/lib/python3.10/site-packages (from requests->torchvision) (2.0.4)\n",
      "Requirement already satisfied: mpmath>=0.19 in /Users/duyennguyen/anaconda3/lib/python3.10/site-packages (from sympy->torch) (1.3.0)\n",
      "Requirement already satisfied: ipywidgets in /Users/duyennguyen/anaconda3/lib/python3.10/site-packages (8.0.4)\n",
      "Requirement already satisfied: traitlets>=4.3.1 in /Users/duyennguyen/anaconda3/lib/python3.10/site-packages (from ipywidgets) (5.7.1)\n",
      "Requirement already satisfied: widgetsnbextension~=4.0 in /Users/duyennguyen/anaconda3/lib/python3.10/site-packages (from ipywidgets) (4.0.5)\n",
      "Requirement already satisfied: jupyterlab-widgets~=3.0 in /Users/duyennguyen/anaconda3/lib/python3.10/site-packages (from ipywidgets) (3.0.5)\n",
      "Requirement already satisfied: ipython>=6.1.0 in /Users/duyennguyen/anaconda3/lib/python3.10/site-packages (from ipywidgets) (8.15.0)\n",
      "Requirement already satisfied: ipykernel>=4.5.1 in /Users/duyennguyen/anaconda3/lib/python3.10/site-packages (from ipywidgets) (6.25.0)\n",
      "Requirement already satisfied: pyzmq>=20 in /Users/duyennguyen/anaconda3/lib/python3.10/site-packages (from ipykernel>=4.5.1->ipywidgets) (23.2.0)\n",
      "Requirement already satisfied: matplotlib-inline>=0.1 in /Users/duyennguyen/anaconda3/lib/python3.10/site-packages (from ipykernel>=4.5.1->ipywidgets) (0.1.6)\n",
      "Requirement already satisfied: packaging in /Users/duyennguyen/anaconda3/lib/python3.10/site-packages (from ipykernel>=4.5.1->ipywidgets) (23.1)\n",
      "Requirement already satisfied: appnope in /Users/duyennguyen/anaconda3/lib/python3.10/site-packages (from ipykernel>=4.5.1->ipywidgets) (0.1.2)\n",
      "Requirement already satisfied: comm>=0.1.1 in /Users/duyennguyen/anaconda3/lib/python3.10/site-packages (from ipykernel>=4.5.1->ipywidgets) (0.1.2)\n",
      "Requirement already satisfied: debugpy>=1.6.5 in /Users/duyennguyen/anaconda3/lib/python3.10/site-packages (from ipykernel>=4.5.1->ipywidgets) (1.6.7)\n",
      "Requirement already satisfied: psutil in /Users/duyennguyen/anaconda3/lib/python3.10/site-packages (from ipykernel>=4.5.1->ipywidgets) (5.9.0)\n",
      "Requirement already satisfied: nest-asyncio in /Users/duyennguyen/anaconda3/lib/python3.10/site-packages (from ipykernel>=4.5.1->ipywidgets) (1.5.6)\n",
      "Requirement already satisfied: jupyter-client>=6.1.12 in /Users/duyennguyen/anaconda3/lib/python3.10/site-packages (from ipykernel>=4.5.1->ipywidgets) (7.4.9)\n",
      "Requirement already satisfied: tornado>=6.1 in /Users/duyennguyen/anaconda3/lib/python3.10/site-packages (from ipykernel>=4.5.1->ipywidgets) (6.3.2)\n",
      "Requirement already satisfied: jupyter-core!=5.0.*,>=4.12 in /Users/duyennguyen/anaconda3/lib/python3.10/site-packages (from ipykernel>=4.5.1->ipywidgets) (5.3.0)\n",
      "Requirement already satisfied: exceptiongroup in /Users/duyennguyen/anaconda3/lib/python3.10/site-packages (from ipython>=6.1.0->ipywidgets) (1.0.4)\n",
      "Requirement already satisfied: pexpect>4.3 in /Users/duyennguyen/anaconda3/lib/python3.10/site-packages (from ipython>=6.1.0->ipywidgets) (4.8.0)\n",
      "Requirement already satisfied: jedi>=0.16 in /Users/duyennguyen/anaconda3/lib/python3.10/site-packages (from ipython>=6.1.0->ipywidgets) (0.18.1)\n",
      "Requirement already satisfied: backcall in /Users/duyennguyen/anaconda3/lib/python3.10/site-packages (from ipython>=6.1.0->ipywidgets) (0.2.0)\n",
      "Requirement already satisfied: pickleshare in /Users/duyennguyen/anaconda3/lib/python3.10/site-packages (from ipython>=6.1.0->ipywidgets) (0.7.5)\n",
      "Requirement already satisfied: prompt-toolkit!=3.0.37,<3.1.0,>=3.0.30 in /Users/duyennguyen/anaconda3/lib/python3.10/site-packages (from ipython>=6.1.0->ipywidgets) (3.0.36)\n",
      "Requirement already satisfied: pygments>=2.4.0 in /Users/duyennguyen/anaconda3/lib/python3.10/site-packages (from ipython>=6.1.0->ipywidgets) (2.15.1)\n",
      "Requirement already satisfied: stack-data in /Users/duyennguyen/anaconda3/lib/python3.10/site-packages (from ipython>=6.1.0->ipywidgets) (0.2.0)\n",
      "Requirement already satisfied: decorator in /Users/duyennguyen/anaconda3/lib/python3.10/site-packages (from ipython>=6.1.0->ipywidgets) (5.1.1)\n",
      "Requirement already satisfied: parso<0.9.0,>=0.8.0 in /Users/duyennguyen/anaconda3/lib/python3.10/site-packages (from jedi>=0.16->ipython>=6.1.0->ipywidgets) (0.8.3)\n",
      "Requirement already satisfied: python-dateutil>=2.8.2 in /Users/duyennguyen/anaconda3/lib/python3.10/site-packages (from jupyter-client>=6.1.12->ipykernel>=4.5.1->ipywidgets) (2.8.2)\n",
      "Requirement already satisfied: entrypoints in /Users/duyennguyen/anaconda3/lib/python3.10/site-packages (from jupyter-client>=6.1.12->ipykernel>=4.5.1->ipywidgets) (0.4)\n",
      "Requirement already satisfied: platformdirs>=2.5 in /Users/duyennguyen/anaconda3/lib/python3.10/site-packages (from jupyter-core!=5.0.*,>=4.12->ipykernel>=4.5.1->ipywidgets) (3.10.0)\n",
      "Requirement already satisfied: ptyprocess>=0.5 in /Users/duyennguyen/anaconda3/lib/python3.10/site-packages (from pexpect>4.3->ipython>=6.1.0->ipywidgets) (0.7.0)\n",
      "Requirement already satisfied: wcwidth in /Users/duyennguyen/anaconda3/lib/python3.10/site-packages (from prompt-toolkit!=3.0.37,<3.1.0,>=3.0.30->ipython>=6.1.0->ipywidgets) (0.2.5)\n",
      "Requirement already satisfied: executing in /Users/duyennguyen/anaconda3/lib/python3.10/site-packages (from stack-data->ipython>=6.1.0->ipywidgets) (0.8.3)\n",
      "Requirement already satisfied: pure-eval in /Users/duyennguyen/anaconda3/lib/python3.10/site-packages (from stack-data->ipython>=6.1.0->ipywidgets) (0.2.2)\n",
      "Requirement already satisfied: asttokens in /Users/duyennguyen/anaconda3/lib/python3.10/site-packages (from stack-data->ipython>=6.1.0->ipywidgets) (2.0.5)\n",
      "Requirement already satisfied: six>=1.5 in /Users/duyennguyen/anaconda3/lib/python3.10/site-packages (from python-dateutil>=2.8.2->jupyter-client>=6.1.12->ipykernel>=4.5.1->ipywidgets) (1.16.0)\n",
      "Requirement already satisfied: lancedb in /Users/duyennguyen/anaconda3/lib/python3.10/site-packages (0.2.4)\n",
      "Requirement already satisfied: attr in /Users/duyennguyen/anaconda3/lib/python3.10/site-packages (from lancedb) (0.3.2)\n",
      "Requirement already satisfied: aiohttp in /Users/duyennguyen/anaconda3/lib/python3.10/site-packages (from lancedb) (3.8.4)\n",
      "Requirement already satisfied: pydantic in /Users/duyennguyen/anaconda3/lib/python3.10/site-packages (from lancedb) (1.10.9)\n",
      "Requirement already satisfied: tqdm in /Users/duyennguyen/anaconda3/lib/python3.10/site-packages (from lancedb) (4.65.0)\n",
      "Requirement already satisfied: cachetools in /Users/duyennguyen/anaconda3/lib/python3.10/site-packages (from lancedb) (5.3.1)\n",
      "Requirement already satisfied: ratelimiter in /Users/duyennguyen/anaconda3/lib/python3.10/site-packages (from lancedb) (1.2.0.post0)\n",
      "Requirement already satisfied: semver>=3.0 in /Users/duyennguyen/anaconda3/lib/python3.10/site-packages (from lancedb) (3.0.1)\n",
      "Requirement already satisfied: pylance==0.7.4 in /Users/duyennguyen/anaconda3/lib/python3.10/site-packages (from lancedb) (0.7.4)\n",
      "Requirement already satisfied: retry in /Users/duyennguyen/anaconda3/lib/python3.10/site-packages (from lancedb) (0.9.2)\n",
      "Requirement already satisfied: numpy>=1.22 in /Users/duyennguyen/anaconda3/lib/python3.10/site-packages (from pylance==0.7.4->lancedb) (1.24.0)\n",
      "Requirement already satisfied: pyarrow>=10 in /Users/duyennguyen/anaconda3/lib/python3.10/site-packages (from pylance==0.7.4->lancedb) (12.0.1)\n",
      "Requirement already satisfied: attrs>=17.3.0 in /Users/duyennguyen/anaconda3/lib/python3.10/site-packages (from aiohttp->lancedb) (22.1.0)\n",
      "Requirement already satisfied: async-timeout<5.0,>=4.0.0a3 in /Users/duyennguyen/anaconda3/lib/python3.10/site-packages (from aiohttp->lancedb) (4.0.2)\n",
      "Requirement already satisfied: charset-normalizer<4.0,>=2.0 in /Users/duyennguyen/anaconda3/lib/python3.10/site-packages (from aiohttp->lancedb) (2.0.4)\n",
      "Requirement already satisfied: aiosignal>=1.1.2 in /Users/duyennguyen/anaconda3/lib/python3.10/site-packages (from aiohttp->lancedb) (1.3.1)\n",
      "Requirement already satisfied: multidict<7.0,>=4.5 in /Users/duyennguyen/anaconda3/lib/python3.10/site-packages (from aiohttp->lancedb) (6.0.4)\n",
      "Requirement already satisfied: frozenlist>=1.1.1 in /Users/duyennguyen/anaconda3/lib/python3.10/site-packages (from aiohttp->lancedb) (1.3.3)\n",
      "Requirement already satisfied: yarl<2.0,>=1.0 in /Users/duyennguyen/anaconda3/lib/python3.10/site-packages (from aiohttp->lancedb) (1.9.2)\n",
      "Requirement already satisfied: typing-extensions>=4.2.0 in /Users/duyennguyen/anaconda3/lib/python3.10/site-packages (from pydantic->lancedb) (4.7.1)\n",
      "Requirement already satisfied: py<2.0.0,>=1.4.26 in /Users/duyennguyen/anaconda3/lib/python3.10/site-packages (from retry->lancedb) (1.11.0)\n",
      "Requirement already satisfied: decorator>=3.4.2 in /Users/duyennguyen/anaconda3/lib/python3.10/site-packages (from retry->lancedb) (5.1.1)\n",
      "Requirement already satisfied: idna>=2.0 in /Users/duyennguyen/anaconda3/lib/python3.10/site-packages (from yarl<2.0,>=1.0->aiohttp->lancedb) (2.10)\n",
      "Requirement already satisfied: httpcore==0.17.3 in /Users/duyennguyen/anaconda3/lib/python3.10/site-packages (0.17.3)\n",
      "Requirement already satisfied: certifi in /Users/duyennguyen/anaconda3/lib/python3.10/site-packages (from httpcore==0.17.3) (2023.7.22)\n",
      "Requirement already satisfied: h11<0.15,>=0.13 in /Users/duyennguyen/anaconda3/lib/python3.10/site-packages (from httpcore==0.17.3) (0.14.0)\n",
      "Requirement already satisfied: sniffio==1.* in /Users/duyennguyen/anaconda3/lib/python3.10/site-packages (from httpcore==0.17.3) (1.3.0)\n",
      "Requirement already satisfied: anyio<5.0,>=3.0 in /Users/duyennguyen/anaconda3/lib/python3.10/site-packages (from httpcore==0.17.3) (3.7.1)\n",
      "Requirement already satisfied: idna>=2.8 in /Users/duyennguyen/anaconda3/lib/python3.10/site-packages (from anyio<5.0,>=3.0->httpcore==0.17.3) (2.10)\n",
      "Requirement already satisfied: exceptiongroup in /Users/duyennguyen/anaconda3/lib/python3.10/site-packages (from anyio<5.0,>=3.0->httpcore==0.17.3) (1.0.4)\n",
      "Requirement already satisfied: httpx==0.24.1 in /Users/duyennguyen/anaconda3/lib/python3.10/site-packages (0.24.1)\n",
      "Requirement already satisfied: httpcore<0.18.0,>=0.15.0 in /Users/duyennguyen/anaconda3/lib/python3.10/site-packages (from httpx==0.24.1) (0.17.3)\n",
      "Requirement already satisfied: sniffio in /Users/duyennguyen/anaconda3/lib/python3.10/site-packages (from httpx==0.24.1) (1.3.0)\n",
      "Requirement already satisfied: certifi in /Users/duyennguyen/anaconda3/lib/python3.10/site-packages (from httpx==0.24.1) (2023.7.22)\n",
      "Requirement already satisfied: idna in /Users/duyennguyen/anaconda3/lib/python3.10/site-packages (from httpx==0.24.1) (2.10)\n",
      "Requirement already satisfied: anyio<5.0,>=3.0 in /Users/duyennguyen/anaconda3/lib/python3.10/site-packages (from httpcore<0.18.0,>=0.15.0->httpx==0.24.1) (3.7.1)\n",
      "Requirement already satisfied: h11<0.15,>=0.13 in /Users/duyennguyen/anaconda3/lib/python3.10/site-packages (from httpcore<0.18.0,>=0.15.0->httpx==0.24.1) (0.14.0)\n",
      "Requirement already satisfied: exceptiongroup in /Users/duyennguyen/anaconda3/lib/python3.10/site-packages (from anyio<5.0,>=3.0->httpcore<0.18.0,>=0.15.0->httpx==0.24.1) (1.0.4)\n",
      "Requirement already satisfied: h11==0.14.0 in /Users/duyennguyen/anaconda3/lib/python3.10/site-packages (0.14.0)\n"
     ]
    }
   ],
   "source": [
    "! pip install fiftyone==0.21.4\n",
    "! pip install torch torchvision torchaudio\n",
    "! pip install ipywidgets\n",
    "! pip install lancedb\n",
    "! pip install httpcore==0.17.3\n",
    "! pip install httpx==0.24.1\n",
    "! pip install h11==0.14.0"
   ]
  },
  {
   "cell_type": "markdown",
   "id": "fb9afb40",
   "metadata": {
    "id": "fb9afb40"
   },
   "source": [
    "Load dữ liệu keyframe từ thư mục chứa keyframe. Mỗi ảnh và thông tin đi kèm sau này sẽ được lưu trữ trong một Sample. Tất cả các Sample được lưu trong Dataset."
   ]
  },
  {
   "cell_type": "code",
   "execution_count": 2,
   "id": "357d4489",
   "metadata": {
    "colab": {
     "base_uri": "https://localhost:8080/",
     "height": 385
    },
    "executionInfo": {
     "elapsed": 67062,
     "status": "error",
     "timestamp": 1693550145886,
     "user": {
      "displayName": "Duyen Nguyen",
      "userId": "05537559569783534217"
     },
     "user_tz": -420
    },
    "id": "357d4489",
    "outputId": "6ae1ea87-95f0-4d8d-92b3-c319c10310c0"
   },
   "outputs": [],
   "source": [
    "import fiftyone as fo\n",
    "import fiftyone.brain as fob\n",
    "import numpy as np\n",
    "from glob import glob\n",
    "import json\n",
    "import os"
   ]
  },
  {
   "cell_type": "markdown",
   "id": "36b7ba43",
   "metadata": {
    "id": "36b7ba43"
   },
   "source": [
    "Load dữ liệu keyframe từ thư mục chứa keyframe. Trong hướng dẫn này tất cả các file Keyframes_L*.zip được giải nén vào thư mục `D:\\AIC\\Keyframes`. Mỗi ảnh và thông tin đi kèm sau này sẽ được lưu trữ trong một `Sample`. Tất cả các `Sample` được lưu trong `Dataset`."
   ]
  },
  {
   "cell_type": "code",
   "execution_count": null,
   "id": "9e072688",
   "metadata": {
    "id": "9e072688"
   },
   "outputs": [
    {
     "name": "stdout",
     "output_type": "stream",
     "text": [
      " 100% |█████████████| 87306/87306 [5.8s elapsed, 0s remaining, 15.2K samples/s]      \n"
     ]
    }
   ],
   "source": [
    "# load dataset\n",
    "# dataset = fo.Dataset.from_images_dir('/Users/duyennguyen/Downloads/AIC/Batch_01/Keyframes', name=None, tags=None, recursive=True)"
   ]
  },
  {
   "cell_type": "code",
   "execution_count": 3,
   "id": "36d49fe1",
   "metadata": {},
   "outputs": [
    {
     "name": "stdout",
     "output_type": "stream",
     "text": [
      "Importing samples...\n",
      " 100% |█████████████| 87306/87306 [1.2s elapsed, 0s remaining, 73.9K samples/s]         \n",
      "Import complete\n"
     ]
    }
   ],
   "source": [
    "# Reload dataset\n",
    "\n",
    "import fiftyone as fo\n",
    "\n",
    "# The directory containing the dataset to import\n",
    "dataset_dir = \"./lancedb_index_051023\"\n",
    "\n",
    "# The type of the dataset being imported\n",
    "dataset_type = fo.types.FiftyOneDataset  # for example\n",
    "\n",
    "# Import the dataset\n",
    "dataset = fo.Dataset.from_dir(\n",
    "    dataset_dir=dataset_dir,\n",
    "    dataset_type=dataset_type,\n",
    ")"
   ]
  },
  {
   "cell_type": "code",
   "execution_count": null,
   "id": "5051c64a",
   "metadata": {},
   "outputs": [
    {
     "name": "stdout",
     "output_type": "stream",
     "text": [
      "<Sample: {\n",
      "    'id': '651ea66118a59293a3c7c199',\n",
      "    'media_type': 'image',\n",
      "    'filepath': '/Users/duyennguyen/Downloads/AIC/Batch_01/lancedb_index_051023/data/0001.jpg',\n",
      "    'tags': [],\n",
      "    'metadata': None,\n",
      "    'video': 'L07_V001',\n",
      "    'frameid': '0001',\n",
      "    'object_faster_rcnn': <Detections: {\n",
      "        'detections': [\n",
      "            <Detection: {\n",
      "                'id': '651ea67c18a59293a3c916a3',\n",
      "                'attributes': {},\n",
      "                'tags': [],\n",
      "                'label': 'Traffic sign',\n",
      "                'bounding_box': [0.20671254, 0.2666586, 0.5882361, 0.4689785],\n",
      "                'mask': None,\n",
      "                'confidence': 0.8469662,\n",
      "                'index': None,\n",
      "            }>,\n",
      "            <Detection: {\n",
      "                'id': '651ea67c18a59293a3c916a4',\n",
      "                'attributes': {},\n",
      "                'tags': [],\n",
      "                'label': 'Traffic sign',\n",
      "                'bounding_box': [0.19411297, 0.28320366, 0.19830398, 0.3873986],\n",
      "                'mask': None,\n",
      "                'confidence': 0.698612,\n",
      "                'index': None,\n",
      "            }>,\n",
      "            <Detection: {\n",
      "                'id': '651ea67c18a59293a3c916a5',\n",
      "                'attributes': {},\n",
      "                'tags': [],\n",
      "                'label': 'Traffic sign',\n",
      "                'bounding_box': [0.19499107, 0.28210998, 0.31653318999999996, 0.45111596],\n",
      "                'mask': None,\n",
      "                'confidence': 0.50060195,\n",
      "                'index': None,\n",
      "            }>,\n",
      "        ],\n",
      "    }>,\n",
      "}>\n"
     ]
    }
   ],
   "source": [
    "print(dataset.first())"
   ]
  },
  {
   "cell_type": "code",
   "execution_count": 4,
   "id": "3c740d1e",
   "metadata": {},
   "outputs": [
    {
     "data": {
      "text/html": [
       "\n",
       "        <iframe\n",
       "            width=\"100%\"\n",
       "            height=\"800\"\n",
       "            src=\"http://localhost:5152/?notebook=True&subscription=1d90688d-3d2f-4234-8a19-868a31e71ff3\"\n",
       "            frameborder=\"0\"\n",
       "            allowfullscreen\n",
       "            \n",
       "        ></iframe>\n",
       "        "
      ],
      "text/plain": [
       "<IPython.lib.display.IFrame at 0x2caaf2aa0>"
      ]
     },
     "metadata": {},
     "output_type": "display_data"
    },
    {
     "name": "stdout",
     "output_type": "stream",
     "text": [
      "Notebook sessions cannot wait\n"
     ]
    }
   ],
   "source": [
    "session = fo.launch_app(dataset, port =5152)\n",
    "session.wait()\n"
   ]
  },
  {
   "cell_type": "markdown",
   "id": "9b89e71c",
   "metadata": {
    "id": "9b89e71c"
   },
   "source": [
    "Sau khi dữ liệu đã load lên xong. Bạn có thể truy cập vào đường vào ứng dụng web của fiftyone từ [http://localhost:5152](http://localhost:5152)"
   ]
  },
  {
   "cell_type": "markdown",
   "id": "078ce744",
   "metadata": {
    "id": "078ce744"
   },
   "source": [
    "Hoặc bạn có thể chạy cell bên dưới để mở tab mới cho ứng dụng web fiftyone"
   ]
  },
  {
   "cell_type": "markdown",
   "id": "28298924",
   "metadata": {
    "id": "28298924"
   },
   "source": [
    "### Trích xuất thêm thông tin tên của video và frameid\n",
    "Thông tin `video` và `frameid` sẽ được lấy từ tên của tập tin keyframe."
   ]
  },
  {
   "cell_type": "code",
   "execution_count": null,
   "id": "a8ee02ad",
   "metadata": {
    "id": "a8ee02ad"
   },
   "outputs": [],
   "source": [
    "# for sample in dataset:\n",
    "#     _, sample['video'], sample['frameid'] = sample['filepath'][:-4].rsplit('/', 2)\n",
    "#     sample.save()"
   ]
  },
  {
   "cell_type": "markdown",
   "id": "4309a34f",
   "metadata": {
    "id": "4309a34f"
   },
   "source": [
    "### Thêm thông tin kết quả của object detection.\n",
    "\n",
    "Bước này có thể tốn của bạn nhiều thời gian để đọc hết tất cả các dữ liệu về object detection. Bạn có thể bỏ qua cell này và chạy cell này sau nếu muốn thử thêm các thông tin về vector CLIP embedding trước."
   ]
  },
  {
   "cell_type": "code",
   "execution_count": null,
   "id": "ad1c4395",
   "metadata": {
    "id": "ad1c4395"
   },
   "outputs": [],
   "source": [
    "# #label_set = set()\n",
    "\n",
    "# for sample in dataset:\n",
    "#     object_path = f\"/Users/duyennguyen/Downloads/AIC/Batch_01/objects/{sample['video']}/{sample['frameid']}.json\"\n",
    "#     with open(object_path) as jsonfile:\n",
    "#         det_data = json.load(jsonfile)\n",
    "#     detections = []\n",
    "#     for cls, box, score in zip(det_data['detection_class_entities'], det_data['detection_boxes'], det_data['detection_scores']):\n",
    "#         # Convert to [top-left-x, top-left-y, width, height]\n",
    "#         boxf = [float(box[1]), float(box[0]), float(box[3]) - float(box[1]), float(box[2]) - float(box[0])]\n",
    "#         scoref = float(score)\n",
    "\n",
    "#         # Only add objects with confidence > 0.4\n",
    "#         if scoref > 0.4:\n",
    "#             detections.append(\n",
    "#                 fo.Detection(\n",
    "#                     label=cls,\n",
    "#                     bounding_box= boxf,\n",
    "#                     confidence=float(score)\n",
    "#                 )\n",
    "#             )\n",
    "#     # for detection in detections:\n",
    "#     #     label_set.add(detection.label)\n",
    "        \n",
    "#     sample[\"object_faster_rcnn\"] = fo.Detections(detections=detections)\n",
    "#     sample.save()\n",
    "    \n",
    "# # # save label_set as a json file\n",
    "# # with open('label_set.json', 'w') as f:\n",
    "# #     json.dump(list(label_set), f)"
   ]
  },
  {
   "cell_type": "markdown",
   "id": "e287dbb4",
   "metadata": {
    "id": "e287dbb4"
   },
   "source": [
    "### Thêm thông tin CLIP embedding."
   ]
  },
  {
   "cell_type": "code",
   "execution_count": null,
   "id": "58d5d9ca",
   "metadata": {
    "id": "58d5d9ca"
   },
   "outputs": [],
   "source": [
    "# all_keyframe = glob('/Users/duyennguyen/Downloads/AIC/Batch_01/Keyframes/*/keyframes-*/*/*.jpg')\n",
    "# video_keyframe_dict = {}\n",
    "# all_video = glob('/Users/duyennguyen/Downloads/AIC/Batch_01/Keyframes/*/keyframes-*/*')\n",
    "# all_video = [v.rsplit('/',1)[-1] for v in all_video]"
   ]
  },
  {
   "cell_type": "markdown",
   "id": "53460b70",
   "metadata": {
    "id": "53460b70"
   },
   "source": [
    "Đọc thông tin clip embedding được cung cấp.\n",
    "\n",
    "Lưu ý: Các bạn cần tải đúng bản CLIP embedding từ model **CLIP ViT-B/32**"
   ]
  },
  {
   "cell_type": "markdown",
   "id": "cb927629",
   "metadata": {
    "id": "cb927629"
   },
   "source": [
    "Tạo dictionary `video_keyframe_dict` với `video_keyframe_dict[video]` thông tin danh sách `keyframe` của `video`"
   ]
  },
  {
   "cell_type": "code",
   "execution_count": null,
   "id": "f33da133",
   "metadata": {
    "id": "f33da133"
   },
   "outputs": [],
   "source": [
    "# for kf in all_keyframe:\n",
    "#     _, vid, kf = kf[:-4].rsplit('/',2)\n",
    "#     if vid not in video_keyframe_dict.keys():\n",
    "#         video_keyframe_dict[vid] = [kf]\n",
    "#     else:\n",
    "#         video_keyframe_dict[vid].append(kf)"
   ]
  },
  {
   "cell_type": "markdown",
   "id": "faefe0bf",
   "metadata": {
    "id": "faefe0bf"
   },
   "source": [
    "Do thông tin vector CLIP embedding được cung cấp được lưu theo từng video nhầm mục đích tối ưu thời gian đọc dữ liệu. Cần sort lại danh sách `keyframe` của từng `video` để đảm bảo thứ tự đọc đúng với vector embedding được cung cấp."
   ]
  },
  {
   "cell_type": "code",
   "execution_count": null,
   "id": "4b0fad7a",
   "metadata": {
    "id": "4b0fad7a"
   },
   "outputs": [],
   "source": [
    "# for k,v in video_keyframe_dict.items():\n",
    "#     video_keyframe_dict[k] = sorted(v)"
   ]
  },
  {
   "cell_type": "markdown",
   "id": "9d99d121",
   "metadata": {
    "id": "9d99d121"
   },
   "source": [
    "Tạo dictionary `embedding_dict` với `embedding_dict[video][keyframe]` lưu thông tin vector CLIP embedding của `keyframe` trong `video` tương ứng"
   ]
  },
  {
   "cell_type": "code",
   "execution_count": null,
   "id": "a5d94d7b",
   "metadata": {
    "id": "a5d94d7b"
   },
   "outputs": [],
   "source": [
    "# embedding_dict = {}\n",
    "# for v in all_video:\n",
    "#     clip_path = f'/Users/duyennguyen/Downloads/AIC/Batch_01/clip-features-vit-b32/{v}.npy'\n",
    "#     a = np.load(clip_path)\n",
    "#     embedding_dict[v] = {}\n",
    "#     for i,k in enumerate(video_keyframe_dict[v]):\n",
    "#         embedding_dict[v][k] = a[i]"
   ]
  },
  {
   "cell_type": "markdown",
   "id": "5ea0432e",
   "metadata": {
    "id": "5ea0432e"
   },
   "source": [
    "Tạo danh sách `clip_embedding` ứng với danh sách `sample` trong `dataset`."
   ]
  },
  {
   "cell_type": "code",
   "execution_count": null,
   "id": "1ad16b5c",
   "metadata": {
    "id": "1ad16b5c"
   },
   "outputs": [],
   "source": [
    "# clip_embeddings = []\n",
    "# for sample in dataset:\n",
    "#     clip_embedding = embedding_dict[sample['video']][sample['frameid']]\n",
    "#     clip_embeddings.append(clip_embedding)\n"
   ]
  },
  {
   "cell_type": "code",
   "execution_count": null,
   "id": "9634a825",
   "metadata": {},
   "outputs": [],
   "source": [
    "# # Clean up    \n",
    "# # Delete run record from FiftyOne\n",
    "# dataset.delete_brain_run(\"lancedb_index\") # milvus_index, img_sim, tmp"
   ]
  },
  {
   "cell_type": "code",
   "execution_count": 35,
   "id": "655d2feb",
   "metadata": {
    "id": "655d2feb"
   },
   "outputs": [
    {
     "name": "stdout",
     "output_type": "stream",
     "text": [
      "Computing embeddings...\n",
      "  21% |██|----------| 18533/87306 [17.5m elapsed, 1.2h remaining, 10.8 samples/s]   "
     ]
    }
   ],
   "source": [
    "# lancedb_index = fob.compute_similarity(\n",
    "\n",
    "#     # # default\n",
    "#     # dataset,\n",
    "#     # model=\"clip-vit-base32-torch\",      # store model's name for future use\n",
    "#     # embeddings=clip_embeddings,         # precomputed image embeddings\n",
    "#     # backend=\"sklearn\",                  \n",
    "#     # brain_key=\"img_sim\",                \n",
    "\n",
    "\n",
    "#     # lancedb\n",
    "#     dataset,\n",
    "#     # embeddings=clip_embeddings,         # precomputed image embeddings\n",
    "#     model=\"clip-vit-base32-torch\",      # store model's name for future use\n",
    "#     brain_key=\"lancedb_index\",                # img_sim, tmp, milvus_index, lancedb_index\n",
    "#     backend=\"lancedb\",                  # sklearn, qdrant, pinecone, milvus, lancedb\n",
    "\n",
    "#     # # milvus\n",
    "#     # dataset,\n",
    "#     # model=\"clip-vit-base32-torch\",      # store model's name for future use\n",
    "#     # # embeddings=clip_embeddings,         # precomputed image embeddings\n",
    "#     # backend=\"lancedb\",                  # sklearn, qdrant, pinecone, milvus, lancedb\n",
    "#     # brain_key=\"lancedb_index\",                # img_sim, tmp, milvus_index, lancedb_index\n",
    "#     # # uri=\"tcp://localhost:19530\",        # milvus server uri\n",
    "\n",
    "#     # # qdrant\n",
    "#     # dataset,\n",
    "#     # model=\"clip-vit-base32-torch\",      # store model's name for future use\n",
    "#     # # embeddings=clip_embeddings,         # precomputed image embeddings\n",
    "#     # backend=\"qdrant\",                  # sklearn, qdrant, pinecone, milvus, lancedb\n",
    "#     # brain_key=\"qdrant_index\",                # img_sim, tmp, milvus_index, lancedb_index\n",
    "\n",
    "#     # # pinecone\n",
    "#     # dataset,\n",
    "#     # model=\"clip-vit-base32-torch\",      # store model's name for future use\n",
    "#     # # embeddings=clip_embeddings,       # precomputed image embeddings\n",
    "#     # backend=\"pinecone\",                 # sklearn, qdrant, pinecone, milvus, lancedb\n",
    "# # brain_key=\"pinecone_index\",             # img_sim, tmp, milvus_index, lancedb_index\n",
    "        \n",
    "# )\n",
    "\n"
   ]
  },
  {
   "cell_type": "code",
   "execution_count": 17,
   "id": "67714ed2",
   "metadata": {},
   "outputs": [
    {
     "name": "stdout",
     "output_type": "stream",
     "text": [
      "{\n",
      "    \"key\": \"lancedb_index\",\n",
      "    \"version\": \"0.21.4\",\n",
      "    \"timestamp\": \"2023-10-05T12:19:15.836000\",\n",
      "    \"config\": {\n",
      "        \"method\": \"lancedb\",\n",
      "        \"cls\": \"fiftyone.brain.internal.core.lancedb.LanceDBSimilarityConfig\",\n",
      "        \"embeddings_field\": null,\n",
      "        \"model\": \"clip-vit-base32-torch\",\n",
      "        \"patches_field\": null,\n",
      "        \"supports_prompts\": true,\n",
      "        \"table_name\": \"fiftyone-2023-10-05-19-04-48\",\n",
      "        \"metric\": \"cosine\"\n",
      "    }\n",
      "}\n",
      "<bound method LanceDBSimilarityIndex.__init__ of <fiftyone.brain.internal.core.lancedb.LanceDBSimilarityIndex object at 0x2c5e59330>>\n"
     ]
    }
   ],
   "source": [
    "print(dataset.get_brain_info('lancedb_index'))\n",
    "lancedb_index = dataset.load_brain_results('lancedb_index')\n",
    "print(lancedb_index.)"
   ]
  },
  {
   "cell_type": "code",
   "execution_count": 19,
   "id": "ca117d76",
   "metadata": {},
   "outputs": [
    {
     "name": "stdout",
     "output_type": "stream",
     "text": [
      "{\n",
      "    \"default_similarity_backend\": \"sklearn\",\n",
      "    \"similarity_backends\": {\n",
      "        \"lancedb\": {\n",
      "            \"config_cls\": \"fiftyone.brain.internal.core.lancedb.LanceDBSimilarityConfig\"\n",
      "        },\n",
      "        \"milvus\": {\n",
      "            \"config_cls\": \"fiftyone.brain.internal.core.milvus.MilvusSimilarityConfig\"\n",
      "        },\n",
      "        \"pinecone\": {\n",
      "            \"config_cls\": \"fiftyone.brain.internal.core.pinecone.PineconeSimilarityConfig\"\n",
      "        },\n",
      "        \"qdrant\": {\n",
      "            \"config_cls\": \"fiftyone.brain.internal.core.qdrant.QdrantSimilarityConfig\"\n",
      "        },\n",
      "        \"sklearn\": {\n",
      "            \"config_cls\": \"fiftyone.brain.internal.core.sklearn.SklearnSimilarityConfig\"\n",
      "        }\n",
      "    }\n",
      "}\n"
     ]
    }
   ],
   "source": [
    "print(fob.brain_config)\n"
   ]
  },
  {
   "cell_type": "code",
   "execution_count": 15,
   "id": "1a5d58f9",
   "metadata": {},
   "outputs": [
    {
     "ename": "FileNotFoundError",
     "evalue": "Table None does not exist. Please first call db.create_table(None, data)",
     "output_type": "error",
     "traceback": [
      "\u001b[0;31m---------------------------------------------------------------------------\u001b[0m",
      "\u001b[0;31mFileNotFoundError\u001b[0m                         Traceback (most recent call last)",
      "\u001b[1;32m/Users/duyennguyen/Downloads/AIC/Batch_01/LanceDB_AIC-2023-Baseline-v1.ipynb Cell 31\u001b[0m line \u001b[0;36m5\n\u001b[1;32m      <a href='vscode-notebook-cell:/Users/duyennguyen/Downloads/AIC/Batch_01/LanceDB_AIC-2023-Baseline-v1.ipynb#X41sZmlsZQ%3D%3D?line=1'>2</a>\u001b[0m db \u001b[39m=\u001b[39m lancedb\u001b[39m.\u001b[39mconnect(\u001b[39m'\u001b[39m\u001b[39m./.lancedb\u001b[39m\u001b[39m'\u001b[39m)\n\u001b[1;32m      <a href='vscode-notebook-cell:/Users/duyennguyen/Downloads/AIC/Batch_01/LanceDB_AIC-2023-Baseline-v1.ipynb#X41sZmlsZQ%3D%3D?line=2'>3</a>\u001b[0m \u001b[39m# db.create_table('lancedb_index', lancedb_index.table)\u001b[39;00m\n\u001b[0;32m----> <a href='vscode-notebook-cell:/Users/duyennguyen/Downloads/AIC/Batch_01/LanceDB_AIC-2023-Baseline-v1.ipynb#X41sZmlsZQ%3D%3D?line=4'>5</a>\u001b[0m lancedb_table \u001b[39m=\u001b[39m db\u001b[39m.\u001b[39;49mopen_table(lancedb_index\u001b[39m.\u001b[39;49mtable)\n\u001b[1;32m      <a href='vscode-notebook-cell:/Users/duyennguyen/Downloads/AIC/Batch_01/LanceDB_AIC-2023-Baseline-v1.ipynb#X41sZmlsZQ%3D%3D?line=5'>6</a>\u001b[0m query \u001b[39m=\u001b[39m dataset\u001b[39m.\u001b[39mfirst()\u001b[39m.\u001b[39mid  \u001b[39m# query by sample ID\u001b[39;00m\n\u001b[1;32m      <a href='vscode-notebook-cell:/Users/duyennguyen/Downloads/AIC/Batch_01/LanceDB_AIC-2023-Baseline-v1.ipynb#X41sZmlsZQ%3D%3D?line=6'>7</a>\u001b[0m query_results \u001b[39m=\u001b[39m lancedb_table\u001b[39m.\u001b[39msearch(query)\u001b[39m.\u001b[39mlimit(\u001b[39m10\u001b[39m)\n",
      "File \u001b[0;32m~/anaconda3/lib/python3.10/site-packages/lancedb/db.py:328\u001b[0m, in \u001b[0;36mLanceDBConnection.open_table\u001b[0;34m(self, name)\u001b[0m\n\u001b[1;32m    316\u001b[0m \u001b[39mdef\u001b[39;00m \u001b[39mopen_table\u001b[39m(\u001b[39mself\u001b[39m, name: \u001b[39mstr\u001b[39m) \u001b[39m-\u001b[39m\u001b[39m>\u001b[39m LanceTable:\n\u001b[1;32m    317\u001b[0m \u001b[39m    \u001b[39m\u001b[39m\"\"\"Open a table in the database.\u001b[39;00m\n\u001b[1;32m    318\u001b[0m \n\u001b[1;32m    319\u001b[0m \u001b[39m    Parameters\u001b[39;00m\n\u001b[0;32m   (...)\u001b[0m\n\u001b[1;32m    326\u001b[0m \u001b[39m    A LanceTable object representing the table.\u001b[39;00m\n\u001b[1;32m    327\u001b[0m \u001b[39m    \"\"\"\u001b[39;00m\n\u001b[0;32m--> 328\u001b[0m     \u001b[39mreturn\u001b[39;00m LanceTable\u001b[39m.\u001b[39;49mopen(\u001b[39mself\u001b[39;49m, name)\n",
      "File \u001b[0;32m~/anaconda3/lib/python3.10/site-packages/lancedb/table.py:778\u001b[0m, in \u001b[0;36mLanceTable.open\u001b[0;34m(cls, db, name)\u001b[0m\n\u001b[1;32m    776\u001b[0m file_info \u001b[39m=\u001b[39m fs\u001b[39m.\u001b[39mget_file_info(path)\n\u001b[1;32m    777\u001b[0m \u001b[39mif\u001b[39;00m file_info\u001b[39m.\u001b[39mtype \u001b[39m!=\u001b[39m pa\u001b[39m.\u001b[39mfs\u001b[39m.\u001b[39mFileType\u001b[39m.\u001b[39mDirectory:\n\u001b[0;32m--> 778\u001b[0m     \u001b[39mraise\u001b[39;00m \u001b[39mFileNotFoundError\u001b[39;00m(\n\u001b[1;32m    779\u001b[0m         \u001b[39mf\u001b[39m\u001b[39m\"\u001b[39m\u001b[39mTable \u001b[39m\u001b[39m{\u001b[39;00mname\u001b[39m}\u001b[39;00m\u001b[39m does not exist. Please first call db.create_table(\u001b[39m\u001b[39m{\u001b[39;00mname\u001b[39m}\u001b[39;00m\u001b[39m, data)\u001b[39m\u001b[39m\"\u001b[39m\n\u001b[1;32m    780\u001b[0m     )\n\u001b[1;32m    781\u001b[0m \u001b[39mreturn\u001b[39;00m tbl\n",
      "\u001b[0;31mFileNotFoundError\u001b[0m: Table None does not exist. Please first call db.create_table(None, data)"
     ]
    }
   ],
   "source": [
    "import lancedb\n",
    "db = lancedb.connect('./.lancedb')\n",
    "db.create_table('lancedb_index', lancedb_index.table)\n",
    "\n",
    "lancedb_table = db.open_table('lancedb_index')\n",
    "query = dataset.first().id  # query by sample ID\n",
    "query_results = lancedb_table.search(query).limit(10)\n"
   ]
  },
  {
   "cell_type": "code",
   "execution_count": null,
   "id": "6fa01d6e",
   "metadata": {},
   "outputs": [
    {
     "name": "stdout",
     "output_type": "stream",
     "text": [
      "651ea66118a59293a3c7c199\n"
     ]
    },
    {
     "ename": "AttributeError",
     "evalue": "'NoneType' object has no attribute 'to_pandas'",
     "output_type": "error",
     "traceback": [
      "\u001b[0;31m---------------------------------------------------------------------------\u001b[0m",
      "\u001b[0;31mAttributeError\u001b[0m                            Traceback (most recent call last)",
      "\u001b[1;32m/Users/duyennguyen/Downloads/AIC/Batch_01/LanceDB_AIC-2023-Baseline-v1.ipynb Cell 30\u001b[0m line \u001b[0;36m4\n\u001b[1;32m      <a href='vscode-notebook-cell:/Users/duyennguyen/Downloads/AIC/Batch_01/LanceDB_AIC-2023-Baseline-v1.ipynb#X36sZmlsZQ%3D%3D?line=1'>2</a>\u001b[0m query \u001b[39m=\u001b[39m dataset\u001b[39m.\u001b[39mfirst()\u001b[39m.\u001b[39mid  \u001b[39m# query by sample ID\u001b[39;00m\n\u001b[1;32m      <a href='vscode-notebook-cell:/Users/duyennguyen/Downloads/AIC/Batch_01/LanceDB_AIC-2023-Baseline-v1.ipynb#X36sZmlsZQ%3D%3D?line=2'>3</a>\u001b[0m \u001b[39mprint\u001b[39m(query)\n\u001b[0;32m----> <a href='vscode-notebook-cell:/Users/duyennguyen/Downloads/AIC/Batch_01/LanceDB_AIC-2023-Baseline-v1.ipynb#X36sZmlsZQ%3D%3D?line=3'>4</a>\u001b[0m view \u001b[39m=\u001b[39m dataset\u001b[39m.\u001b[39;49msort_by_similarity(\n\u001b[1;32m      <a href='vscode-notebook-cell:/Users/duyennguyen/Downloads/AIC/Batch_01/LanceDB_AIC-2023-Baseline-v1.ipynb#X36sZmlsZQ%3D%3D?line=4'>5</a>\u001b[0m     query,\n\u001b[1;32m      <a href='vscode-notebook-cell:/Users/duyennguyen/Downloads/AIC/Batch_01/LanceDB_AIC-2023-Baseline-v1.ipynb#X36sZmlsZQ%3D%3D?line=5'>6</a>\u001b[0m     brain_key\u001b[39m=\u001b[39;49m\u001b[39m\"\u001b[39;49m\u001b[39mlancedb_index\u001b[39;49m\u001b[39m\"\u001b[39;49m,\n\u001b[1;32m      <a href='vscode-notebook-cell:/Users/duyennguyen/Downloads/AIC/Batch_01/LanceDB_AIC-2023-Baseline-v1.ipynb#X36sZmlsZQ%3D%3D?line=6'>7</a>\u001b[0m     k\u001b[39m=\u001b[39;49m\u001b[39m10\u001b[39;49m,  \u001b[39m# limit to 10 most similar samples\u001b[39;49;00m\n\u001b[1;32m      <a href='vscode-notebook-cell:/Users/duyennguyen/Downloads/AIC/Batch_01/LanceDB_AIC-2023-Baseline-v1.ipynb#X36sZmlsZQ%3D%3D?line=7'>8</a>\u001b[0m )\n",
      "File \u001b[0;32m~/anaconda3/lib/python3.10/site-packages/fiftyone/core/collections.py:6200\u001b[0m, in \u001b[0;36mSampleCollection.sort_by_similarity\u001b[0;34m(self, query, k, reverse, dist_field, brain_key)\u001b[0m\n\u001b[1;32m   6128\u001b[0m \u001b[39m@view_stage\u001b[39m\n\u001b[1;32m   6129\u001b[0m \u001b[39mdef\u001b[39;00m \u001b[39msort_by_similarity\u001b[39m(\n\u001b[1;32m   6130\u001b[0m     \u001b[39mself\u001b[39m, query, k\u001b[39m=\u001b[39m\u001b[39mNone\u001b[39;00m, reverse\u001b[39m=\u001b[39m\u001b[39mFalse\u001b[39;00m, dist_field\u001b[39m=\u001b[39m\u001b[39mNone\u001b[39;00m, brain_key\u001b[39m=\u001b[39m\u001b[39mNone\u001b[39;00m\n\u001b[1;32m   6131\u001b[0m ):\n\u001b[1;32m   6132\u001b[0m \u001b[39m    \u001b[39m\u001b[39m\"\"\"Sorts the collection by similiarity to a specified query.\u001b[39;00m\n\u001b[1;32m   6133\u001b[0m \n\u001b[1;32m   6134\u001b[0m \u001b[39m    In order to use this stage, you must first use\u001b[39;00m\n\u001b[0;32m   (...)\u001b[0m\n\u001b[1;32m   6198\u001b[0m \u001b[39m        a :class:`fiftyone.core.view.DatasetView`\u001b[39;00m\n\u001b[1;32m   6199\u001b[0m \u001b[39m    \"\"\"\u001b[39;00m\n\u001b[0;32m-> 6200\u001b[0m     \u001b[39mreturn\u001b[39;00m \u001b[39mself\u001b[39;49m\u001b[39m.\u001b[39;49m_add_view_stage(\n\u001b[1;32m   6201\u001b[0m         fos\u001b[39m.\u001b[39;49mSortBySimilarity(\n\u001b[1;32m   6202\u001b[0m             query,\n\u001b[1;32m   6203\u001b[0m             k\u001b[39m=\u001b[39;49mk,\n\u001b[1;32m   6204\u001b[0m             reverse\u001b[39m=\u001b[39;49mreverse,\n\u001b[1;32m   6205\u001b[0m             dist_field\u001b[39m=\u001b[39;49mdist_field,\n\u001b[1;32m   6206\u001b[0m             brain_key\u001b[39m=\u001b[39;49mbrain_key,\n\u001b[1;32m   6207\u001b[0m         )\n\u001b[1;32m   6208\u001b[0m     )\n",
      "File \u001b[0;32m~/anaconda3/lib/python3.10/site-packages/fiftyone/core/dataset.py:6007\u001b[0m, in \u001b[0;36mDataset._add_view_stage\u001b[0;34m(self, stage)\u001b[0m\n\u001b[1;32m   6006\u001b[0m \u001b[39mdef\u001b[39;00m \u001b[39m_add_view_stage\u001b[39m(\u001b[39mself\u001b[39m, stage):\n\u001b[0;32m-> 6007\u001b[0m     \u001b[39mreturn\u001b[39;00m \u001b[39mself\u001b[39;49m\u001b[39m.\u001b[39;49mview()\u001b[39m.\u001b[39;49madd_stage(stage)\n",
      "File \u001b[0;32m~/anaconda3/lib/python3.10/site-packages/fiftyone/core/collections.py:3482\u001b[0m, in \u001b[0;36mSampleCollection.add_stage\u001b[0;34m(self, stage)\u001b[0m\n\u001b[1;32m   3472\u001b[0m \u001b[39mdef\u001b[39;00m \u001b[39madd_stage\u001b[39m(\u001b[39mself\u001b[39m, stage):\n\u001b[1;32m   3473\u001b[0m \u001b[39m    \u001b[39m\u001b[39m\"\"\"Applies the given :class:`fiftyone.core.stages.ViewStage` to the\u001b[39;00m\n\u001b[1;32m   3474\u001b[0m \u001b[39m    collection.\u001b[39;00m\n\u001b[1;32m   3475\u001b[0m \n\u001b[0;32m   (...)\u001b[0m\n\u001b[1;32m   3480\u001b[0m \u001b[39m        a :class:`fiftyone.core.view.DatasetView`\u001b[39;00m\n\u001b[1;32m   3481\u001b[0m \u001b[39m    \"\"\"\u001b[39;00m\n\u001b[0;32m-> 3482\u001b[0m     \u001b[39mreturn\u001b[39;00m \u001b[39mself\u001b[39;49m\u001b[39m.\u001b[39;49m_add_view_stage(stage)\n",
      "File \u001b[0;32m~/anaconda3/lib/python3.10/site-packages/fiftyone/core/view.py:1602\u001b[0m, in \u001b[0;36mDatasetView._add_view_stage\u001b[0;34m(self, stage, validate)\u001b[0m\n\u001b[1;32m   1600\u001b[0m \u001b[39mdef\u001b[39;00m \u001b[39m_add_view_stage\u001b[39m(\u001b[39mself\u001b[39m, stage, validate\u001b[39m=\u001b[39m\u001b[39mTrue\u001b[39;00m):\n\u001b[1;32m   1601\u001b[0m     \u001b[39mif\u001b[39;00m validate:\n\u001b[0;32m-> 1602\u001b[0m         stage\u001b[39m.\u001b[39;49mvalidate(\u001b[39mself\u001b[39;49m)\n\u001b[1;32m   1604\u001b[0m     \u001b[39mif\u001b[39;00m stage\u001b[39m.\u001b[39mhas_view:\n\u001b[1;32m   1605\u001b[0m         view \u001b[39m=\u001b[39m stage\u001b[39m.\u001b[39mload_view(\u001b[39mself\u001b[39m)\n",
      "File \u001b[0;32m~/anaconda3/lib/python3.10/site-packages/fiftyone/core/stages.py:7097\u001b[0m, in \u001b[0;36mSortBySimilarity.validate\u001b[0;34m(self, sample_collection)\u001b[0m\n\u001b[1;32m   7094\u001b[0m     pipeline \u001b[39m=\u001b[39m \u001b[39mNone\u001b[39;00m\n\u001b[1;32m   7096\u001b[0m \u001b[39mif\u001b[39;00m state \u001b[39m!=\u001b[39m last_state \u001b[39mor\u001b[39;00m pipeline \u001b[39mis\u001b[39;00m \u001b[39mNone\u001b[39;00m:\n\u001b[0;32m-> 7097\u001b[0m     pipeline \u001b[39m=\u001b[39m \u001b[39mself\u001b[39;49m\u001b[39m.\u001b[39;49m_make_pipeline(sample_collection)\n\u001b[1;32m   7099\u001b[0m     state[\u001b[39m\"\u001b[39m\u001b[39mpipeline\u001b[39m\u001b[39m\"\u001b[39m] \u001b[39m=\u001b[39m pipeline\n\u001b[1;32m   7100\u001b[0m     \u001b[39mself\u001b[39m\u001b[39m.\u001b[39m_state \u001b[39m=\u001b[39m state\n",
      "File \u001b[0;32m~/anaconda3/lib/python3.10/site-packages/fiftyone/core/stages.py:7119\u001b[0m, in \u001b[0;36mSortBySimilarity._make_pipeline\u001b[0;34m(self, sample_collection)\u001b[0m\n\u001b[1;32m   7116\u001b[0m     results\u001b[39m.\u001b[39muse_view(sample_collection)\n\u001b[1;32m   7117\u001b[0m     context\u001b[39m.\u001b[39menter_context(results)  \u001b[39m# pylint: disable=no-member\u001b[39;00m\n\u001b[0;32m-> 7119\u001b[0m \u001b[39mreturn\u001b[39;00m results\u001b[39m.\u001b[39;49msort_by_similarity(\n\u001b[1;32m   7120\u001b[0m     \u001b[39mself\u001b[39;49m\u001b[39m.\u001b[39;49m_query,\n\u001b[1;32m   7121\u001b[0m     k\u001b[39m=\u001b[39;49m\u001b[39mself\u001b[39;49m\u001b[39m.\u001b[39;49m_k,\n\u001b[1;32m   7122\u001b[0m     reverse\u001b[39m=\u001b[39;49m\u001b[39mself\u001b[39;49m\u001b[39m.\u001b[39;49m_reverse,\n\u001b[1;32m   7123\u001b[0m     dist_field\u001b[39m=\u001b[39;49m\u001b[39mself\u001b[39;49m\u001b[39m.\u001b[39;49m_dist_field,\n\u001b[1;32m   7124\u001b[0m     _mongo\u001b[39m=\u001b[39;49m\u001b[39mTrue\u001b[39;49;00m,\n\u001b[1;32m   7125\u001b[0m )\n",
      "File \u001b[0;32m~/anaconda3/lib/python3.10/site-packages/fiftyone/brain/similarity.py:641\u001b[0m, in \u001b[0;36mSimilarityIndex.sort_by_similarity\u001b[0;34m(self, query, k, reverse, aggregation, dist_field, _mongo)\u001b[0m\n\u001b[1;32m    639\u001b[0m     ids, dists \u001b[39m=\u001b[39m \u001b[39mself\u001b[39m\u001b[39m.\u001b[39m_kneighbors(\u001b[39m*\u001b[39m\u001b[39m*\u001b[39mkwargs)\n\u001b[1;32m    640\u001b[0m \u001b[39melse\u001b[39;00m:\n\u001b[0;32m--> 641\u001b[0m     ids \u001b[39m=\u001b[39m \u001b[39mself\u001b[39;49m\u001b[39m.\u001b[39;49m_kneighbors(\u001b[39m*\u001b[39;49m\u001b[39m*\u001b[39;49mkwargs)\n\u001b[1;32m    643\u001b[0m \u001b[39mif\u001b[39;00m \u001b[39mnot\u001b[39;00m selecting_samples:\n\u001b[1;32m    644\u001b[0m     label_ids \u001b[39m=\u001b[39m ids\n",
      "File \u001b[0;32m~/anaconda3/lib/python3.10/site-packages/fiftyone/brain/internal/core/lancedb.py:472\u001b[0m, in \u001b[0;36mLanceDBSimilarityIndex._kneighbors\u001b[0;34m(self, query, k, reverse, aggregation, return_dists)\u001b[0m\n\u001b[1;32m    469\u001b[0m \u001b[39mif\u001b[39;00m k \u001b[39mis\u001b[39;00m \u001b[39mNone\u001b[39;00m:\n\u001b[1;32m    470\u001b[0m     k \u001b[39m=\u001b[39m \u001b[39mlen\u001b[39m(\u001b[39mself\u001b[39m\u001b[39m.\u001b[39m_table\u001b[39m.\u001b[39mto_arrow())\n\u001b[0;32m--> 472\u001b[0m query \u001b[39m=\u001b[39m \u001b[39mself\u001b[39;49m\u001b[39m.\u001b[39;49m_parse_neighbors_query(query)\n\u001b[1;32m    473\u001b[0m \u001b[39mif\u001b[39;00m aggregation \u001b[39m==\u001b[39m \u001b[39m\"\u001b[39m\u001b[39mmean\u001b[39m\u001b[39m\"\u001b[39m \u001b[39mand\u001b[39;00m query\u001b[39m.\u001b[39mndim \u001b[39m==\u001b[39m \u001b[39m2\u001b[39m:\n\u001b[1;32m    474\u001b[0m     query \u001b[39m=\u001b[39m query\u001b[39m.\u001b[39mmean(axis\u001b[39m=\u001b[39m\u001b[39m0\u001b[39m)\n",
      "File \u001b[0;32m~/anaconda3/lib/python3.10/site-packages/fiftyone/brain/internal/core/lancedb.py:534\u001b[0m, in \u001b[0;36mLanceDBSimilarityIndex._parse_neighbors_query\u001b[0;34m(self, query)\u001b[0m\n\u001b[1;32m    530\u001b[0m     single_query \u001b[39m=\u001b[39m \u001b[39mFalse\u001b[39;00m\n\u001b[1;32m    532\u001b[0m \u001b[39m# Query by ID(s)\u001b[39;00m\n\u001b[1;32m    533\u001b[0m embeddings \u001b[39m=\u001b[39m (\n\u001b[0;32m--> 534\u001b[0m     \u001b[39mself\u001b[39;49m\u001b[39m.\u001b[39;49m_table\u001b[39m.\u001b[39;49mto_pandas()\u001b[39m.\u001b[39mset_index(\u001b[39m\"\u001b[39m\u001b[39mid\u001b[39m\u001b[39m\"\u001b[39m)\u001b[39m.\u001b[39mloc[query_ids][\u001b[39m\"\u001b[39m\u001b[39mvector\u001b[39m\u001b[39m\"\u001b[39m]\n\u001b[1;32m    535\u001b[0m )\n\u001b[1;32m    536\u001b[0m query \u001b[39m=\u001b[39m np\u001b[39m.\u001b[39marray([emb \u001b[39mfor\u001b[39;00m emb \u001b[39min\u001b[39;00m embeddings])\n\u001b[1;32m    538\u001b[0m \u001b[39mif\u001b[39;00m single_query:\n",
      "\u001b[0;31mAttributeError\u001b[0m: 'NoneType' object has no attribute 'to_pandas'"
     ]
    }
   ],
   "source": [
    "# Step 4: Query your data\n",
    "query = dataset.first().id  # query by sample ID\n",
    "view = dataset.sort_by_similarity(\n",
    "    query,\n",
    "    brain_key=\"lancedb_index\",\n",
    "    k=10,  # limit to 10 most similar samples\n",
    ")\n",
    "\n",
    "# Step 5 (optional): Cleanup\n",
    "\n",
    "# # Delete the LanceDB table\n",
    "# lancedb_index.cleanup()\n",
    "\n",
    "# # Delete run record from FiftyOne\n",
    "# dataset.delete_brain_run(\"lancedb_index\")"
   ]
  },
  {
   "cell_type": "code",
   "execution_count": null,
   "id": "767cc9d4",
   "metadata": {},
   "outputs": [
    {
     "ename": "AttributeError",
     "evalue": "'NoneType' object has no attribute 'to_pandas'",
     "output_type": "error",
     "traceback": [
      "\u001b[0;31m---------------------------------------------------------------------------\u001b[0m",
      "\u001b[0;31mAttributeError\u001b[0m                            Traceback (most recent call last)",
      "\u001b[1;32m/Users/duyennguyen/Downloads/AIC/Batch_01/LanceDB_AIC-2023-Baseline-v1.ipynb Cell 31\u001b[0m line \u001b[0;36m4\n\u001b[1;32m      <a href='vscode-notebook-cell:/Users/duyennguyen/Downloads/AIC/Batch_01/LanceDB_AIC-2023-Baseline-v1.ipynb#X40sZmlsZQ%3D%3D?line=0'>1</a>\u001b[0m \u001b[39m# Retrieve the raw LanceDB table\u001b[39;00m\n\u001b[1;32m      <a href='vscode-notebook-cell:/Users/duyennguyen/Downloads/AIC/Batch_01/LanceDB_AIC-2023-Baseline-v1.ipynb#X40sZmlsZQ%3D%3D?line=1'>2</a>\u001b[0m table \u001b[39m=\u001b[39m lancedb_index\u001b[39m.\u001b[39mtable\n\u001b[0;32m----> <a href='vscode-notebook-cell:/Users/duyennguyen/Downloads/AIC/Batch_01/LanceDB_AIC-2023-Baseline-v1.ipynb#X40sZmlsZQ%3D%3D?line=3'>4</a>\u001b[0m df \u001b[39m=\u001b[39m table\u001b[39m.\u001b[39;49mto_pandas()  \u001b[39m# get the table as a pandas dataframe\u001b[39;00m\n\u001b[1;32m      <a href='vscode-notebook-cell:/Users/duyennguyen/Downloads/AIC/Batch_01/LanceDB_AIC-2023-Baseline-v1.ipynb#X40sZmlsZQ%3D%3D?line=4'>5</a>\u001b[0m pa \u001b[39m=\u001b[39m table\u001b[39m.\u001b[39mto_arrow()   \u001b[39m# get the table as an arrow table\u001b[39;00m\n\u001b[1;32m      <a href='vscode-notebook-cell:/Users/duyennguyen/Downloads/AIC/Batch_01/LanceDB_AIC-2023-Baseline-v1.ipynb#X40sZmlsZQ%3D%3D?line=6'>7</a>\u001b[0m df\u001b[39m.\u001b[39mhead()\n",
      "\u001b[0;31mAttributeError\u001b[0m: 'NoneType' object has no attribute 'to_pandas'"
     ]
    }
   ],
   "source": [
    "# Retrieve the raw LanceDB table\n",
    "table = lancedb_index.table\n",
    "\n",
    "df = table.to_pandas()  # get the table as a pandas dataframe\n",
    "pa = table.to_arrow()   # get the table as an arrow table\n",
    "\n",
    "df.head()\n",
    "# # export the table to a csv file\n",
    "# df.to_csv(\"./lancedb_index.csv\")"
   ]
  },
  {
   "cell_type": "code",
   "execution_count": null,
   "id": "0168ab5c",
   "metadata": {},
   "outputs": [],
   "source": [
    "# dataset.list_brain_runs(type=fob.Similarity)"
   ]
  },
  {
   "cell_type": "code",
   "execution_count": null,
   "id": "2684bbbf",
   "metadata": {},
   "outputs": [],
   "source": [
    "dataset.export(\n",
    "    './lancedb_index_051023',\n",
    "    dataset_type=fo.types.FiftyOneDataset\n",
    "    )"
   ]
  },
  {
   "cell_type": "code",
   "execution_count": null,
   "id": "b4533056",
   "metadata": {},
   "outputs": [],
   "source": [
    "# import fiftyone as fo\n",
    "\n",
    "# # The directory containing the dataset to import\n",
    "# dataset_dir = \"./lancedb_index_051023\"\n",
    "\n",
    "# # The type of the dataset being imported\n",
    "# dataset_type = fo.types.FiftyOneDataset  # for example\n",
    "\n",
    "# # Import the dataset\n",
    "# dataset = fo.Dataset.from_dir(\n",
    "#     dataset_dir=dataset_dir,\n",
    "#     dataset_type=dataset_type,\n",
    "# )"
   ]
  },
  {
   "cell_type": "code",
   "execution_count": null,
   "id": "c9ba98e0",
   "metadata": {},
   "outputs": [],
   "source": [
    "# dataset.load_brain_view(\"lancedb_index\")"
   ]
  },
  {
   "cell_type": "code",
   "execution_count": null,
   "id": "da5bf51f",
   "metadata": {},
   "outputs": [],
   "source": [
    "# print(dataset.first()['object_faster_rcnn'])"
   ]
  },
  {
   "cell_type": "code",
   "execution_count": null,
   "id": "714e81e1",
   "metadata": {},
   "outputs": [],
   "source": [
    "# # https://docs.voxel51.com/user_guide/brain.html#text-similarity\n",
    "\n",
    "# # Query text\n",
    "# query = \"kites high in the air\"\n",
    "\n",
    "# ## Image similarity\n",
    "# # Perform a text query\n",
    "# view = dataset.sort_by_similarity(\n",
    "#     query, \n",
    "#     k=15, \n",
    "\n",
    "#     # # default\n",
    "#     # brain_key=\"img_sim\"         \n",
    "\n",
    "#     # lancedb\n",
    "#     # brain_key=\"lancedb_index\"\n",
    "\n",
    "#     # # milvus\n",
    "#     # brain_key=\"milvus_index\"\n",
    "\n",
    "#     # # qdrant\n",
    "#     # brain_key=\"qdrant_index\"\n",
    "\n",
    "#     # # pinecone\n",
    "#     # brain_key=\"pinecone_index\"\n",
    "# )\n",
    "\n",
    "# session.view = view"
   ]
  },
  {
   "cell_type": "markdown",
   "id": "99223338",
   "metadata": {
    "id": "99223338"
   },
   "source": [
    "## Từ đây các bạn có thể thử các tính năng search, filter trên ứng dụng fiftyone."
   ]
  },
  {
   "cell_type": "code",
   "execution_count": null,
   "id": "46605386",
   "metadata": {
    "id": "46605386"
   },
   "outputs": [],
   "source": [
    "# # Bạn cần phải cài version umap-learn hỗ trợ.\n",
    "# fob.compute_visualization(\n",
    "#     dataset,\n",
    "#     embeddings=clip_embeddings,   # precomputed image embeddings\n",
    "#     brain_key=\"img_viz\",          # img_viz, tmp, gt_viz\n",
    "#     method=\"umap\",                # umap, tsne, pca\n",
    "#     seed=51,                      # random seed\n",
    "# )\n"
   ]
  },
  {
   "cell_type": "markdown",
   "id": "381972d8",
   "metadata": {
    "id": "381972d8"
   },
   "source": []
  },
  {
   "cell_type": "code",
   "execution_count": null,
   "id": "74f2b171",
   "metadata": {},
   "outputs": [],
   "source": [
    "# from fiftyone import ViewField as F\n",
    "\n",
    "# # Restrict to the 10 most common classes\n",
    "# counts = dataset.count_values(\"ground_truth.detections.label\")\n",
    "# classes = sorted(counts, key=counts.get, reverse=True)[:10]\n",
    "# view = dataset.filter_labels(\"ground_truth\", F(\"label\").is_in(classes))\n",
    "# session.view = view"
   ]
  },
  {
   "cell_type": "code",
   "execution_count": null,
   "id": "fc4468c5",
   "metadata": {},
   "outputs": [],
   "source": []
  }
 ],
 "metadata": {
  "colab": {
   "provenance": [
    {
     "file_id": "1dQB8kURHKeAc6CZORx2lg5psZfKpgUIT",
     "timestamp": 1693549975977
    }
   ]
  },
  "kernelspec": {
   "display_name": "Python 3 (ipykernel)",
   "language": "python",
   "name": "python3"
  },
  "language_info": {
   "codemirror_mode": {
    "name": "ipython",
    "version": 3
   },
   "file_extension": ".py",
   "mimetype": "text/x-python",
   "name": "python",
   "nbconvert_exporter": "python",
   "pygments_lexer": "ipython3",
   "version": "3.10.9"
  }
 },
 "nbformat": 4,
 "nbformat_minor": 5
}
