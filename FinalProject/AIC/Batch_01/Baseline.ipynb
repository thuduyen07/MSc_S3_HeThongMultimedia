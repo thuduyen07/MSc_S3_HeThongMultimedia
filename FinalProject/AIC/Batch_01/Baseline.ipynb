{
 "cells": [
  {
   "cell_type": "markdown",
   "id": "5fcc581b",
   "metadata": {
    "id": "5fcc581b"
   },
   "source": [
    "# Hướng dẫn truy vấn dữ liệu thị giác dùng fiftyone\n",
    "\n",
    "Đây là hướng dẫn dùng cho các đội tham dự AI Challenge 2023. Hướng dẫn này nhằm mục đích giới thiệu cho các đội một phương pháp cơ bản để truy vấn dữ liệu dựa trên thông tin BTC cung cấp và giới thiệu công cụ fiftyone để hỗ trợ đội thi đánh giá kết quả.\n",
    "\n",
    "## Cài đặt ban đầu\n",
    "\n",
    "Bạn cần cài đặt môi trường để chạy được notebook này trên máy tính cá nhân của bạn. Hướng dẫn này không bao gồm phần cài đặt môi trường. Khuyến nghị: các bạn có thể cài đặt [Anaconda](https://docs.anaconda.com/free/anaconda/install/windows/).\n",
    "\n",
    "## Cài đặt các thư viện FiftyOne và PyTorch\n",
    "Hướng dẫn này dùng fiftyone là công cụ để trực quan dữ liệu và pytorch là backend chính cho các thuật toán máy học.\n",
    "\n",
    "### Lưu ý: Đối với các bạn dùng Windows nên dùng bản fiftyone **v0.21.4**, không nên dùng bản mới nhất!"
   ]
  },
  {
   "cell_type": "code",
   "execution_count": 1,
   "id": "f5a576d0",
   "metadata": {
    "colab": {
     "base_uri": "https://localhost:8080/"
    },
    "executionInfo": {
     "elapsed": 38205,
     "status": "ok",
     "timestamp": 1693550070344,
     "user": {
      "displayName": "Duyen Nguyen",
      "userId": "05537559569783534217"
     },
     "user_tz": -420
    },
    "id": "f5a576d0",
    "outputId": "9ab47f23-c28c-4a96-8f06-3fc50e3abdb1",
    "scrolled": true
   },
   "outputs": [
    {
     "name": "stdout",
     "output_type": "stream",
     "text": [
      "Requirement already satisfied: fiftyone==0.21.4 in /Users/duyennguyen/anaconda3/lib/python3.10/site-packages (0.21.4)\n",
      "Requirement already satisfied: PyYAML in /Users/duyennguyen/anaconda3/lib/python3.10/site-packages (from fiftyone==0.21.4) (6.0)\n",
      "Requirement already satisfied: fiftyone-brain<0.14,>=0.13 in /Users/duyennguyen/anaconda3/lib/python3.10/site-packages (from fiftyone==0.21.4) (0.13.1)\n",
      "Requirement already satisfied: voxel51-eta<0.11,>=0.10 in /Users/duyennguyen/anaconda3/lib/python3.10/site-packages (from fiftyone==0.21.4) (0.10.0)\n",
      "Requirement already satisfied: xmltodict in /Users/duyennguyen/anaconda3/lib/python3.10/site-packages (from fiftyone==0.21.4) (0.13.0)\n",
      "Requirement already satisfied: opencv-python-headless in /Users/duyennguyen/anaconda3/lib/python3.10/site-packages (from fiftyone==0.21.4) (4.8.0.76)\n",
      "Requirement already satisfied: starlette<0.27,>=0.24.0 in /Users/duyennguyen/anaconda3/lib/python3.10/site-packages (from fiftyone==0.21.4) (0.26.1)\n",
      "Requirement already satisfied: pytz in /Users/duyennguyen/anaconda3/lib/python3.10/site-packages (from fiftyone==0.21.4) (2022.7)\n",
      "Requirement already satisfied: Pillow>=6.2 in /Users/duyennguyen/anaconda3/lib/python3.10/site-packages (from fiftyone==0.21.4) (9.4.0)\n",
      "Requirement already satisfied: ftfy in /Users/duyennguyen/anaconda3/lib/python3.10/site-packages (from fiftyone==0.21.4) (6.1.1)\n",
      "Requirement already satisfied: pymongo>=3.12 in /Users/duyennguyen/anaconda3/lib/python3.10/site-packages (from fiftyone==0.21.4) (4.5.0)\n",
      "Requirement already satisfied: motor>=2.5 in /Users/duyennguyen/anaconda3/lib/python3.10/site-packages (from fiftyone==0.21.4) (3.3.1)\n",
      "Requirement already satisfied: matplotlib in /Users/duyennguyen/anaconda3/lib/python3.10/site-packages (from fiftyone==0.21.4) (3.8.0)\n",
      "Requirement already satisfied: pprintpp in /Users/duyennguyen/anaconda3/lib/python3.10/site-packages (from fiftyone==0.21.4) (0.4.0)\n",
      "Requirement already satisfied: dacite<1.8.0,>=1.6.0 in /Users/duyennguyen/anaconda3/lib/python3.10/site-packages (from fiftyone==0.21.4) (1.7.0)\n",
      "Requirement already satisfied: sse-starlette<1,>=0.10.3 in /Users/duyennguyen/anaconda3/lib/python3.10/site-packages (from fiftyone==0.21.4) (0.10.3)\n",
      "Requirement already satisfied: universal-analytics-python3<2,>=1.0.1 in /Users/duyennguyen/anaconda3/lib/python3.10/site-packages (from fiftyone==0.21.4) (1.1.1)\n",
      "Requirement already satisfied: plotly>=4.14 in /Users/duyennguyen/anaconda3/lib/python3.10/site-packages (from fiftyone==0.21.4) (5.17.0)\n",
      "Requirement already satisfied: kaleido in /Users/duyennguyen/anaconda3/lib/python3.10/site-packages (from fiftyone==0.21.4) (0.2.1)\n",
      "Requirement already satisfied: strawberry-graphql==0.138.1 in /Users/duyennguyen/anaconda3/lib/python3.10/site-packages (from fiftyone==0.21.4) (0.138.1)\n",
      "Requirement already satisfied: mongoengine==0.24.2 in /Users/duyennguyen/anaconda3/lib/python3.10/site-packages (from fiftyone==0.21.4) (0.24.2)\n",
      "Requirement already satisfied: numpy in /Users/duyennguyen/anaconda3/lib/python3.10/site-packages (from fiftyone==0.21.4) (1.24.0)\n",
      "Requirement already satisfied: regex in /Users/duyennguyen/anaconda3/lib/python3.10/site-packages (from fiftyone==0.21.4) (2023.8.8)\n",
      "Requirement already satisfied: aiofiles in /Users/duyennguyen/anaconda3/lib/python3.10/site-packages (from fiftyone==0.21.4) (23.2.1)\n",
      "Requirement already satisfied: Jinja2>=3 in /Users/duyennguyen/anaconda3/lib/python3.10/site-packages (from fiftyone==0.21.4) (3.1.2)\n",
      "Requirement already satisfied: psutil in /Users/duyennguyen/anaconda3/lib/python3.10/site-packages (from fiftyone==0.21.4) (5.9.0)\n",
      "Requirement already satisfied: scikit-learn in /Users/duyennguyen/anaconda3/lib/python3.10/site-packages (from fiftyone==0.21.4) (1.3.0)\n",
      "Requirement already satisfied: fiftyone-db<0.5,>=0.4 in /Users/duyennguyen/anaconda3/lib/python3.10/site-packages (from fiftyone==0.21.4) (0.4.0)\n",
      "Requirement already satisfied: cachetools in /Users/duyennguyen/anaconda3/lib/python3.10/site-packages (from fiftyone==0.21.4) (5.3.1)\n",
      "Requirement already satisfied: eventlet in /Users/duyennguyen/anaconda3/lib/python3.10/site-packages (from fiftyone==0.21.4) (0.33.3)\n",
      "Requirement already satisfied: sseclient-py<2,>=1.7.2 in /Users/duyennguyen/anaconda3/lib/python3.10/site-packages (from fiftyone==0.21.4) (1.8.0)\n",
      "Requirement already satisfied: packaging in /Users/duyennguyen/anaconda3/lib/python3.10/site-packages (from fiftyone==0.21.4) (23.1)\n",
      "Requirement already satisfied: boto3 in /Users/duyennguyen/anaconda3/lib/python3.10/site-packages (from fiftyone==0.21.4) (1.28.46)\n",
      "Requirement already satisfied: future in /Users/duyennguyen/anaconda3/lib/python3.10/site-packages (from fiftyone==0.21.4) (0.18.3)\n",
      "Requirement already satisfied: argcomplete in /Users/duyennguyen/anaconda3/lib/python3.10/site-packages (from fiftyone==0.21.4) (3.1.1)\n",
      "Requirement already satisfied: scikit-image in /Users/duyennguyen/anaconda3/lib/python3.10/site-packages (from fiftyone==0.21.4) (0.21.0)\n",
      "Requirement already satisfied: retrying in /Users/duyennguyen/anaconda3/lib/python3.10/site-packages (from fiftyone==0.21.4) (1.3.4)\n",
      "Requirement already satisfied: setuptools in /Users/duyennguyen/anaconda3/lib/python3.10/site-packages (from fiftyone==0.21.4) (65.6.3)\n",
      "Requirement already satisfied: hypercorn>=0.13.2 in /Users/duyennguyen/anaconda3/lib/python3.10/site-packages (from fiftyone==0.21.4) (0.14.4)\n",
      "Requirement already satisfied: pandas in /Users/duyennguyen/anaconda3/lib/python3.10/site-packages (from fiftyone==0.21.4) (2.1.0)\n",
      "Requirement already satisfied: Deprecated in /Users/duyennguyen/anaconda3/lib/python3.10/site-packages (from fiftyone==0.21.4) (1.2.14)\n",
      "Requirement already satisfied: tabulate in /Users/duyennguyen/anaconda3/lib/python3.10/site-packages (from fiftyone==0.21.4) (0.9.0)\n",
      "Requirement already satisfied: python-dateutil<3.0.0,>=2.7.0 in /Users/duyennguyen/anaconda3/lib/python3.10/site-packages (from strawberry-graphql==0.138.1->fiftyone==0.21.4) (2.8.2)\n",
      "Requirement already satisfied: graphql-core<3.3.0,>=3.2.0 in /Users/duyennguyen/anaconda3/lib/python3.10/site-packages (from strawberry-graphql==0.138.1->fiftyone==0.21.4) (3.2.3)\n",
      "Requirement already satisfied: typing_extensions<5.0.0,>=3.7.4 in /Users/duyennguyen/anaconda3/lib/python3.10/site-packages (from strawberry-graphql==0.138.1->fiftyone==0.21.4) (4.7.1)\n",
      "Requirement already satisfied: scipy>=1.2.0 in /Users/duyennguyen/anaconda3/lib/python3.10/site-packages (from fiftyone-brain<0.14,>=0.13->fiftyone==0.21.4) (1.11.2)\n",
      "Requirement already satisfied: tomli in /Users/duyennguyen/anaconda3/lib/python3.10/site-packages (from hypercorn>=0.13.2->fiftyone==0.21.4) (2.0.1)\n",
      "Requirement already satisfied: wsproto>=0.14.0 in /Users/duyennguyen/anaconda3/lib/python3.10/site-packages (from hypercorn>=0.13.2->fiftyone==0.21.4) (1.2.0)\n",
      "Requirement already satisfied: priority in /Users/duyennguyen/anaconda3/lib/python3.10/site-packages (from hypercorn>=0.13.2->fiftyone==0.21.4) (2.0.0)\n",
      "Requirement already satisfied: h11 in /Users/duyennguyen/anaconda3/lib/python3.10/site-packages (from hypercorn>=0.13.2->fiftyone==0.21.4) (0.14.0)\n",
      "Requirement already satisfied: h2>=3.1.0 in /Users/duyennguyen/anaconda3/lib/python3.10/site-packages (from hypercorn>=0.13.2->fiftyone==0.21.4) (3.2.0)\n",
      "Requirement already satisfied: MarkupSafe>=2.0 in /Users/duyennguyen/anaconda3/lib/python3.10/site-packages (from Jinja2>=3->fiftyone==0.21.4) (2.1.1)\n",
      "Requirement already satisfied: tenacity>=6.2.0 in /Users/duyennguyen/anaconda3/lib/python3.10/site-packages (from plotly>=4.14->fiftyone==0.21.4) (8.2.3)\n",
      "Requirement already satisfied: dnspython<3.0.0,>=1.16.0 in /Users/duyennguyen/anaconda3/lib/python3.10/site-packages (from pymongo>=3.12->fiftyone==0.21.4) (2.4.2)\n",
      "Requirement already satisfied: anyio<5,>=3.4.0 in /Users/duyennguyen/anaconda3/lib/python3.10/site-packages (from starlette<0.27,>=0.24.0->fiftyone==0.21.4) (3.7.1)\n",
      "Requirement already satisfied: httpx>=0.10.0 in /Users/duyennguyen/anaconda3/lib/python3.10/site-packages (from universal-analytics-python3<2,>=1.0.1->fiftyone==0.21.4) (0.24.1)\n",
      "Requirement already satisfied: sortedcontainers in /Users/duyennguyen/anaconda3/lib/python3.10/site-packages (from voxel51-eta<0.11,>=0.10->fiftyone==0.21.4) (2.4.0)\n",
      "Requirement already satisfied: tzlocal in /Users/duyennguyen/anaconda3/lib/python3.10/site-packages (from voxel51-eta<0.11,>=0.10->fiftyone==0.21.4) (4.3.1)\n",
      "Requirement already satisfied: rarfile in /Users/duyennguyen/anaconda3/lib/python3.10/site-packages (from voxel51-eta<0.11,>=0.10->fiftyone==0.21.4) (4.0)\n",
      "Requirement already satisfied: dill in /Users/duyennguyen/anaconda3/lib/python3.10/site-packages (from voxel51-eta<0.11,>=0.10->fiftyone==0.21.4) (0.3.7)\n",
      "Requirement already satisfied: six in /Users/duyennguyen/anaconda3/lib/python3.10/site-packages (from voxel51-eta<0.11,>=0.10->fiftyone==0.21.4) (1.16.0)\n",
      "Requirement already satisfied: jsonlines in /Users/duyennguyen/anaconda3/lib/python3.10/site-packages (from voxel51-eta<0.11,>=0.10->fiftyone==0.21.4) (4.0.0)\n",
      "Requirement already satisfied: glob2 in /Users/duyennguyen/anaconda3/lib/python3.10/site-packages (from voxel51-eta<0.11,>=0.10->fiftyone==0.21.4) (0.7)\n",
      "Requirement already satisfied: py7zr in /Users/duyennguyen/anaconda3/lib/python3.10/site-packages (from voxel51-eta<0.11,>=0.10->fiftyone==0.21.4) (0.20.6)\n",
      "Requirement already satisfied: requests in /Users/duyennguyen/anaconda3/lib/python3.10/site-packages (from voxel51-eta<0.11,>=0.10->fiftyone==0.21.4) (2.31.0)\n",
      "Requirement already satisfied: urllib3 in /Users/duyennguyen/anaconda3/lib/python3.10/site-packages (from voxel51-eta<0.11,>=0.10->fiftyone==0.21.4) (1.26.16)\n",
      "Requirement already satisfied: botocore<1.32.0,>=1.31.46 in /Users/duyennguyen/anaconda3/lib/python3.10/site-packages (from boto3->fiftyone==0.21.4) (1.31.46)\n",
      "Requirement already satisfied: jmespath<2.0.0,>=0.7.1 in /Users/duyennguyen/anaconda3/lib/python3.10/site-packages (from boto3->fiftyone==0.21.4) (1.0.1)\n",
      "Requirement already satisfied: s3transfer<0.7.0,>=0.6.0 in /Users/duyennguyen/anaconda3/lib/python3.10/site-packages (from boto3->fiftyone==0.21.4) (0.6.2)\n",
      "Requirement already satisfied: wrapt<2,>=1.10 in /Users/duyennguyen/anaconda3/lib/python3.10/site-packages (from Deprecated->fiftyone==0.21.4) (1.15.0)\n",
      "Requirement already satisfied: greenlet>=0.3 in /Users/duyennguyen/anaconda3/lib/python3.10/site-packages (from eventlet->fiftyone==0.21.4) (2.0.2)\n",
      "Requirement already satisfied: wcwidth>=0.2.5 in /Users/duyennguyen/anaconda3/lib/python3.10/site-packages (from ftfy->fiftyone==0.21.4) (0.2.5)\n",
      "Requirement already satisfied: pyparsing>=2.3.1 in /Users/duyennguyen/anaconda3/lib/python3.10/site-packages (from matplotlib->fiftyone==0.21.4) (3.1.1)\n",
      "Requirement already satisfied: contourpy>=1.0.1 in /Users/duyennguyen/anaconda3/lib/python3.10/site-packages (from matplotlib->fiftyone==0.21.4) (1.1.0)\n",
      "Requirement already satisfied: cycler>=0.10 in /Users/duyennguyen/anaconda3/lib/python3.10/site-packages (from matplotlib->fiftyone==0.21.4) (0.11.0)\n",
      "Requirement already satisfied: fonttools>=4.22.0 in /Users/duyennguyen/anaconda3/lib/python3.10/site-packages (from matplotlib->fiftyone==0.21.4) (4.42.1)\n",
      "Requirement already satisfied: kiwisolver>=1.0.1 in /Users/duyennguyen/anaconda3/lib/python3.10/site-packages (from matplotlib->fiftyone==0.21.4) (1.4.5)\n",
      "Requirement already satisfied: tzdata>=2022.1 in /Users/duyennguyen/anaconda3/lib/python3.10/site-packages (from pandas->fiftyone==0.21.4) (2023.3)\n",
      "Requirement already satisfied: tifffile>=2022.8.12 in /Users/duyennguyen/anaconda3/lib/python3.10/site-packages (from scikit-image->fiftyone==0.21.4) (2023.8.30)\n",
      "Requirement already satisfied: PyWavelets>=1.1.1 in /Users/duyennguyen/anaconda3/lib/python3.10/site-packages (from scikit-image->fiftyone==0.21.4) (1.4.1)\n",
      "Requirement already satisfied: networkx>=2.8 in /Users/duyennguyen/anaconda3/lib/python3.10/site-packages (from scikit-image->fiftyone==0.21.4) (3.1)\n",
      "Requirement already satisfied: imageio>=2.27 in /Users/duyennguyen/anaconda3/lib/python3.10/site-packages (from scikit-image->fiftyone==0.21.4) (2.31.3)\n",
      "Requirement already satisfied: lazy_loader>=0.2 in /Users/duyennguyen/anaconda3/lib/python3.10/site-packages (from scikit-image->fiftyone==0.21.4) (0.3)\n",
      "Requirement already satisfied: threadpoolctl>=2.0.0 in /Users/duyennguyen/anaconda3/lib/python3.10/site-packages (from scikit-learn->fiftyone==0.21.4) (3.2.0)\n",
      "Requirement already satisfied: joblib>=1.1.1 in /Users/duyennguyen/anaconda3/lib/python3.10/site-packages (from scikit-learn->fiftyone==0.21.4) (1.3.2)\n",
      "Requirement already satisfied: exceptiongroup in /Users/duyennguyen/anaconda3/lib/python3.10/site-packages (from anyio<5,>=3.4.0->starlette<0.27,>=0.24.0->fiftyone==0.21.4) (1.0.4)\n",
      "Requirement already satisfied: sniffio>=1.1 in /Users/duyennguyen/anaconda3/lib/python3.10/site-packages (from anyio<5,>=3.4.0->starlette<0.27,>=0.24.0->fiftyone==0.21.4) (1.3.0)\n",
      "Requirement already satisfied: idna>=2.8 in /Users/duyennguyen/anaconda3/lib/python3.10/site-packages (from anyio<5,>=3.4.0->starlette<0.27,>=0.24.0->fiftyone==0.21.4) (2.10)\n",
      "Requirement already satisfied: hpack<4,>=3.0 in /Users/duyennguyen/anaconda3/lib/python3.10/site-packages (from h2>=3.1.0->hypercorn>=0.13.2->fiftyone==0.21.4) (3.0.0)\n",
      "Requirement already satisfied: hyperframe<6,>=5.2.0 in /Users/duyennguyen/anaconda3/lib/python3.10/site-packages (from h2>=3.1.0->hypercorn>=0.13.2->fiftyone==0.21.4) (5.2.0)\n",
      "Requirement already satisfied: certifi in /Users/duyennguyen/anaconda3/lib/python3.10/site-packages (from httpx>=0.10.0->universal-analytics-python3<2,>=1.0.1->fiftyone==0.21.4) (2023.7.22)\n",
      "Requirement already satisfied: httpcore<0.18.0,>=0.15.0 in /Users/duyennguyen/anaconda3/lib/python3.10/site-packages (from httpx>=0.10.0->universal-analytics-python3<2,>=1.0.1->fiftyone==0.21.4) (0.17.3)\n",
      "Requirement already satisfied: attrs>=19.2.0 in /Users/duyennguyen/anaconda3/lib/python3.10/site-packages (from jsonlines->voxel51-eta<0.11,>=0.10->fiftyone==0.21.4) (22.1.0)\n",
      "Requirement already satisfied: pybcj>=0.6.0 in /Users/duyennguyen/anaconda3/lib/python3.10/site-packages (from py7zr->voxel51-eta<0.11,>=0.10->fiftyone==0.21.4) (1.0.1)\n",
      "Requirement already satisfied: texttable in /Users/duyennguyen/anaconda3/lib/python3.10/site-packages (from py7zr->voxel51-eta<0.11,>=0.10->fiftyone==0.21.4) (1.6.7)\n",
      "Requirement already satisfied: brotli>=1.0.9 in /Users/duyennguyen/anaconda3/lib/python3.10/site-packages (from py7zr->voxel51-eta<0.11,>=0.10->fiftyone==0.21.4) (1.1.0)\n",
      "Requirement already satisfied: pycryptodomex>=3.6.6 in /Users/duyennguyen/anaconda3/lib/python3.10/site-packages (from py7zr->voxel51-eta<0.11,>=0.10->fiftyone==0.21.4) (3.18.0)\n",
      "Requirement already satisfied: multivolumefile>=0.2.3 in /Users/duyennguyen/anaconda3/lib/python3.10/site-packages (from py7zr->voxel51-eta<0.11,>=0.10->fiftyone==0.21.4) (0.2.3)\n",
      "Requirement already satisfied: inflate64>=0.3.1 in /Users/duyennguyen/anaconda3/lib/python3.10/site-packages (from py7zr->voxel51-eta<0.11,>=0.10->fiftyone==0.21.4) (0.3.1)\n",
      "Requirement already satisfied: pyzstd>=0.14.4 in /Users/duyennguyen/anaconda3/lib/python3.10/site-packages (from py7zr->voxel51-eta<0.11,>=0.10->fiftyone==0.21.4) (0.15.9)\n",
      "Requirement already satisfied: pyppmd<1.1.0,>=0.18.1 in /Users/duyennguyen/anaconda3/lib/python3.10/site-packages (from py7zr->voxel51-eta<0.11,>=0.10->fiftyone==0.21.4) (1.0.0)\n",
      "Requirement already satisfied: charset-normalizer<4,>=2 in /Users/duyennguyen/anaconda3/lib/python3.10/site-packages (from requests->voxel51-eta<0.11,>=0.10->fiftyone==0.21.4) (2.0.4)\n",
      "Requirement already satisfied: pytz-deprecation-shim in /Users/duyennguyen/anaconda3/lib/python3.10/site-packages (from tzlocal->voxel51-eta<0.11,>=0.10->fiftyone==0.21.4) (0.1.0.post0)\n",
      "Requirement already satisfied: torch in /Users/duyennguyen/anaconda3/lib/python3.10/site-packages (2.0.1)\n",
      "Requirement already satisfied: torchvision in /Users/duyennguyen/anaconda3/lib/python3.10/site-packages (0.15.2)\n",
      "Requirement already satisfied: torchaudio in /Users/duyennguyen/anaconda3/lib/python3.10/site-packages (2.0.2)\n",
      "Requirement already satisfied: sympy in /Users/duyennguyen/anaconda3/lib/python3.10/site-packages (from torch) (1.11.1)\n",
      "Requirement already satisfied: networkx in /Users/duyennguyen/anaconda3/lib/python3.10/site-packages (from torch) (3.1)\n",
      "Requirement already satisfied: typing-extensions in /Users/duyennguyen/anaconda3/lib/python3.10/site-packages (from torch) (4.7.1)\n",
      "Requirement already satisfied: filelock in /Users/duyennguyen/anaconda3/lib/python3.10/site-packages (from torch) (3.9.0)\n",
      "Requirement already satisfied: jinja2 in /Users/duyennguyen/anaconda3/lib/python3.10/site-packages (from torch) (3.1.2)\n",
      "Requirement already satisfied: requests in /Users/duyennguyen/anaconda3/lib/python3.10/site-packages (from torchvision) (2.31.0)\n",
      "Requirement already satisfied: numpy in /Users/duyennguyen/anaconda3/lib/python3.10/site-packages (from torchvision) (1.24.0)\n",
      "Requirement already satisfied: pillow!=8.3.*,>=5.3.0 in /Users/duyennguyen/anaconda3/lib/python3.10/site-packages (from torchvision) (9.4.0)\n",
      "Requirement already satisfied: MarkupSafe>=2.0 in /Users/duyennguyen/anaconda3/lib/python3.10/site-packages (from jinja2->torch) (2.1.1)\n",
      "Requirement already satisfied: urllib3<3,>=1.21.1 in /Users/duyennguyen/anaconda3/lib/python3.10/site-packages (from requests->torchvision) (1.26.16)\n",
      "Requirement already satisfied: certifi>=2017.4.17 in /Users/duyennguyen/anaconda3/lib/python3.10/site-packages (from requests->torchvision) (2023.7.22)\n",
      "Requirement already satisfied: charset-normalizer<4,>=2 in /Users/duyennguyen/anaconda3/lib/python3.10/site-packages (from requests->torchvision) (2.0.4)\n",
      "Requirement already satisfied: idna<4,>=2.5 in /Users/duyennguyen/anaconda3/lib/python3.10/site-packages (from requests->torchvision) (2.10)\n",
      "Requirement already satisfied: mpmath>=0.19 in /Users/duyennguyen/anaconda3/lib/python3.10/site-packages (from sympy->torch) (1.3.0)\n",
      "Requirement already satisfied: ipywidgets in /Users/duyennguyen/anaconda3/lib/python3.10/site-packages (8.0.4)\n",
      "Requirement already satisfied: ipython>=6.1.0 in /Users/duyennguyen/anaconda3/lib/python3.10/site-packages (from ipywidgets) (8.15.0)\n",
      "Requirement already satisfied: traitlets>=4.3.1 in /Users/duyennguyen/anaconda3/lib/python3.10/site-packages (from ipywidgets) (5.7.1)\n",
      "Requirement already satisfied: jupyterlab-widgets~=3.0 in /Users/duyennguyen/anaconda3/lib/python3.10/site-packages (from ipywidgets) (3.0.5)\n",
      "Requirement already satisfied: widgetsnbextension~=4.0 in /Users/duyennguyen/anaconda3/lib/python3.10/site-packages (from ipywidgets) (4.0.5)\n",
      "Requirement already satisfied: ipykernel>=4.5.1 in /Users/duyennguyen/anaconda3/lib/python3.10/site-packages (from ipywidgets) (6.25.0)\n",
      "Requirement already satisfied: jupyter-client>=6.1.12 in /Users/duyennguyen/anaconda3/lib/python3.10/site-packages (from ipykernel>=4.5.1->ipywidgets) (7.4.9)\n",
      "Requirement already satisfied: tornado>=6.1 in /Users/duyennguyen/anaconda3/lib/python3.10/site-packages (from ipykernel>=4.5.1->ipywidgets) (6.3.2)\n",
      "Requirement already satisfied: psutil in /Users/duyennguyen/anaconda3/lib/python3.10/site-packages (from ipykernel>=4.5.1->ipywidgets) (5.9.0)\n",
      "Requirement already satisfied: pyzmq>=20 in /Users/duyennguyen/anaconda3/lib/python3.10/site-packages (from ipykernel>=4.5.1->ipywidgets) (23.2.0)\n",
      "Requirement already satisfied: comm>=0.1.1 in /Users/duyennguyen/anaconda3/lib/python3.10/site-packages (from ipykernel>=4.5.1->ipywidgets) (0.1.2)\n",
      "Requirement already satisfied: packaging in /Users/duyennguyen/anaconda3/lib/python3.10/site-packages (from ipykernel>=4.5.1->ipywidgets) (23.1)\n",
      "Requirement already satisfied: debugpy>=1.6.5 in /Users/duyennguyen/anaconda3/lib/python3.10/site-packages (from ipykernel>=4.5.1->ipywidgets) (1.6.7)\n",
      "Requirement already satisfied: matplotlib-inline>=0.1 in /Users/duyennguyen/anaconda3/lib/python3.10/site-packages (from ipykernel>=4.5.1->ipywidgets) (0.1.6)\n",
      "Requirement already satisfied: nest-asyncio in /Users/duyennguyen/anaconda3/lib/python3.10/site-packages (from ipykernel>=4.5.1->ipywidgets) (1.5.6)\n",
      "Requirement already satisfied: jupyter-core!=5.0.*,>=4.12 in /Users/duyennguyen/anaconda3/lib/python3.10/site-packages (from ipykernel>=4.5.1->ipywidgets) (5.3.0)\n",
      "Requirement already satisfied: appnope in /Users/duyennguyen/anaconda3/lib/python3.10/site-packages (from ipykernel>=4.5.1->ipywidgets) (0.1.2)\n",
      "Requirement already satisfied: backcall in /Users/duyennguyen/anaconda3/lib/python3.10/site-packages (from ipython>=6.1.0->ipywidgets) (0.2.0)\n",
      "Requirement already satisfied: exceptiongroup in /Users/duyennguyen/anaconda3/lib/python3.10/site-packages (from ipython>=6.1.0->ipywidgets) (1.0.4)\n",
      "Requirement already satisfied: prompt-toolkit!=3.0.37,<3.1.0,>=3.0.30 in /Users/duyennguyen/anaconda3/lib/python3.10/site-packages (from ipython>=6.1.0->ipywidgets) (3.0.36)\n",
      "Requirement already satisfied: decorator in /Users/duyennguyen/anaconda3/lib/python3.10/site-packages (from ipython>=6.1.0->ipywidgets) (5.1.1)\n",
      "Requirement already satisfied: pygments>=2.4.0 in /Users/duyennguyen/anaconda3/lib/python3.10/site-packages (from ipython>=6.1.0->ipywidgets) (2.15.1)\n",
      "Requirement already satisfied: jedi>=0.16 in /Users/duyennguyen/anaconda3/lib/python3.10/site-packages (from ipython>=6.1.0->ipywidgets) (0.18.1)\n",
      "Requirement already satisfied: stack-data in /Users/duyennguyen/anaconda3/lib/python3.10/site-packages (from ipython>=6.1.0->ipywidgets) (0.2.0)\n",
      "Requirement already satisfied: pexpect>4.3 in /Users/duyennguyen/anaconda3/lib/python3.10/site-packages (from ipython>=6.1.0->ipywidgets) (4.8.0)\n",
      "Requirement already satisfied: pickleshare in /Users/duyennguyen/anaconda3/lib/python3.10/site-packages (from ipython>=6.1.0->ipywidgets) (0.7.5)\n",
      "Requirement already satisfied: parso<0.9.0,>=0.8.0 in /Users/duyennguyen/anaconda3/lib/python3.10/site-packages (from jedi>=0.16->ipython>=6.1.0->ipywidgets) (0.8.3)\n",
      "Requirement already satisfied: entrypoints in /Users/duyennguyen/anaconda3/lib/python3.10/site-packages (from jupyter-client>=6.1.12->ipykernel>=4.5.1->ipywidgets) (0.4)\n",
      "Requirement already satisfied: python-dateutil>=2.8.2 in /Users/duyennguyen/anaconda3/lib/python3.10/site-packages (from jupyter-client>=6.1.12->ipykernel>=4.5.1->ipywidgets) (2.8.2)\n",
      "Requirement already satisfied: platformdirs>=2.5 in /Users/duyennguyen/anaconda3/lib/python3.10/site-packages (from jupyter-core!=5.0.*,>=4.12->ipykernel>=4.5.1->ipywidgets) (3.10.0)\n",
      "Requirement already satisfied: ptyprocess>=0.5 in /Users/duyennguyen/anaconda3/lib/python3.10/site-packages (from pexpect>4.3->ipython>=6.1.0->ipywidgets) (0.7.0)\n",
      "Requirement already satisfied: wcwidth in /Users/duyennguyen/anaconda3/lib/python3.10/site-packages (from prompt-toolkit!=3.0.37,<3.1.0,>=3.0.30->ipython>=6.1.0->ipywidgets) (0.2.5)\n",
      "Requirement already satisfied: executing in /Users/duyennguyen/anaconda3/lib/python3.10/site-packages (from stack-data->ipython>=6.1.0->ipywidgets) (0.8.3)\n",
      "Requirement already satisfied: asttokens in /Users/duyennguyen/anaconda3/lib/python3.10/site-packages (from stack-data->ipython>=6.1.0->ipywidgets) (2.0.5)\n",
      "Requirement already satisfied: pure-eval in /Users/duyennguyen/anaconda3/lib/python3.10/site-packages (from stack-data->ipython>=6.1.0->ipywidgets) (0.2.2)\n",
      "Requirement already satisfied: six>=1.5 in /Users/duyennguyen/anaconda3/lib/python3.10/site-packages (from python-dateutil>=2.8.2->jupyter-client>=6.1.12->ipykernel>=4.5.1->ipywidgets) (1.16.0)\n"
     ]
    }
   ],
   "source": [
    "! pip install fiftyone==0.21.4\n",
    "! pip install torch torchvision torchaudio\n",
    "! pip install ipywidgets\n"
   ]
  },
  {
   "cell_type": "markdown",
   "id": "fb9afb40",
   "metadata": {
    "id": "fb9afb40"
   },
   "source": [
    "Load dữ liệu keyframe từ thư mục chứa keyframe. Mỗi ảnh và thông tin đi kèm sau này sẽ được lưu trữ trong một Sample. Tất cả các Sample được lưu trong Dataset."
   ]
  },
  {
   "cell_type": "code",
   "execution_count": 2,
   "id": "357d4489",
   "metadata": {
    "colab": {
     "base_uri": "https://localhost:8080/",
     "height": 385
    },
    "executionInfo": {
     "elapsed": 67062,
     "status": "error",
     "timestamp": 1693550145886,
     "user": {
      "displayName": "Duyen Nguyen",
      "userId": "05537559569783534217"
     },
     "user_tz": -420
    },
    "id": "357d4489",
    "outputId": "6ae1ea87-95f0-4d8d-92b3-c319c10310c0"
   },
   "outputs": [],
   "source": [
    "import fiftyone as fo\n",
    "import fiftyone.brain as fob\n",
    "import numpy as np\n",
    "from glob import glob\n",
    "import json\n",
    "import os"
   ]
  },
  {
   "cell_type": "markdown",
   "id": "36b7ba43",
   "metadata": {
    "id": "36b7ba43"
   },
   "source": [
    "Load dữ liệu keyframe từ thư mục chứa keyframe. Trong hướng dẫn này tất cả các file Keyframes_L*.zip được giải nén vào thư mục `D:\\AIC\\Keyframes`. Mỗi ảnh và thông tin đi kèm sau này sẽ được lưu trữ trong một `Sample`. Tất cả các `Sample` được lưu trong `Dataset`."
   ]
  },
  {
   "cell_type": "code",
   "execution_count": 3,
   "id": "9e072688",
   "metadata": {
    "id": "9e072688"
   },
   "outputs": [
    {
     "name": "stdout",
     "output_type": "stream",
     "text": [
      " 100% |█████████████| 87306/87306 [5.8s elapsed, 0s remaining, 15.4K samples/s]      \n"
     ]
    }
   ],
   "source": [
    "dataset = fo.Dataset.from_images_dir('/Users/duyennguyen/Downloads/AIC/Batch_01/Keyframes', name=None, tags=None, recursive=True)"
   ]
  },
  {
   "cell_type": "markdown",
   "id": "9b89e71c",
   "metadata": {
    "id": "9b89e71c"
   },
   "source": [
    "Sau khi dữ liệu đã load lên xong. Bạn có thể truy cập vào đường vào ứng dụng web của fiftyone từ [http://localhost:5152](http://localhost:5152)"
   ]
  },
  {
   "cell_type": "markdown",
   "id": "078ce744",
   "metadata": {
    "id": "078ce744"
   },
   "source": [
    "Hoặc bạn có thể chạy cell bên dưới để mở tab mới cho ứng dụng web fiftyone"
   ]
  },
  {
   "cell_type": "markdown",
   "id": "28298924",
   "metadata": {
    "id": "28298924"
   },
   "source": [
    "### Trích xuất thêm thông tin tên của video và frameid\n",
    "Thông tin `video` và `frameid` sẽ được lấy từ tên của tập tin keyframe."
   ]
  },
  {
   "cell_type": "code",
   "execution_count": 4,
   "id": "a8ee02ad",
   "metadata": {
    "id": "a8ee02ad"
   },
   "outputs": [],
   "source": [
    "for sample in dataset:\n",
    "    _, sample['video'], sample['frameid'] = sample['filepath'][:-4].rsplit('/', 2)\n",
    "    sample.save()"
   ]
  },
  {
   "cell_type": "markdown",
   "id": "11d66008",
   "metadata": {
    "id": "11d66008"
   },
   "source": [
    "Bạn có thể xem `Sample` đầu tiên của `Dataset` bằng lệnh sau:"
   ]
  },
  {
   "cell_type": "markdown",
   "id": "4309a34f",
   "metadata": {
    "id": "4309a34f"
   },
   "source": [
    "### Thêm thông tin kết quả của object detection.\n",
    "\n",
    "Bước này có thể tốn của bạn nhiều thời gian để đọc hết tất cả các dữ liệu về object detection. Bạn có thể bỏ qua cell này và chạy cell này sau nếu muốn thử thêm các thông tin về vector CLIP embedding trước."
   ]
  },
  {
   "cell_type": "code",
   "execution_count": 5,
   "id": "ad1c4395",
   "metadata": {
    "id": "ad1c4395"
   },
   "outputs": [],
   "source": [
    "for sample in dataset:\n",
    "    object_path = f\"/Users/duyennguyen/Downloads/AIC/Batch_01/objects/{sample['video']}/{sample['frameid']}.json\"\n",
    "    with open(object_path) as jsonfile:\n",
    "        det_data = json.load(jsonfile)\n",
    "    detections = []\n",
    "    for cls, box, score in zip(det_data['detection_class_entities'], det_data['detection_boxes'], det_data['detection_scores']):\n",
    "        # Convert to [top-left-x, top-left-y, width, height]\n",
    "        boxf = [float(box[1]), float(box[0]), float(box[3]) - float(box[1]), float(box[2]) - float(box[0])]\n",
    "        scoref = float(score)\n",
    "\n",
    "        # Only add objects with confidence > 0.4\n",
    "        if scoref > 0.4:\n",
    "            detections.append(\n",
    "                fo.Detection(\n",
    "                    label=cls,\n",
    "                    bounding_box= boxf,\n",
    "                    confidence=float(score)\n",
    "                )\n",
    "            )\n",
    "        \n",
    "    sample[\"object_faster_rcnn\"] = fo.Detections(detections=detections)\n",
    "    sample.save()"
   ]
  },
  {
   "cell_type": "markdown",
   "id": "e287dbb4",
   "metadata": {
    "id": "e287dbb4"
   },
   "source": [
    "### Thêm thông tin CLIP embedding."
   ]
  },
  {
   "cell_type": "code",
   "execution_count": 6,
   "id": "58d5d9ca",
   "metadata": {
    "id": "58d5d9ca"
   },
   "outputs": [],
   "source": [
    "all_keyframe = glob('/Users/duyennguyen/Downloads/AIC/Batch_01/Keyframes/*/keyframes-*/*/*.jpg')\n",
    "video_keyframe_dict = {}\n",
    "all_video = glob('/Users/duyennguyen/Downloads/AIC/Batch_01/Keyframes/*/keyframes-*/*')\n",
    "all_video = [v.rsplit('/',1)[-1] for v in all_video]"
   ]
  },
  {
   "cell_type": "markdown",
   "id": "53460b70",
   "metadata": {
    "id": "53460b70"
   },
   "source": [
    "Đọc thông tin clip embedding được cung cấp.\n",
    "\n",
    "Lưu ý: Các bạn cần tải đúng bản CLIP embedding từ model **CLIP ViT-B/32**"
   ]
  },
  {
   "cell_type": "markdown",
   "id": "cb927629",
   "metadata": {
    "id": "cb927629"
   },
   "source": [
    "Tạo dictionary `video_keyframe_dict` với `video_keyframe_dict[video]` thông tin danh sách `keyframe` của `video`"
   ]
  },
  {
   "cell_type": "code",
   "execution_count": 7,
   "id": "f33da133",
   "metadata": {
    "id": "f33da133"
   },
   "outputs": [],
   "source": [
    "for kf in all_keyframe:\n",
    "    _, vid, kf = kf[:-4].rsplit('/',2)\n",
    "    if vid not in video_keyframe_dict.keys():\n",
    "        video_keyframe_dict[vid] = [kf]\n",
    "    else:\n",
    "        video_keyframe_dict[vid].append(kf)"
   ]
  },
  {
   "cell_type": "markdown",
   "id": "faefe0bf",
   "metadata": {
    "id": "faefe0bf"
   },
   "source": [
    "Do thông tin vector CLIP embedding được cung cấp được lưu theo từng video nhầm mục đích tối ưu thời gian đọc dữ liệu. Cần sort lại danh sách `keyframe` của từng `video` để đảm bảo thứ tự đọc đúng với vector embedding được cung cấp."
   ]
  },
  {
   "cell_type": "code",
   "execution_count": 8,
   "id": "4b0fad7a",
   "metadata": {
    "id": "4b0fad7a"
   },
   "outputs": [],
   "source": [
    "for k,v in video_keyframe_dict.items():\n",
    "    video_keyframe_dict[k] = sorted(v)"
   ]
  },
  {
   "cell_type": "markdown",
   "id": "9d99d121",
   "metadata": {
    "id": "9d99d121"
   },
   "source": [
    "Tạo dictionary `embedding_dict` với `embedding_dict[video][keyframe]` lưu thông tin vector CLIP embedding của `keyframe` trong `video` tương ứng"
   ]
  },
  {
   "cell_type": "code",
   "execution_count": 9,
   "id": "a5d94d7b",
   "metadata": {
    "id": "a5d94d7b"
   },
   "outputs": [],
   "source": [
    "embedding_dict = {}\n",
    "for v in all_video:\n",
    "    clip_path = f'/Users/duyennguyen/Downloads/AIC/Batch_01/clip-features-vit-b32/{v}.npy'\n",
    "    a = np.load(clip_path)\n",
    "    embedding_dict[v] = {}\n",
    "    for i,k in enumerate(video_keyframe_dict[v]):\n",
    "        embedding_dict[v][k] = a[i]"
   ]
  },
  {
   "cell_type": "markdown",
   "id": "5ea0432e",
   "metadata": {
    "id": "5ea0432e"
   },
   "source": [
    "Tạo danh sách `clip_embedding` ứng với danh sách `sample` trong `dataset`."
   ]
  },
  {
   "cell_type": "code",
   "execution_count": 10,
   "id": "1ad16b5c",
   "metadata": {
    "id": "1ad16b5c"
   },
   "outputs": [],
   "source": [
    "clip_embeddings = []\n",
    "for sample in dataset:\n",
    "    clip_embedding = embedding_dict[sample['video']][sample['frameid']]\n",
    "    clip_embeddings.append(clip_embedding)\n"
   ]
  },
  {
   "cell_type": "markdown",
   "id": "625392d4",
   "metadata": {},
   "source": [
    "# Query"
   ]
  },
  {
   "cell_type": "code",
   "execution_count": 11,
   "id": "655d2feb",
   "metadata": {
    "id": "655d2feb"
   },
   "outputs": [],
   "source": [
    "computed_lancedb = fob.compute_similarity(\n",
    "\n",
    "    # default\n",
    "    dataset,\n",
    "    model=\"clip-vit-base32-torch\",      # store model's name for future use\n",
    "    embeddings=clip_embeddings,         # precomputed image embeddings\n",
    "    backend=\"sklearn\",                  \n",
    "    brain_key=\"img_sim\",                \n",
    "\n",
    "\n",
    "    # # lancedb\n",
    "    # dataset,\n",
    "    # # table_name=dataset['lancedb_index'],         # store model's name for future use\n",
    "    # model=\"clip-vit-base32-torch\",      # store model's name for future use\n",
    "    # backend=\"lancedb\",                  # sklearn, qdrant, pinecone, milvus, lancedb\n",
    "    # brain_key=\"lancedb_index\",                # img_sim, tmp, milvus_index, lancedb_index\n",
    "\n",
    "    # # milvus\n",
    "    # dataset,\n",
    "    # model=\"clip-vit-base32-torch\",      # store model's name for future use\n",
    "    # # embeddings=clip_embeddings,         # precomputed image embeddings\n",
    "    # backend=\"lancedb\",                  # sklearn, qdrant, pinecone, milvus, lancedb\n",
    "    # brain_key=\"lancedb_index\",                # img_sim, tmp, milvus_index, lancedb_index\n",
    "    # # uri=\"tcp://localhost:19530\",        # milvus server uri\n",
    "\n",
    "    # # qdrant\n",
    "    # dataset,\n",
    "    # model=\"clip-vit-base32-torch\",      # store model's name for future use\n",
    "    # # embeddings=clip_embeddings,         # precomputed image embeddings\n",
    "    # backend=\"qdrant\",                  # sklearn, qdrant, pinecone, milvus, lancedb\n",
    "    # brain_key=\"qdrant_index\",                # img_sim, tmp, milvus_index, lancedb_index\n",
    "\n",
    "    # # pinecone\n",
    "    # dataset,\n",
    "    # model=\"clip-vit-base32-torch\",      # store model's name for future use\n",
    "    # # embeddings=clip_embeddings,         # precomputed image embeddings\n",
    "    # backend=\"pinecone\",                  # sklearn, qdrant, pinecone, milvus, lancedb\n",
    "    # brain_key=\"pinecone_index\",                # img_sim, tmp, milvus_index, lancedb_index\n",
    "        \n",
    ")\n",
    "\n"
   ]
  },
  {
   "cell_type": "code",
   "execution_count": null,
   "id": "c6b82c33",
   "metadata": {},
   "outputs": [
    {
     "name": "stdout",
     "output_type": "stream",
     "text": [
      "Đã xử lý và lưu kết quả vào tệp /Users/duyennguyen/Downloads/submission/query-p2-2.txt\n",
      "Đã xử lý và lưu kết quả vào tệp /Users/duyennguyen/Downloads/submission/query-p2-3.txt\n",
      "Đã xử lý và lưu kết quả vào tệp /Users/duyennguyen/Downloads/submission/query-p2-1.txt\n",
      "Đã xử lý và lưu kết quả vào tệp /Users/duyennguyen/Downloads/submission/query-p2-4.txt\n",
      "Đã xử lý và lưu kết quả vào tệp /Users/duyennguyen/Downloads/submission/query-p2-5.txt\n",
      "Đã xử lý và lưu kết quả vào tệp /Users/duyennguyen/Downloads/submission/query-p2-7.txt\n",
      "Đã xử lý và lưu kết quả vào tệp /Users/duyennguyen/Downloads/submission/query-p2-6.txt\n",
      "Đã xử lý và lưu kết quả vào tệp /Users/duyennguyen/Downloads/submission/query-p2-30.txt\n",
      "Đã xử lý và lưu kết quả vào tệp /Users/duyennguyen/Downloads/submission/query-p2-24.txt\n",
      "Đã xử lý và lưu kết quả vào tệp /Users/duyennguyen/Downloads/submission/query-p2-18.txt\n",
      "Đã xử lý và lưu kết quả vào tệp /Users/duyennguyen/Downloads/submission/query-p2-19.txt\n",
      "Đã xử lý và lưu kết quả vào tệp /Users/duyennguyen/Downloads/submission/query-p2-25.txt\n",
      "Đã xử lý và lưu kết quả vào tệp /Users/duyennguyen/Downloads/submission/query-p2-27.txt\n",
      "Đã xử lý và lưu kết quả vào tệp /Users/duyennguyen/Downloads/submission/query-p2-26.txt\n",
      "Đã xử lý và lưu kết quả vào tệp /Users/duyennguyen/Downloads/submission/query-p2-22.txt\n",
      "Đã xử lý và lưu kết quả vào tệp /Users/duyennguyen/Downloads/submission/query-p2-23.txt\n",
      "Đã xử lý và lưu kết quả vào tệp /Users/duyennguyen/Downloads/submission/query-p2-21.txt\n",
      "Đã xử lý và lưu kết quả vào tệp /Users/duyennguyen/Downloads/submission/query-p2-20.txt\n",
      "Đã xử lý và lưu kết quả vào tệp /Users/duyennguyen/Downloads/submission/query-p2-11.txt\n",
      "Đã xử lý và lưu kết quả vào tệp /Users/duyennguyen/Downloads/submission/query-p2-10.txt\n",
      "Đã xử lý và lưu kết quả vào tệp /Users/duyennguyen/Downloads/submission/query-p2-12.txt\n",
      "Đã xử lý và lưu kết quả vào tệp /Users/duyennguyen/Downloads/submission/query-p2-13.txt\n",
      "Đã xử lý và lưu kết quả vào tệp /Users/duyennguyen/Downloads/submission/query-p2-17.txt\n",
      "Đã xử lý và lưu kết quả vào tệp /Users/duyennguyen/Downloads/submission/query-p2-16.txt\n",
      "Đã xử lý và lưu kết quả vào tệp /Users/duyennguyen/Downloads/submission/query-p2-28.txt\n",
      "Đã xử lý và lưu kết quả vào tệp /Users/duyennguyen/Downloads/submission/query-p2-14.txt\n",
      "Đã xử lý và lưu kết quả vào tệp /Users/duyennguyen/Downloads/submission/query-p2-15.txt\n",
      "Đã xử lý và lưu kết quả vào tệp /Users/duyennguyen/Downloads/submission/query-p2-29.txt\n",
      "Đã xử lý và lưu kết quả vào tệp /Users/duyennguyen/Downloads/submission/query-p2-8.txt\n",
      "Đã xử lý và lưu kết quả vào tệp /Users/duyennguyen/Downloads/submission/query-p2-9.txt\n"
     ]
    }
   ],
   "source": [
    "# import os\n",
    "# # from googletrans import Translator\n",
    "# import pandas as pd\n",
    "\n",
    "# # Đường dẫn thư mục A và thư mục B\n",
    "# folder_path_A = '/Users/duyennguyen/Downloads/queries-p2/'\n",
    "# folder_path_B = '/Users/duyennguyen/Downloads/submission/'\n",
    "\n",
    "# # Tạo một đối tượng Translator của Google Translate\n",
    "# # translator = Translator()\n",
    "\n",
    "# # Lặp qua tất cả các tệp trong thư mục A\n",
    "# for root, dirs, files in os.walk(folder_path_A):\n",
    "#     for file_name in files:\n",
    "#         # Tạo đường dẫn đầy đủ đến tệp trong thư mục A\n",
    "#         file_path_A = os.path.join(root, file_name)\n",
    "\n",
    "#         # Đọc nội dung tệp\n",
    "#         with open(file_path_A, 'r', encoding='utf-8') as file:\n",
    "#             # Kiểm tra nếu tệp là .DS_Store thì bỏ qua\n",
    "#             if file_name == '.DS_Store':\n",
    "#                 continue\n",
    "#             query = file.read()\n",
    "\n",
    "#         # Dịch nội dung sang tiếng Anh\n",
    "#         # translation = translator.translate(query, src='auto', dest='en')\n",
    "#         # translated_query = translation.text\n",
    "\n",
    "#         # Xử lý thêm \n",
    "#         view = dataset.sort_by_similarity(\n",
    "#             query, \n",
    "#             k=20,\n",
    "#             brain_key=\"img_sim\"         \n",
    "#         )\n",
    "\n",
    "#         # Tạo một DataFrame với hai cột 'Video' và 'FrameID'\n",
    "#         data = pd.DataFrame(columns=['Video', 'FrameID'])\n",
    "\n",
    "#         for sample in view:\n",
    "#             # data = data.append({'Video': sample.video, 'FrameID': sample.frameid}, ignore_index=True)\n",
    "#             new_data = pd.DataFrame([(sample.video, sample.frameid)], columns=['Video', 'FrameID'])\n",
    "#             data = pd.concat([data, new_data], ignore_index=True)\n",
    "\n",
    "        \n",
    "#         # Tạo đường dẫn đầy đủ đến tệp trong thư mục B\n",
    "#         file_path_B = os.path.join(folder_path_B, file_name)\n",
    "#         # Kiểm tra xem tệp CSV đã tồn tại trong thư mục B chưa\n",
    "#         if not os.path.exists(file_path_B):\n",
    "#             # Nếu chưa tồn tại, tạo mới tệp CSV trước khi ghi vào\n",
    "#             with open(file_path_B, 'w', encoding='utf-8') as file:\n",
    "#                 pass  # Tạo tệp mới trống\n",
    "\n",
    "#         # Ghi kết quả vào tệp CSV\n",
    "#         with open(file_path_B, 'a', encoding='utf-8') as file:\n",
    "#             data.to_csv(file_path_B, index=False)\n",
    "\n",
    "#         print(f\"Đã xử lý và lưu kết quả vào tệp {file_path_B}\")\n"
   ]
  },
  {
   "cell_type": "code",
   "execution_count": null,
   "id": "83fc7355",
   "metadata": {},
   "outputs": [
    {
     "name": "stdout",
     "output_type": "stream",
     "text": [
      "Đã đổi tất cả các tệp .txt thành .csv trong thư mục.\n"
     ]
    }
   ],
   "source": [
    "# import os\n",
    "\n",
    "# # Đường dẫn đến thư mục chứa các tệp .txt\n",
    "# thu_muc = '/Users/duyennguyen/Downloads/submission/'\n",
    "\n",
    "# # Lặp qua tất cả các tệp trong thư mục\n",
    "# for ten_tep in os.listdir(thu_muc):\n",
    "#     if ten_tep.endswith('.txt'):\n",
    "#         duong_dan_cu = os.path.join(thu_muc, ten_tep)\n",
    "#         ten_tep_moi = os.path.splitext(ten_tep)[0] + '.csv'\n",
    "#         duong_dan_moi = os.path.join(thu_muc, ten_tep_moi)\n",
    "\n",
    "#         # Đổi tên tệp từ .txt thành .csv\n",
    "#         os.rename(duong_dan_cu, duong_dan_moi)\n",
    "\n",
    "# print(\"Đã đổi tất cả các tệp .txt thành .csv trong thư mục.\")\n"
   ]
  },
  {
   "cell_type": "markdown",
   "id": "99223338",
   "metadata": {
    "id": "99223338"
   },
   "source": [
    "## Từ đây các bạn có thể thử các tính năng search, filter trên ứng dụng fiftyone."
   ]
  },
  {
   "cell_type": "code",
   "execution_count": 12,
   "id": "46605386",
   "metadata": {
    "id": "46605386"
   },
   "outputs": [
    {
     "name": "stdout",
     "output_type": "stream",
     "text": [
      "Generating visualization...\n"
     ]
    },
    {
     "name": "stderr",
     "output_type": "stream",
     "text": [
      "/Users/duyennguyen/anaconda3/lib/python3.10/site-packages/umap/distances.py:1063: NumbaDeprecationWarning: The 'nopython' keyword argument was not supplied to the 'numba.jit' decorator. The implicit default value for this argument is currently False, but it will be changed to True in Numba 0.59.0. See https://numba.readthedocs.io/en/stable/reference/deprecation.html#deprecation-of-object-mode-fall-back-behaviour-when-using-jit for details.\n",
      "  @numba.jit()\n",
      "/Users/duyennguyen/anaconda3/lib/python3.10/site-packages/umap/distances.py:1071: NumbaDeprecationWarning: The 'nopython' keyword argument was not supplied to the 'numba.jit' decorator. The implicit default value for this argument is currently False, but it will be changed to True in Numba 0.59.0. See https://numba.readthedocs.io/en/stable/reference/deprecation.html#deprecation-of-object-mode-fall-back-behaviour-when-using-jit for details.\n",
      "  @numba.jit()\n",
      "/Users/duyennguyen/anaconda3/lib/python3.10/site-packages/umap/distances.py:1086: NumbaDeprecationWarning: The 'nopython' keyword argument was not supplied to the 'numba.jit' decorator. The implicit default value for this argument is currently False, but it will be changed to True in Numba 0.59.0. See https://numba.readthedocs.io/en/stable/reference/deprecation.html#deprecation-of-object-mode-fall-back-behaviour-when-using-jit for details.\n",
      "  @numba.jit()\n",
      "/Users/duyennguyen/anaconda3/lib/python3.10/site-packages/umap/umap_.py:660: NumbaDeprecationWarning: The 'nopython' keyword argument was not supplied to the 'numba.jit' decorator. The implicit default value for this argument is currently False, but it will be changed to True in Numba 0.59.0. See https://numba.readthedocs.io/en/stable/reference/deprecation.html#deprecation-of-object-mode-fall-back-behaviour-when-using-jit for details.\n",
      "  @numba.jit()\n",
      "OMP: Info #276: omp_set_nested routine deprecated, please use omp_set_max_active_levels instead.\n"
     ]
    },
    {
     "name": "stdout",
     "output_type": "stream",
     "text": [
      "UMAP( verbose=True)\n",
      "Sat Oct 14 10:10:50 2023 Construct fuzzy simplicial set\n",
      "Sat Oct 14 10:10:50 2023 Finding Nearest Neighbors\n",
      "Sat Oct 14 10:10:50 2023 Building RP forest with 20 trees\n",
      "Sat Oct 14 10:10:53 2023 NN descent for 16 iterations\n",
      "\t 1  /  16\n",
      "\t 2  /  16\n",
      "\t 3  /  16\n",
      "\t 4  /  16\n",
      "\t 5  /  16\n",
      "\tStopping threshold met -- exiting after 5 iterations\n",
      "Sat Oct 14 10:10:59 2023 Finished Nearest Neighbor Search\n",
      "Sat Oct 14 10:11:00 2023 Construct embedding\n"
     ]
    },
    {
     "data": {
      "application/vnd.jupyter.widget-view+json": {
       "model_id": "92bd3bfcad594945a17e9d59d00da93c",
       "version_major": 2,
       "version_minor": 0
      },
      "text/plain": [
       "Epochs completed:   0%|            0/200 [00:00]"
      ]
     },
     "metadata": {},
     "output_type": "display_data"
    },
    {
     "name": "stdout",
     "output_type": "stream",
     "text": [
      "Sat Oct 14 10:11:19 2023 Finished embedding\n"
     ]
    },
    {
     "data": {
      "text/plain": [
       "<fiftyone.brain.visualization.VisualizationResults at 0x298dffd90>"
      ]
     },
     "execution_count": 12,
     "metadata": {},
     "output_type": "execute_result"
    }
   ],
   "source": [
    "# Bạn cần phải cài version umap-learn hỗ trợ.\n",
    "view = fob.compute_visualization(\n",
    "    dataset,\n",
    "    embeddings=clip_embeddings,   # precomputed image embeddings\n",
    "    brain_key=\"img_viz\",          # img_viz, tmp, gt_viz\n",
    "    method=\"umap\",                # umap, tsne, pca\n",
    ")\n"
   ]
  },
  {
   "cell_type": "code",
   "execution_count": 13,
   "id": "d03d00fc",
   "metadata": {},
   "outputs": [
    {
     "data": {
      "text/html": [
       "\n",
       "        <iframe\n",
       "            width=\"100%\"\n",
       "            height=\"800\"\n",
       "            src=\"http://localhost:5151/?notebook=True&subscription=81b65e24-0b27-4eb5-97dd-baffe53bfd65\"\n",
       "            frameborder=\"0\"\n",
       "            allowfullscreen\n",
       "            \n",
       "        ></iframe>\n",
       "        "
      ],
      "text/plain": [
       "<IPython.lib.display.IFrame at 0x291573400>"
      ]
     },
     "metadata": {},
     "output_type": "display_data"
    }
   ],
   "source": [
    "session = fo.launch_app(dataset, port =5151)\n",
    "# session.wait()"
   ]
  },
  {
   "cell_type": "markdown",
   "id": "381972d8",
   "metadata": {
    "id": "381972d8"
   },
   "source": []
  }
 ],
 "metadata": {
  "colab": {
   "provenance": [
    {
     "file_id": "1dQB8kURHKeAc6CZORx2lg5psZfKpgUIT",
     "timestamp": 1693549975977
    }
   ]
  },
  "kernelspec": {
   "display_name": "Python 3 (ipykernel)",
   "language": "python",
   "name": "python3"
  },
  "language_info": {
   "codemirror_mode": {
    "name": "ipython",
    "version": 3
   },
   "file_extension": ".py",
   "mimetype": "text/x-python",
   "name": "python",
   "nbconvert_exporter": "python",
   "pygments_lexer": "ipython3",
   "version": "3.10.9"
  }
 },
 "nbformat": 4,
 "nbformat_minor": 5
}
