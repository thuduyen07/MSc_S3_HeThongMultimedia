{
 "cells": [
  {
   "cell_type": "markdown",
   "id": "defd9da2",
   "metadata": {},
   "source": [
    "### Cài đặt thư viện"
   ]
  },
  {
   "cell_type": "markdown",
   "id": "12e4e5c1",
   "metadata": {},
   "source": [
    "Run these commands in terminal:\n",
    "- brew install wget\n",
    "\n",
    "- wget https://github.com/milvus-io/milvus/releases/download/v2.2.11/milvus-standalone-docker-compose.yml -O docker-compose.yml\n",
    "\n",
    "- docker compose up -d\n"
   ]
  },
  {
   "cell_type": "code",
   "execution_count": null,
   "id": "f5a576d0",
   "metadata": {
    "colab": {
     "base_uri": "https://localhost:8080/"
    },
    "executionInfo": {
     "elapsed": 38205,
     "status": "ok",
     "timestamp": 1693550070344,
     "user": {
      "displayName": "Duyen Nguyen",
      "userId": "05537559569783534217"
     },
     "user_tz": -420
    },
    "id": "f5a576d0",
    "outputId": "9ab47f23-c28c-4a96-8f06-3fc50e3abdb1",
    "scrolled": true
   },
   "outputs": [],
   "source": [
    "! pip install fiftyone==0.21.4\n",
    "! pip install torch torchvision torchaudio\n",
    "! pip install ipywidgets\n",
    "! pip install pymilvus\n",
    "! pip install httpcore==0.17.3\n",
    "! pip install httpx==0.24.1\n",
    "! pip install h11==0.14.0"
   ]
  },
  {
   "cell_type": "code",
   "execution_count": null,
   "id": "357d4489",
   "metadata": {
    "colab": {
     "base_uri": "https://localhost:8080/",
     "height": 385
    },
    "executionInfo": {
     "elapsed": 67062,
     "status": "error",
     "timestamp": 1693550145886,
     "user": {
      "displayName": "Duyen Nguyen",
      "userId": "05537559569783534217"
     },
     "user_tz": -420
    },
    "id": "357d4489",
    "outputId": "6ae1ea87-95f0-4d8d-92b3-c319c10310c0"
   },
   "outputs": [],
   "source": [
    "import fiftyone as fo\n",
    "import fiftyone.brain as fob\n",
    "import numpy as np\n",
    "from glob import glob\n",
    "import json\n",
    "import os"
   ]
  },
  {
   "cell_type": "markdown",
   "id": "c473ab66",
   "metadata": {},
   "source": [
    "### Tải dữ liệu"
   ]
  },
  {
   "cell_type": "code",
   "execution_count": null,
   "id": "9e072688",
   "metadata": {
    "id": "9e072688"
   },
   "outputs": [],
   "source": [
    "# load dataset\n",
    "dataset = fo.Dataset.from_images_dir('/Users/duyennguyen/Downloads/AIC/Batch_01/Keyframes', name=None, tags=None, recursive=True)"
   ]
  },
  {
   "cell_type": "markdown",
   "id": "5c682493",
   "metadata": {},
   "source": [
    "### Tải lại dữ liệu có sẵn"
   ]
  },
  {
   "cell_type": "code",
   "execution_count": null,
   "id": "e24774f1",
   "metadata": {},
   "outputs": [],
   "source": [
    "# # reload dataset from directory if already trained\n",
    "\n",
    "# import fiftyone as fo\n",
    "\n",
    "# # The directory containing the dataset to import\n",
    "# dataset_dir = \"./milvus_index_131023\"\n",
    "\n",
    "# # The type of the dataset being imported\n",
    "# dataset_type = fo.types.FiftyOneDataset  # for example\n",
    "\n",
    "# # Import the dataset\n",
    "# dataset = fo.Dataset.from_dir(\n",
    "#     dataset_dir=dataset_dir,\n",
    "#     dataset_type=dataset_type,\n",
    "# )"
   ]
  },
  {
   "cell_type": "code",
   "execution_count": null,
   "id": "502a52b8",
   "metadata": {},
   "outputs": [],
   "source": [
    "# print(dataset.get_brain_info('milvus_index'))\n",
    "# milvus_index = dataset.load_brain_results('milvus_index')\n",
    "# print(milvus_index)"
   ]
  },
  {
   "cell_type": "markdown",
   "id": "389aa62f",
   "metadata": {},
   "source": [
    "### Kiểm tra dữ liệu đã tải"
   ]
  },
  {
   "cell_type": "code",
   "execution_count": null,
   "id": "5051c64a",
   "metadata": {},
   "outputs": [],
   "source": [
    "print(dataset.first())"
   ]
  },
  {
   "cell_type": "markdown",
   "id": "28298924",
   "metadata": {
    "id": "28298924"
   },
   "source": [
    "### Trích xuất thêm thông tin tên của video và frameid\n",
    "Thông tin `video` và `frameid` sẽ được lấy từ tên của tập tin keyframe."
   ]
  },
  {
   "cell_type": "code",
   "execution_count": null,
   "id": "a8ee02ad",
   "metadata": {
    "id": "a8ee02ad"
   },
   "outputs": [],
   "source": [
    "for sample in dataset:\n",
    "    _, sample['video'], sample['frameid'] = sample['filepath'][:-4].rsplit('/', 2)\n",
    "    sample.save()"
   ]
  },
  {
   "cell_type": "markdown",
   "id": "4309a34f",
   "metadata": {
    "id": "4309a34f"
   },
   "source": [
    "### Thêm thông tin kết quả của object detection."
   ]
  },
  {
   "cell_type": "code",
   "execution_count": null,
   "id": "ad1c4395",
   "metadata": {
    "id": "ad1c4395"
   },
   "outputs": [],
   "source": [
    "for sample in dataset:\n",
    "    object_path = f\"/Users/duyennguyen/Downloads/AIC/Batch_01/objects/{sample['video']}/{sample['frameid']}.json\"\n",
    "    with open(object_path) as jsonfile:\n",
    "        det_data = json.load(jsonfile)\n",
    "    detections = []\n",
    "    for cls, box, score in zip(det_data['detection_class_entities'], det_data['detection_boxes'], det_data['detection_scores']):\n",
    "        # Convert to [top-left-x, top-left-y, width, height]\n",
    "        boxf = [float(box[1]), float(box[0]), float(box[3]) - float(box[1]), float(box[2]) - float(box[0])]\n",
    "        scoref = float(score)\n",
    "\n",
    "        # Only add objects with confidence > 0.4\n",
    "        if scoref > 0.4:\n",
    "            detections.append(\n",
    "                fo.Detection(\n",
    "                    label=cls,\n",
    "                    bounding_box= boxf,\n",
    "                    confidence=float(score)\n",
    "                )\n",
    "            )\n",
    "\n",
    "    sample[\"object_faster_rcnn\"] = fo.Detections(detections=detections)\n",
    "    sample.save()"
   ]
  },
  {
   "cell_type": "markdown",
   "id": "e287dbb4",
   "metadata": {
    "id": "e287dbb4"
   },
   "source": [
    "### Thêm thông tin CLIP embedding."
   ]
  },
  {
   "cell_type": "code",
   "execution_count": null,
   "id": "58d5d9ca",
   "metadata": {
    "id": "58d5d9ca"
   },
   "outputs": [],
   "source": [
    "all_keyframe = glob('/Users/duyennguyen/Downloads/AIC/Batch_01/Keyframes/*/keyframes-*/*/*.jpg')\n",
    "video_keyframe_dict = {}\n",
    "all_video = glob('/Users/duyennguyen/Downloads/AIC/Batch_01/Keyframes/*/keyframes-*/*')\n",
    "all_video = [v.rsplit('/',1)[-1] for v in all_video]"
   ]
  },
  {
   "cell_type": "markdown",
   "id": "cb927629",
   "metadata": {
    "id": "cb927629"
   },
   "source": [
    "Tạo dictionary `video_keyframe_dict` với `video_keyframe_dict[video]` thông tin danh sách `keyframe` của `video`"
   ]
  },
  {
   "cell_type": "code",
   "execution_count": null,
   "id": "f33da133",
   "metadata": {
    "id": "f33da133"
   },
   "outputs": [],
   "source": [
    "for kf in all_keyframe:\n",
    "    _, vid, kf = kf[:-4].rsplit('/',2)\n",
    "    if vid not in video_keyframe_dict.keys():\n",
    "        video_keyframe_dict[vid] = [kf]\n",
    "    else:\n",
    "        video_keyframe_dict[vid].append(kf)"
   ]
  },
  {
   "cell_type": "markdown",
   "id": "faefe0bf",
   "metadata": {
    "id": "faefe0bf"
   },
   "source": [
    "Do thông tin vector CLIP embedding được cung cấp được lưu theo từng video nhầm mục đích tối ưu thời gian đọc dữ liệu. Cần sort lại danh sách `keyframe` của từng `video` để đảm bảo thứ tự đọc đúng với vector embedding được cung cấp."
   ]
  },
  {
   "cell_type": "code",
   "execution_count": null,
   "id": "4b0fad7a",
   "metadata": {
    "id": "4b0fad7a"
   },
   "outputs": [],
   "source": [
    "for k,v in video_keyframe_dict.items():\n",
    "    video_keyframe_dict[k] = sorted(v)"
   ]
  },
  {
   "cell_type": "markdown",
   "id": "9d99d121",
   "metadata": {
    "id": "9d99d121"
   },
   "source": [
    "Tạo dictionary `embedding_dict` với `embedding_dict[video][keyframe]` lưu thông tin vector CLIP embedding của `keyframe` trong `video` tương ứng"
   ]
  },
  {
   "cell_type": "code",
   "execution_count": null,
   "id": "a5d94d7b",
   "metadata": {
    "id": "a5d94d7b"
   },
   "outputs": [],
   "source": [
    "embedding_dict = {}\n",
    "for v in all_video:\n",
    "    clip_path = f'/Users/duyennguyen/Downloads/AIC/Batch_01/clip-features-vit-b32/{v}.npy'\n",
    "    a = np.load(clip_path)\n",
    "    embedding_dict[v] = {}\n",
    "    for i,k in enumerate(video_keyframe_dict[v]):\n",
    "        embedding_dict[v][k] = a[i]"
   ]
  },
  {
   "cell_type": "markdown",
   "id": "5ea0432e",
   "metadata": {
    "id": "5ea0432e"
   },
   "source": [
    "Tạo danh sách `clip_embedding` ứng với danh sách `sample` trong `dataset`."
   ]
  },
  {
   "cell_type": "code",
   "execution_count": null,
   "id": "1ad16b5c",
   "metadata": {
    "id": "1ad16b5c"
   },
   "outputs": [],
   "source": [
    "clip_embeddings = []\n",
    "for sample in dataset:\n",
    "    clip_embedding = embedding_dict[sample['video']][sample['frameid']]\n",
    "    clip_embeddings.append(clip_embedding)\n"
   ]
  },
  {
   "cell_type": "markdown",
   "id": "99535e90",
   "metadata": {},
   "source": [
    "### Xoá brain run nếu gặp lỗi đã tồn tại brain run milvus_index"
   ]
  },
  {
   "cell_type": "code",
   "execution_count": null,
   "id": "9634a825",
   "metadata": {},
   "outputs": [],
   "source": [
    "# # Clean up    \n",
    "# # Delete run record from FiftyOne\n",
    "# # Only need to run when get the error: brainkey 'milvus_index' already exists\n",
    "# dataset.delete_brain_run(\"milvus_index\") # milvus_index, img_sim, tmp"
   ]
  },
  {
   "cell_type": "markdown",
   "id": "85a1c1bd",
   "metadata": {},
   "source": [
    "### Tính độ tương đồng dữ liệu"
   ]
  },
  {
   "cell_type": "code",
   "execution_count": null,
   "id": "655d2feb",
   "metadata": {
    "id": "655d2feb"
   },
   "outputs": [],
   "source": [
    "milvus_index = fob.compute_similarity(\n",
    "\n",
    "    # milvus\n",
    "    dataset,\n",
    "    model=\"clip-vit-base32-torch\",      # store model's name for future use\n",
    "    embeddings=clip_embeddings,         # precomputed image embeddings\n",
    "    backend=\"milvus\",                  # sklearn, qdrant, pinecone, milvus, lancedb\n",
    "    brain_key=\"milvus_index\",                # img_sim, tmp, milvus_index, lancedb_index\n",
    "    uri=\"tcp://localhost:19530\",        # milvus server uri\n",
    "    metric=\"dotproduct\",                 # dotproduct, euclidean\n",
    "    consistency_level=\"Strong\",                # Strong, Session, Bounded, Eventually\n",
    "    # user= \"\",\n",
    "    # password= \"\",\n",
    ")"
   ]
  },
  {
   "cell_type": "code",
   "execution_count": null,
   "id": "ae7e4156",
   "metadata": {},
   "outputs": [],
   "source": [
    "# show the config of the brain\n",
    "print(fob.brain_config)"
   ]
  },
  {
   "cell_type": "markdown",
   "id": "14efba03",
   "metadata": {},
   "source": [
    "### Lưu dữ liệu để dùng lại"
   ]
  },
  {
   "cell_type": "code",
   "execution_count": null,
   "id": "fe6c31d0",
   "metadata": {},
   "outputs": [],
   "source": [
    "# save dataset for reload later\n",
    "dataset.export(\n",
    "    './milvus_index_141023',\n",
    "    dataset_type=fo.types.FiftyOneDataset\n",
    "    )"
   ]
  },
  {
   "cell_type": "markdown",
   "id": "65011d6c",
   "metadata": {},
   "source": [
    "### Thực hiện truy vấn"
   ]
  },
  {
   "cell_type": "code",
   "execution_count": null,
   "id": "2e8346af",
   "metadata": {},
   "outputs": [],
   "source": [
    "# start a session for show result of query below\n",
    "session = fo.launch_app(dataset, port =5152)"
   ]
  },
  {
   "cell_type": "code",
   "execution_count": null,
   "id": "34ec3efa",
   "metadata": {},
   "outputs": [],
   "source": [
    "# Query by vector\n",
    "query = np.random.rand(512)  # matches the dimension of CLIP embeddings\n",
    "view = dataset.sort_by_similarity(query, k=10, brain_key=\"milvus_index\")\n",
    "session.view = view"
   ]
  },
  {
   "cell_type": "code",
   "execution_count": null,
   "id": "ec70e9cf",
   "metadata": {},
   "outputs": [],
   "source": [
    "# Query by sample ID\n",
    "query = dataset.first().id\n",
    "view = dataset.sort_by_similarity(query, k=10, brain_key=\"milvus_index\")\n",
    "session.view = view"
   ]
  },
  {
   "cell_type": "code",
   "execution_count": null,
   "id": "229317bd",
   "metadata": {},
   "outputs": [],
   "source": [
    "# Query by a list of IDs\n",
    "query = [dataset.first().id, dataset.last().id]\n",
    "view = dataset.sort_by_similarity(query, k=10, brain_key=\"milvus_index\")\n",
    "session.view = view"
   ]
  },
  {
   "cell_type": "code",
   "execution_count": null,
   "id": "59c289b3",
   "metadata": {},
   "outputs": [],
   "source": [
    "# Query by text prompt\n",
    "query = \"picture has lotus\"\n",
    "view = dataset.sort_by_similarity(query, k=10, brain_key=\"milvus_index\")\n",
    "session.view = view"
   ]
  },
  {
   "cell_type": "code",
   "execution_count": null,
   "id": "ab2756c7",
   "metadata": {},
   "outputs": [],
   "source": [
    "print(milvus_index.collection)\n",
    "\n",
    "# The Milvus SDK is already initialized for you as well\n",
    "import pymilvus\n",
    "print(pymilvus.utility.list_collections())"
   ]
  },
  {
   "cell_type": "markdown",
   "id": "eba47cfe",
   "metadata": {},
   "source": [
    "### Thêm xoá dữ liệu"
   ]
  },
  {
   "cell_type": "code",
   "execution_count": null,
   "id": "b2baf48c",
   "metadata": {},
   "outputs": [],
   "source": [
    "# # Delete 10 samples from a dataset\n",
    "# dataset.delete_samples(view)\n",
    "\n",
    "# # Delete the corresponding vectors from the index\n",
    "# milvus_index.remove_from_index(sample_ids=ids)\n",
    "\n",
    "# # Add 20 samples to a dataset\n",
    "# samples = [fo.Sample(filepath=\"tmp%d.jpg\" % i) for i in range(20)]\n",
    "# sample_ids = dataset.add_samples(samples)\n",
    "\n",
    "# # Add corresponding embeddings to the index\n",
    "# embeddings = np.random.rand(20, 512)\n",
    "# milvus_index.add_to_index(embeddings, sample_ids)\n",
    "\n",
    "# print(milvus_index.total_index_size)  # 210"
   ]
  }
 ],
 "metadata": {
  "colab": {
   "provenance": [
    {
     "file_id": "1dQB8kURHKeAc6CZORx2lg5psZfKpgUIT",
     "timestamp": 1693549975977
    }
   ]
  },
  "kernelspec": {
   "display_name": "Python 3 (ipykernel)",
   "language": "python",
   "name": "python3"
  },
  "language_info": {
   "codemirror_mode": {
    "name": "ipython",
    "version": 3
   },
   "file_extension": ".py",
   "mimetype": "text/x-python",
   "name": "python",
   "nbconvert_exporter": "python",
   "pygments_lexer": "ipython3",
   "version": "3.10.9"
  }
 },
 "nbformat": 4,
 "nbformat_minor": 5
}
